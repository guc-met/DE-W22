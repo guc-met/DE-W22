{
  "cells": [
    {
      "cell_type": "code",
      "execution_count": 2,
      "metadata": {
        "id": "iBNdPTiDCOhM"
      },
      "outputs": [],
      "source": [
        "import matplotlib.pyplot as plt\n",
        "import seaborn as sns\n",
        "import pandas as pd\n",
        "import numpy as np\n",
        "from matplotlib.ticker import PercentFormatter\n"
      ]
    },
    {
      "cell_type": "markdown",
      "metadata": {
        "id": "TjOvQ6k9WaEM"
      },
      "source": [
        "# Data Visualization II"
      ]
    },
    {
      "cell_type": "markdown",
      "metadata": {
        "id": "XWdSWXJ3Mz5B"
      },
      "source": [
        "## Stacked Area Chart\n"
      ]
    },
    {
      "cell_type": "markdown",
      "metadata": {
        "id": "7wDnrjhQiszu"
      },
      "source": [
        "Used to discover trends and patterns in the data. Appropriate when we want to compare volume among categories. Also, when we have data with at least 3 variables (ex: year, type, number of cars per type)and at least 2 them should be numerical and have an order (year, number of cars per type). Do NOT use area charts when you have more than 6-7 categories. Also, if the category sizes are very similar to each other."
      ]
    },
    {
      "cell_type": "code",
      "execution_count": 3,
      "metadata": {
        "colab": {
          "base_uri": "https://localhost:8080/",
          "height": 1000
        },
        "id": "80BRXDMni3l6",
        "outputId": "c6ee2d08-b92f-451e-c4c8-c7074ba50fdb"
      },
      "outputs": [
        {
          "data": {
            "text/html": [
              "<div>\n",
              "<style scoped>\n",
              "    .dataframe tbody tr th:only-of-type {\n",
              "        vertical-align: middle;\n",
              "    }\n",
              "\n",
              "    .dataframe tbody tr th {\n",
              "        vertical-align: top;\n",
              "    }\n",
              "\n",
              "    .dataframe thead th {\n",
              "        text-align: right;\n",
              "    }\n",
              "</style>\n",
              "<table border=\"1\" class=\"dataframe\">\n",
              "  <thead>\n",
              "    <tr style=\"text-align: right;\">\n",
              "      <th></th>\n",
              "      <th>Year</th>\n",
              "      <th>Gas</th>\n",
              "      <th>Petrol</th>\n",
              "      <th>Diesel</th>\n",
              "      <th>Other</th>\n",
              "    </tr>\n",
              "  </thead>\n",
              "  <tbody>\n",
              "    <tr>\n",
              "      <th>0</th>\n",
              "      <td>1982</td>\n",
              "      <td>0</td>\n",
              "      <td>94</td>\n",
              "      <td>0</td>\n",
              "      <td>0</td>\n",
              "    </tr>\n",
              "    <tr>\n",
              "      <th>1</th>\n",
              "      <td>1983</td>\n",
              "      <td>0</td>\n",
              "      <td>347</td>\n",
              "      <td>0</td>\n",
              "      <td>0</td>\n",
              "    </tr>\n",
              "    <tr>\n",
              "      <th>2</th>\n",
              "      <td>1984</td>\n",
              "      <td>300</td>\n",
              "      <td>0</td>\n",
              "      <td>334</td>\n",
              "      <td>0</td>\n",
              "    </tr>\n",
              "    <tr>\n",
              "      <th>3</th>\n",
              "      <td>1985</td>\n",
              "      <td>1030</td>\n",
              "      <td>1184</td>\n",
              "      <td>984</td>\n",
              "      <td>0</td>\n",
              "    </tr>\n",
              "    <tr>\n",
              "      <th>4</th>\n",
              "      <td>1986</td>\n",
              "      <td>511</td>\n",
              "      <td>681</td>\n",
              "      <td>1066</td>\n",
              "      <td>340</td>\n",
              "    </tr>\n",
              "    <tr>\n",
              "      <th>5</th>\n",
              "      <td>1987</td>\n",
              "      <td>1817</td>\n",
              "      <td>1840</td>\n",
              "      <td>400</td>\n",
              "      <td>940</td>\n",
              "    </tr>\n",
              "    <tr>\n",
              "      <th>6</th>\n",
              "      <td>1988</td>\n",
              "      <td>2999</td>\n",
              "      <td>1882</td>\n",
              "      <td>2060</td>\n",
              "      <td>1</td>\n",
              "    </tr>\n",
              "    <tr>\n",
              "      <th>7</th>\n",
              "      <td>1989</td>\n",
              "      <td>2626</td>\n",
              "      <td>1641</td>\n",
              "      <td>1304</td>\n",
              "      <td>330</td>\n",
              "    </tr>\n",
              "    <tr>\n",
              "      <th>8</th>\n",
              "      <td>1990</td>\n",
              "      <td>1290</td>\n",
              "      <td>3247</td>\n",
              "      <td>1</td>\n",
              "      <td>0</td>\n",
              "    </tr>\n",
              "    <tr>\n",
              "      <th>9</th>\n",
              "      <td>1991</td>\n",
              "      <td>1566</td>\n",
              "      <td>6776</td>\n",
              "      <td>1063</td>\n",
              "      <td>400</td>\n",
              "    </tr>\n",
              "    <tr>\n",
              "      <th>10</th>\n",
              "      <td>1992</td>\n",
              "      <td>2358</td>\n",
              "      <td>1925</td>\n",
              "      <td>2824</td>\n",
              "      <td>350</td>\n",
              "    </tr>\n",
              "    <tr>\n",
              "      <th>11</th>\n",
              "      <td>1993</td>\n",
              "      <td>1231</td>\n",
              "      <td>3375</td>\n",
              "      <td>2302</td>\n",
              "      <td>0</td>\n",
              "    </tr>\n",
              "    <tr>\n",
              "      <th>12</th>\n",
              "      <td>1994</td>\n",
              "      <td>2386</td>\n",
              "      <td>5691</td>\n",
              "      <td>2569</td>\n",
              "      <td>77</td>\n",
              "    </tr>\n",
              "    <tr>\n",
              "      <th>13</th>\n",
              "      <td>1995</td>\n",
              "      <td>2373</td>\n",
              "      <td>5115</td>\n",
              "      <td>4563</td>\n",
              "      <td>666</td>\n",
              "    </tr>\n",
              "    <tr>\n",
              "      <th>14</th>\n",
              "      <td>1996</td>\n",
              "      <td>4264</td>\n",
              "      <td>6792</td>\n",
              "      <td>6996</td>\n",
              "      <td>1235</td>\n",
              "    </tr>\n",
              "    <tr>\n",
              "      <th>15</th>\n",
              "      <td>1997</td>\n",
              "      <td>7031</td>\n",
              "      <td>7336</td>\n",
              "      <td>7877</td>\n",
              "      <td>370</td>\n",
              "    </tr>\n",
              "    <tr>\n",
              "      <th>16</th>\n",
              "      <td>1998</td>\n",
              "      <td>5578</td>\n",
              "      <td>7511</td>\n",
              "      <td>8634</td>\n",
              "      <td>310</td>\n",
              "    </tr>\n",
              "    <tr>\n",
              "      <th>17</th>\n",
              "      <td>1999</td>\n",
              "      <td>4069</td>\n",
              "      <td>6147</td>\n",
              "      <td>16742</td>\n",
              "      <td>1493</td>\n",
              "    </tr>\n",
              "    <tr>\n",
              "      <th>18</th>\n",
              "      <td>2000</td>\n",
              "      <td>6459</td>\n",
              "      <td>10754</td>\n",
              "      <td>23102</td>\n",
              "      <td>531</td>\n",
              "    </tr>\n",
              "    <tr>\n",
              "      <th>19</th>\n",
              "      <td>2001</td>\n",
              "      <td>3932</td>\n",
              "      <td>7590</td>\n",
              "      <td>22115</td>\n",
              "      <td>1029</td>\n",
              "    </tr>\n",
              "    <tr>\n",
              "      <th>20</th>\n",
              "      <td>2002</td>\n",
              "      <td>3375</td>\n",
              "      <td>7069</td>\n",
              "      <td>18144</td>\n",
              "      <td>479</td>\n",
              "    </tr>\n",
              "    <tr>\n",
              "      <th>21</th>\n",
              "      <td>2003</td>\n",
              "      <td>6032</td>\n",
              "      <td>8518</td>\n",
              "      <td>19605</td>\n",
              "      <td>281</td>\n",
              "    </tr>\n",
              "    <tr>\n",
              "      <th>22</th>\n",
              "      <td>2004</td>\n",
              "      <td>8332</td>\n",
              "      <td>7978</td>\n",
              "      <td>17400</td>\n",
              "      <td>1821</td>\n",
              "    </tr>\n",
              "    <tr>\n",
              "      <th>23</th>\n",
              "      <td>2005</td>\n",
              "      <td>5785</td>\n",
              "      <td>7269</td>\n",
              "      <td>23551</td>\n",
              "      <td>1918</td>\n",
              "    </tr>\n",
              "    <tr>\n",
              "      <th>24</th>\n",
              "      <td>2006</td>\n",
              "      <td>6439</td>\n",
              "      <td>12372</td>\n",
              "      <td>18024</td>\n",
              "      <td>1878</td>\n",
              "    </tr>\n",
              "    <tr>\n",
              "      <th>25</th>\n",
              "      <td>2007</td>\n",
              "      <td>10902</td>\n",
              "      <td>21258</td>\n",
              "      <td>24683</td>\n",
              "      <td>1525</td>\n",
              "    </tr>\n",
              "    <tr>\n",
              "      <th>26</th>\n",
              "      <td>2008</td>\n",
              "      <td>12876</td>\n",
              "      <td>22090</td>\n",
              "      <td>25471</td>\n",
              "      <td>1516</td>\n",
              "    </tr>\n",
              "    <tr>\n",
              "      <th>27</th>\n",
              "      <td>2009</td>\n",
              "      <td>2179</td>\n",
              "      <td>5682</td>\n",
              "      <td>10191</td>\n",
              "      <td>1204</td>\n",
              "    </tr>\n",
              "    <tr>\n",
              "      <th>28</th>\n",
              "      <td>2010</td>\n",
              "      <td>2649</td>\n",
              "      <td>7222</td>\n",
              "      <td>13150</td>\n",
              "      <td>442</td>\n",
              "    </tr>\n",
              "    <tr>\n",
              "      <th>29</th>\n",
              "      <td>2011</td>\n",
              "      <td>3893</td>\n",
              "      <td>11628</td>\n",
              "      <td>23221</td>\n",
              "      <td>1688</td>\n",
              "    </tr>\n",
              "    <tr>\n",
              "      <th>30</th>\n",
              "      <td>2012</td>\n",
              "      <td>1899</td>\n",
              "      <td>8763</td>\n",
              "      <td>27958</td>\n",
              "      <td>1736</td>\n",
              "    </tr>\n",
              "    <tr>\n",
              "      <th>31</th>\n",
              "      <td>2013</td>\n",
              "      <td>1055</td>\n",
              "      <td>6517</td>\n",
              "      <td>16255</td>\n",
              "      <td>607</td>\n",
              "    </tr>\n",
              "    <tr>\n",
              "      <th>32</th>\n",
              "      <td>2014</td>\n",
              "      <td>409</td>\n",
              "      <td>1942</td>\n",
              "      <td>4703</td>\n",
              "      <td>329</td>\n",
              "    </tr>\n",
              "    <tr>\n",
              "      <th>33</th>\n",
              "      <td>2015</td>\n",
              "      <td>50</td>\n",
              "      <td>702</td>\n",
              "      <td>1172</td>\n",
              "      <td>125</td>\n",
              "    </tr>\n",
              "    <tr>\n",
              "      <th>34</th>\n",
              "      <td>2016</td>\n",
              "      <td>0</td>\n",
              "      <td>108</td>\n",
              "      <td>220</td>\n",
              "      <td>25</td>\n",
              "    </tr>\n",
              "  </tbody>\n",
              "</table>\n",
              "</div>"
            ],
            "text/plain": [
              "    Year    Gas  Petrol  Diesel  Other\n",
              "0   1982      0      94       0      0\n",
              "1   1983      0     347       0      0\n",
              "2   1984    300       0     334      0\n",
              "3   1985   1030    1184     984      0\n",
              "4   1986    511     681    1066    340\n",
              "5   1987   1817    1840     400    940\n",
              "6   1988   2999    1882    2060      1\n",
              "7   1989   2626    1641    1304    330\n",
              "8   1990   1290    3247       1      0\n",
              "9   1991   1566    6776    1063    400\n",
              "10  1992   2358    1925    2824    350\n",
              "11  1993   1231    3375    2302      0\n",
              "12  1994   2386    5691    2569     77\n",
              "13  1995   2373    5115    4563    666\n",
              "14  1996   4264    6792    6996   1235\n",
              "15  1997   7031    7336    7877    370\n",
              "16  1998   5578    7511    8634    310\n",
              "17  1999   4069    6147   16742   1493\n",
              "18  2000   6459   10754   23102    531\n",
              "19  2001   3932    7590   22115   1029\n",
              "20  2002   3375    7069   18144    479\n",
              "21  2003   6032    8518   19605    281\n",
              "22  2004   8332    7978   17400   1821\n",
              "23  2005   5785    7269   23551   1918\n",
              "24  2006   6439   12372   18024   1878\n",
              "25  2007  10902   21258   24683   1525\n",
              "26  2008  12876   22090   25471   1516\n",
              "27  2009   2179    5682   10191   1204\n",
              "28  2010   2649    7222   13150    442\n",
              "29  2011   3893   11628   23221   1688\n",
              "30  2012   1899    8763   27958   1736\n",
              "31  2013   1055    6517   16255    607\n",
              "32  2014    409    1942    4703    329\n",
              "33  2015     50     702    1172    125\n",
              "34  2016      0     108     220     25"
            ]
          },
          "execution_count": 3,
          "metadata": {},
          "output_type": "execute_result"
        }
      ],
      "source": [
        "df_fuel_engine_types = pd.read_csv(\"./stacked_area_chart_data.csv\")\n",
        "df_fuel_engine_types"
      ]
    },
    {
      "cell_type": "code",
      "execution_count": 4,
      "metadata": {
        "colab": {
          "base_uri": "https://localhost:8080/",
          "height": 405
        },
        "id": "L1D8LIrNM2N2",
        "outputId": "03e4ac69-6274-4ef7-f7f1-21a03c1d6fd2"
      },
      "outputs": [
        {
          "data": {
            "image/png": "[encoded data removed]",
            "text/plain": [
              "<Figure size 864x432 with 1 Axes>"
            ]
          },
          "metadata": {
            "needs_background": "light"
          },
          "output_type": "display_data"
        }
      ],
      "source": [
        "colors = [\"#011638\", \"#7e2987\", \"#ef2026\"] #usually you'd like to use your organization's colors\n",
        "labels = [\"Diesel\", \"Petrol\", \"Gas\"] #labels for the legend\n",
        "plt.figure(figsize=(12,6))\n",
        "plt.stackplot(df_fuel_engine_types[\"Year\"], \n",
        "              df_fuel_engine_types[\"Diesel\"],\n",
        "              df_fuel_engine_types[\"Petrol\"],\n",
        "              df_fuel_engine_types[\"Gas\"],\n",
        "              colors=colors,edgecolor='none') #to remove edges between the stacked areas\n",
        "plt.xticks(df_fuel_engine_types[\"Year\"], rotation=45) #specify xticks to have all the years on the x-axis\n",
        "plt.legend(labels=labels, loc=\"upper left\")\n",
        "plt.ylabel(\"Number of Cars\", fontsize=13)\n",
        "plt.title(\"Popularity of Engine Fuel Types (1982-2016)\", fontsize=14, weight=\"bold\")\n",
        "sns.despine() #remove the right and upper edges of the graph\n",
        "plt.show()"
      ]
    },
    {
      "cell_type": "markdown",
      "metadata": {
        "id": "xRO1dFQJjNdr"
      },
      "source": [
        "Make sure to format the graph to make the information you want to convey clear. Compare between the graphs above and below."
      ]
    },
    {
      "cell_type": "code",
      "execution_count": 7,
      "metadata": {
        "colab": {
          "base_uri": "https://localhost:8080/",
          "height": 317
        },
        "id": "3kOr6XsJjLSD",
        "outputId": "35114a34-5c1b-4dc3-f47f-97d6bc885d62"
      },
      "outputs": [
        {
          "data": {
            "text/plain": [
              "[<matplotlib.collections.PolyCollection at 0x7f7df4804b70>,\n",
              " <matplotlib.collections.PolyCollection at 0x7f7df4804e48>,\n",
              " <matplotlib.collections.PolyCollection at 0x7f7df480f128>]"
            ]
          },
          "execution_count": 7,
          "metadata": {},
          "output_type": "execute_result"
        },
        {
          "data": {
            "image/png": "[encoded data removed]",
            "text/plain": [
              "<Figure size 432x288 with 1 Axes>"
            ]
          },
          "metadata": {
            "needs_background": "light"
          },
          "output_type": "display_data"
        }
      ],
      "source": [
        "plt.stackplot(df_fuel_engine_types[\"Year\"], \n",
        "              df_fuel_engine_types[\"Diesel\"],\n",
        "              df_fuel_engine_types[\"Petrol\"],\n",
        "              df_fuel_engine_types[\"Gas\"])"
      ]
    },
    {
      "cell_type": "markdown",
      "metadata": {
        "id": "qwbBbv1XMvQQ"
      },
      "source": [
        "## Line and Bar Chart"
      ]
    },
    {
      "cell_type": "markdown",
      "metadata": {
        "id": "SZg2LHbglpJs"
      },
      "source": [
        "This chart has dual y axes. The left y-axis is the primary one and it refers to the bars. It displays the number of occurrences. The right y-axis is the secondary one and it refers to the line chart. It is used to display percentages."
      ]
    },
    {
      "cell_type": "code",
      "execution_count": 8,
      "metadata": {
        "colab": {
          "base_uri": "https://localhost:8080/",
          "height": 294
        },
        "id": "M4zeSRcpWVMO",
        "outputId": "de1bc5b5-601a-4df5-d26a-1c6b5ea58cc3"
      },
      "outputs": [
        {
          "data": {
            "text/html": [
              "<div>\n",
              "<style scoped>\n",
              "    .dataframe tbody tr th:only-of-type {\n",
              "        vertical-align: middle;\n",
              "    }\n",
              "\n",
              "    .dataframe tbody tr th {\n",
              "        vertical-align: top;\n",
              "    }\n",
              "\n",
              "    .dataframe thead th {\n",
              "        text-align: right;\n",
              "    }\n",
              "</style>\n",
              "<table border=\"1\" class=\"dataframe\">\n",
              "  <thead>\n",
              "    <tr style=\"text-align: right;\">\n",
              "      <th></th>\n",
              "      <th>Year</th>\n",
              "      <th>Python Users</th>\n",
              "      <th>Participants</th>\n",
              "    </tr>\n",
              "  </thead>\n",
              "  <tbody>\n",
              "    <tr>\n",
              "      <th>0</th>\n",
              "      <td>2012</td>\n",
              "      <td>0.149</td>\n",
              "      <td>798</td>\n",
              "    </tr>\n",
              "    <tr>\n",
              "      <th>1</th>\n",
              "      <td>2013</td>\n",
              "      <td>0.133</td>\n",
              "      <td>1880</td>\n",
              "    </tr>\n",
              "    <tr>\n",
              "      <th>2</th>\n",
              "      <td>2014</td>\n",
              "      <td>0.195</td>\n",
              "      <td>3285</td>\n",
              "    </tr>\n",
              "    <tr>\n",
              "      <th>3</th>\n",
              "      <td>2015</td>\n",
              "      <td>0.303</td>\n",
              "      <td>2800</td>\n",
              "    </tr>\n",
              "    <tr>\n",
              "      <th>4</th>\n",
              "      <td>2016</td>\n",
              "      <td>0.458</td>\n",
              "      <td>2895</td>\n",
              "    </tr>\n",
              "    <tr>\n",
              "      <th>5</th>\n",
              "      <td>2017</td>\n",
              "      <td>0.526</td>\n",
              "      <td>2900</td>\n",
              "    </tr>\n",
              "    <tr>\n",
              "      <th>6</th>\n",
              "      <td>2018</td>\n",
              "      <td>0.656</td>\n",
              "      <td>2300</td>\n",
              "    </tr>\n",
              "    <tr>\n",
              "      <th>7</th>\n",
              "      <td>2019</td>\n",
              "      <td>0.658</td>\n",
              "      <td>1800</td>\n",
              "    </tr>\n",
              "  </tbody>\n",
              "</table>\n",
              "</div>"
            ],
            "text/plain": [
              "   Year  Python Users  Participants\n",
              "0  2012         0.149           798\n",
              "1  2013         0.133          1880\n",
              "2  2014         0.195          3285\n",
              "3  2015         0.303          2800\n",
              "4  2016         0.458          2895\n",
              "5  2017         0.526          2900\n",
              "6  2018         0.656          2300\n",
              "7  2019         0.658          1800"
            ]
          },
          "execution_count": 8,
          "metadata": {},
          "output_type": "execute_result"
        }
      ],
      "source": [
        "df_kd_nuggets = pd.read_csv(\"./bar_line_chart_data.csv\")\n",
        "df_kd_nuggets"
      ]
    },
    {
      "cell_type": "code",
      "execution_count": 10,
      "metadata": {
        "colab": {
          "base_uri": "https://localhost:8080/",
          "height": 462
        },
        "id": "iL9b5i0fksrg",
        "outputId": "95daa727-1331-4db9-ea48-22c141bdeeba"
      },
      "outputs": [
        {
          "data": {
            "text/plain": [
              "Text(0.5,1,'KD Nuggets Survey Python Users (2012-2019)')"
            ]
          },
          "execution_count": 10,
          "metadata": {},
          "output_type": "execute_result"
        },
        {
          "data": {
            "image/png": "[encoded data removed]",
            "text/plain": [
              "<Figure size 720x504 with 2 Axes>"
            ]
          },
          "metadata": {
            "needs_background": "light"
          },
          "output_type": "display_data"
        }
      ],
      "source": [
        "fig, ax = plt.subplots(figsize=(10,7)) #the figure is the complete figure which encompasses all elements in the chart. the axes is the actual plot we are creating. a figure can contain multiple axes.\n",
        "ax.bar(df_kd_nuggets[\"Year\"], \n",
        "       df_kd_nuggets[\"Participants\"],\n",
        "       color=\"k\")\n",
        "ax.set_ylabel(\"Number of Participants\",\n",
        "              weight=\"bold\")\n",
        "ax.tick_params(axis=\"y\",\n",
        "                width=2,\n",
        "                labelsize=\"large\")\n",
        "ax1 = ax.twinx() #means that ax and ax1 will have a twin x-axis\n",
        "ax1.set_ylim(0,1) #to make the y-axis show values from 0 to 100\n",
        "ax1.yaxis.set_major_formatter(PercentFormatter(xmax=1.0)) # to make the secondary y-axis in percentage instead of decimal\n",
        "ax1.plot(df_kd_nuggets[\"Year\"],\n",
        "         df_kd_nuggets[\"Python Users\"], \n",
        "         color=\"#b60000\", #hex code for dark red\n",
        "         marker=\"D\") #diamond shape for markers\n",
        "ax1.set_ylabel(\"Python Users\",\n",
        "               color=\"#b60000\",\n",
        "               weight=\"bold\")\n",
        "ax1.tick_params(axis=\"y\",\n",
        "               colors=\"#b60000\",\n",
        "                width=2,\n",
        "                labelsize=\"large\")\n",
        "ax.set_title(\"KD Nuggets Survey Python Users (2012-2019)\",\n",
        "             fontsize=14,\n",
        "             weight=\"bold\") #ax1.set_title() will work as well since they share the same figure"
      ]
    },
    {
      "cell_type": "markdown",
      "metadata": {
        "id": "nxS4bLI6lAJM"
      },
      "source": [
        "Without formatting:"
      ]
    },
    {
      "cell_type": "code",
      "execution_count": 11,
      "metadata": {
        "colab": {
          "base_uri": "https://localhost:8080/",
          "height": 282
        },
        "id": "ISo2igPSk_3A",
        "outputId": "5f768518-a339-40c0-81ab-778dd99c732b"
      },
      "outputs": [
        {
          "data": {
            "text/plain": [
              "[<matplotlib.lines.Line2D at 0x7f7df489fda0>]"
            ]
          },
          "execution_count": 11,
          "metadata": {},
          "output_type": "execute_result"
        },
        {
          "data": {
            "image/png": "[encoded data removed]",
            "text/plain": [
              "<Figure size 432x288 with 2 Axes>"
            ]
          },
          "metadata": {
            "needs_background": "light"
          },
          "output_type": "display_data"
        }
      ],
      "source": [
        "fig, ax = plt.subplots() #the figure is the complete figure which encompasses all elements in the chart. the axes is the actual plot we are creating. a figure can contain multiple axes.\n",
        "ax.bar(df_kd_nuggets[\"Year\"], \n",
        "       df_kd_nuggets[\"Participants\"])\n",
        "\n",
        "ax1 = ax.twinx() #means that ax and ax1 will have a twin x-axis\n",
        "\n",
        "ax1.plot(df_kd_nuggets[\"Year\"],\n",
        "         df_kd_nuggets[\"Python Users\"])#diamond shape for markers\n"
      ]
    },
    {
      "cell_type": "markdown",
      "metadata": {
        "id": "aEvwBFX7M4e2"
      },
      "source": [
        "# Data Cleaning"
      ]
    },
    {
      "cell_type": "markdown",
      "metadata": {
        "id": "4ULZvn5uTjKs"
      },
      "source": [
        "Examples of data cleaning include cleaning:\n",
        "\n",
        "1.   **Missing Data**\n",
        "2.   **Irregular Data** (Outliers)\n",
        "3.   **Unnecessary Data** — Repetitive Data, Duplicates and more\n",
        "4.   **Inconsistent Data** — Capitalization, Addresses and more"
      ]
    },
    {
      "cell_type": "markdown",
      "metadata": {
        "id": "-9EwI3L4n4b5"
      },
      "source": [
        "Almost any dataset that you are going to be working with is going to have missing data. So learning how to deal with missing values is essential. "
      ]
    },
    {
      "cell_type": "markdown",
      "metadata": {
        "id": "3Yfv9n4ppSE5"
      },
      "source": [
        "Let's start with a small toy datset."
      ]
    },
    {
      "cell_type": "code",
      "execution_count": 12,
      "metadata": {
        "id": "_ZeDcUWSM5bI"
      },
      "outputs": [],
      "source": [
        "people = {\n",
        "    'first': ['Corey', 'Jane', 'John', 'Chris', np.nan, None, 'NA'], \n",
        "    'last': ['Schafer', 'Doe', 'Doe', 'Schafer', np.nan, np.nan, 'Missing'], \n",
        "    'email': ['CoreyMSchafer@gmail.com', 'JaneDoe@email.com', 'JohnDoe@email.com', None, np.nan, 'Anonymous@email.com', 'NA'],\n",
        "    'age': ['33', '55', '63', '36', None, None, 'Missing']\n",
        "}"
      ]
    },
    {
      "cell_type": "code",
      "execution_count": 16,
      "metadata": {
        "colab": {
          "base_uri": "https://localhost:8080/",
          "height": 263
        },
        "id": "IjAAjEqwpZs3",
        "outputId": "4ea25e8a-c97a-4215-dd06-f574dbe9b2c8"
      },
      "outputs": [
        {
          "data": {
            "text/html": [
              "<div>\n",
              "<style scoped>\n",
              "    .dataframe tbody tr th:only-of-type {\n",
              "        vertical-align: middle;\n",
              "    }\n",
              "\n",
              "    .dataframe tbody tr th {\n",
              "        vertical-align: top;\n",
              "    }\n",
              "\n",
              "    .dataframe thead th {\n",
              "        text-align: right;\n",
              "    }\n",
              "</style>\n",
              "<table border=\"1\" class=\"dataframe\">\n",
              "  <thead>\n",
              "    <tr style=\"text-align: right;\">\n",
              "      <th></th>\n",
              "      <th>first</th>\n",
              "      <th>last</th>\n",
              "      <th>email</th>\n",
              "      <th>age</th>\n",
              "    </tr>\n",
              "  </thead>\n",
              "  <tbody>\n",
              "    <tr>\n",
              "      <th>0</th>\n",
              "      <td>Corey</td>\n",
              "      <td>Schafer</td>\n",
              "      <td>CoreyMSchafer@gmail.com</td>\n",
              "      <td>33</td>\n",
              "    </tr>\n",
              "    <tr>\n",
              "      <th>1</th>\n",
              "      <td>Jane</td>\n",
              "      <td>Doe</td>\n",
              "      <td>JaneDoe@email.com</td>\n",
              "      <td>55</td>\n",
              "    </tr>\n",
              "    <tr>\n",
              "      <th>2</th>\n",
              "      <td>John</td>\n",
              "      <td>Doe</td>\n",
              "      <td>JohnDoe@email.com</td>\n",
              "      <td>63</td>\n",
              "    </tr>\n",
              "    <tr>\n",
              "      <th>3</th>\n",
              "      <td>Chris</td>\n",
              "      <td>Schafer</td>\n",
              "      <td>None</td>\n",
              "      <td>36</td>\n",
              "    </tr>\n",
              "    <tr>\n",
              "      <th>4</th>\n",
              "      <td>NaN</td>\n",
              "      <td>NaN</td>\n",
              "      <td>NaN</td>\n",
              "      <td>None</td>\n",
              "    </tr>\n",
              "    <tr>\n",
              "      <th>5</th>\n",
              "      <td>None</td>\n",
              "      <td>NaN</td>\n",
              "      <td>Anonymous@email.com</td>\n",
              "      <td>None</td>\n",
              "    </tr>\n",
              "    <tr>\n",
              "      <th>6</th>\n",
              "      <td>NA</td>\n",
              "      <td>Missing</td>\n",
              "      <td>NA</td>\n",
              "      <td>Missing</td>\n",
              "    </tr>\n",
              "  </tbody>\n",
              "</table>\n",
              "</div>"
            ],
            "text/plain": [
              "   first     last                    email      age\n",
              "0  Corey  Schafer  CoreyMSchafer@gmail.com       33\n",
              "1   Jane      Doe        JaneDoe@email.com       55\n",
              "2   John      Doe        JohnDoe@email.com       63\n",
              "3  Chris  Schafer                     None       36\n",
              "4    NaN      NaN                      NaN     None\n",
              "5   None      NaN      Anonymous@email.com     None\n",
              "6     NA  Missing                       NA  Missing"
            ]
          },
          "execution_count": 16,
          "metadata": {},
          "output_type": "execute_result"
        }
      ],
      "source": [
        "df_people = pd.DataFrame(people)\n",
        "df_people"
      ]
    },
    {
      "cell_type": "markdown",
      "metadata": {
        "id": "9vSunh84zMO5"
      },
      "source": [
        "## Dropping Missing Values"
      ]
    },
    {
      "cell_type": "markdown",
      "metadata": {
        "id": "ZfJ7YkkWqE9i"
      },
      "source": [
        "As we can see we have missing values in our data. Depending on what you want to do with the data, you will handle the missing values in different ways. One thing that you might want to do is to simply remove the data. In order to do that, we can use the `dropna()` method."
      ]
    },
    {
      "cell_type": "code",
      "execution_count": 17,
      "metadata": {
        "colab": {
          "base_uri": "https://localhost:8080/",
          "height": 171
        },
        "id": "zZ-kk910pzvA",
        "outputId": "840b789e-39db-4f78-f574-e58f365fa38d"
      },
      "outputs": [
        {
          "data": {
            "text/html": [
              "<div>\n",
              "<style scoped>\n",
              "    .dataframe tbody tr th:only-of-type {\n",
              "        vertical-align: middle;\n",
              "    }\n",
              "\n",
              "    .dataframe tbody tr th {\n",
              "        vertical-align: top;\n",
              "    }\n",
              "\n",
              "    .dataframe thead th {\n",
              "        text-align: right;\n",
              "    }\n",
              "</style>\n",
              "<table border=\"1\" class=\"dataframe\">\n",
              "  <thead>\n",
              "    <tr style=\"text-align: right;\">\n",
              "      <th></th>\n",
              "      <th>first</th>\n",
              "      <th>last</th>\n",
              "      <th>email</th>\n",
              "      <th>age</th>\n",
              "    </tr>\n",
              "  </thead>\n",
              "  <tbody>\n",
              "    <tr>\n",
              "      <th>0</th>\n",
              "      <td>Corey</td>\n",
              "      <td>Schafer</td>\n",
              "      <td>CoreyMSchafer@gmail.com</td>\n",
              "      <td>33</td>\n",
              "    </tr>\n",
              "    <tr>\n",
              "      <th>1</th>\n",
              "      <td>Jane</td>\n",
              "      <td>Doe</td>\n",
              "      <td>JaneDoe@email.com</td>\n",
              "      <td>55</td>\n",
              "    </tr>\n",
              "    <tr>\n",
              "      <th>2</th>\n",
              "      <td>John</td>\n",
              "      <td>Doe</td>\n",
              "      <td>JohnDoe@email.com</td>\n",
              "      <td>63</td>\n",
              "    </tr>\n",
              "    <tr>\n",
              "      <th>6</th>\n",
              "      <td>NA</td>\n",
              "      <td>Missing</td>\n",
              "      <td>NA</td>\n",
              "      <td>Missing</td>\n",
              "    </tr>\n",
              "  </tbody>\n",
              "</table>\n",
              "</div>"
            ],
            "text/plain": [
              "   first     last                    email      age\n",
              "0  Corey  Schafer  CoreyMSchafer@gmail.com       33\n",
              "1   Jane      Doe        JaneDoe@email.com       55\n",
              "2   John      Doe        JohnDoe@email.com       63\n",
              "6     NA  Missing                       NA  Missing"
            ]
          },
          "execution_count": 17,
          "metadata": {},
          "output_type": "execute_result"
        }
      ],
      "source": [
        "df_people.dropna() #default arguments: axis='index' (means drop the rows that have missing values), how='any' (drop if any of the values on the specified axis is missing)"
      ]
    },
    {
      "cell_type": "markdown",
      "metadata": {
        "id": "gz8ryGzRqnYB"
      },
      "source": [
        "Another way we can do this is by dropping the rows that have **all** of the values missing."
      ]
    },
    {
      "cell_type": "code",
      "execution_count": 18,
      "metadata": {
        "colab": {
          "base_uri": "https://localhost:8080/",
          "height": 232
        },
        "id": "Tp-eZ1hLqigN",
        "outputId": "6ff5467d-5277-4d67-d753-9b4077721c4f"
      },
      "outputs": [
        {
          "data": {
            "text/html": [
              "<div>\n",
              "<style scoped>\n",
              "    .dataframe tbody tr th:only-of-type {\n",
              "        vertical-align: middle;\n",
              "    }\n",
              "\n",
              "    .dataframe tbody tr th {\n",
              "        vertical-align: top;\n",
              "    }\n",
              "\n",
              "    .dataframe thead th {\n",
              "        text-align: right;\n",
              "    }\n",
              "</style>\n",
              "<table border=\"1\" class=\"dataframe\">\n",
              "  <thead>\n",
              "    <tr style=\"text-align: right;\">\n",
              "      <th></th>\n",
              "      <th>first</th>\n",
              "      <th>last</th>\n",
              "      <th>email</th>\n",
              "      <th>age</th>\n",
              "    </tr>\n",
              "  </thead>\n",
              "  <tbody>\n",
              "    <tr>\n",
              "      <th>0</th>\n",
              "      <td>Corey</td>\n",
              "      <td>Schafer</td>\n",
              "      <td>CoreyMSchafer@gmail.com</td>\n",
              "      <td>33</td>\n",
              "    </tr>\n",
              "    <tr>\n",
              "      <th>1</th>\n",
              "      <td>Jane</td>\n",
              "      <td>Doe</td>\n",
              "      <td>JaneDoe@email.com</td>\n",
              "      <td>55</td>\n",
              "    </tr>\n",
              "    <tr>\n",
              "      <th>2</th>\n",
              "      <td>John</td>\n",
              "      <td>Doe</td>\n",
              "      <td>JohnDoe@email.com</td>\n",
              "      <td>63</td>\n",
              "    </tr>\n",
              "    <tr>\n",
              "      <th>3</th>\n",
              "      <td>Chris</td>\n",
              "      <td>Schafer</td>\n",
              "      <td>None</td>\n",
              "      <td>36</td>\n",
              "    </tr>\n",
              "    <tr>\n",
              "      <th>5</th>\n",
              "      <td>None</td>\n",
              "      <td>NaN</td>\n",
              "      <td>Anonymous@email.com</td>\n",
              "      <td>None</td>\n",
              "    </tr>\n",
              "    <tr>\n",
              "      <th>6</th>\n",
              "      <td>NA</td>\n",
              "      <td>Missing</td>\n",
              "      <td>NA</td>\n",
              "      <td>Missing</td>\n",
              "    </tr>\n",
              "  </tbody>\n",
              "</table>\n",
              "</div>"
            ],
            "text/plain": [
              "   first     last                    email      age\n",
              "0  Corey  Schafer  CoreyMSchafer@gmail.com       33\n",
              "1   Jane      Doe        JaneDoe@email.com       55\n",
              "2   John      Doe        JohnDoe@email.com       63\n",
              "3  Chris  Schafer                     None       36\n",
              "5   None      NaN      Anonymous@email.com     None\n",
              "6     NA  Missing                       NA  Missing"
            ]
          },
          "execution_count": 18,
          "metadata": {},
          "output_type": "execute_result"
        }
      ],
      "source": [
        "df_people.dropna(how='all')"
      ]
    },
    {
      "cell_type": "markdown",
      "metadata": {
        "id": "FyebbFUgr3xb"
      },
      "source": [
        "Also we can drop columns by specifying `axis='columns'`"
      ]
    },
    {
      "cell_type": "code",
      "execution_count": 19,
      "metadata": {
        "colab": {
          "base_uri": "https://localhost:8080/",
          "height": 263
        },
        "id": "5RvbdHqwrrT-",
        "outputId": "b0fb3c0f-26a6-46f5-ddec-e0056730313a"
      },
      "outputs": [
        {
          "data": {
            "text/html": [
              "<div>\n",
              "<style scoped>\n",
              "    .dataframe tbody tr th:only-of-type {\n",
              "        vertical-align: middle;\n",
              "    }\n",
              "\n",
              "    .dataframe tbody tr th {\n",
              "        vertical-align: top;\n",
              "    }\n",
              "\n",
              "    .dataframe thead th {\n",
              "        text-align: right;\n",
              "    }\n",
              "</style>\n",
              "<table border=\"1\" class=\"dataframe\">\n",
              "  <thead>\n",
              "    <tr style=\"text-align: right;\">\n",
              "      <th></th>\n",
              "      <th>first</th>\n",
              "      <th>last</th>\n",
              "      <th>email</th>\n",
              "      <th>age</th>\n",
              "    </tr>\n",
              "  </thead>\n",
              "  <tbody>\n",
              "    <tr>\n",
              "      <th>0</th>\n",
              "      <td>Corey</td>\n",
              "      <td>Schafer</td>\n",
              "      <td>CoreyMSchafer@gmail.com</td>\n",
              "      <td>33</td>\n",
              "    </tr>\n",
              "    <tr>\n",
              "      <th>1</th>\n",
              "      <td>Jane</td>\n",
              "      <td>Doe</td>\n",
              "      <td>JaneDoe@email.com</td>\n",
              "      <td>55</td>\n",
              "    </tr>\n",
              "    <tr>\n",
              "      <th>2</th>\n",
              "      <td>John</td>\n",
              "      <td>Doe</td>\n",
              "      <td>JohnDoe@email.com</td>\n",
              "      <td>63</td>\n",
              "    </tr>\n",
              "    <tr>\n",
              "      <th>3</th>\n",
              "      <td>Chris</td>\n",
              "      <td>Schafer</td>\n",
              "      <td>None</td>\n",
              "      <td>36</td>\n",
              "    </tr>\n",
              "    <tr>\n",
              "      <th>4</th>\n",
              "      <td>NaN</td>\n",
              "      <td>NaN</td>\n",
              "      <td>NaN</td>\n",
              "      <td>None</td>\n",
              "    </tr>\n",
              "    <tr>\n",
              "      <th>5</th>\n",
              "      <td>None</td>\n",
              "      <td>NaN</td>\n",
              "      <td>Anonymous@email.com</td>\n",
              "      <td>None</td>\n",
              "    </tr>\n",
              "    <tr>\n",
              "      <th>6</th>\n",
              "      <td>NA</td>\n",
              "      <td>Missing</td>\n",
              "      <td>NA</td>\n",
              "      <td>Missing</td>\n",
              "    </tr>\n",
              "  </tbody>\n",
              "</table>\n",
              "</div>"
            ],
            "text/plain": [
              "   first     last                    email      age\n",
              "0  Corey  Schafer  CoreyMSchafer@gmail.com       33\n",
              "1   Jane      Doe        JaneDoe@email.com       55\n",
              "2   John      Doe        JohnDoe@email.com       63\n",
              "3  Chris  Schafer                     None       36\n",
              "4    NaN      NaN                      NaN     None\n",
              "5   None      NaN      Anonymous@email.com     None\n",
              "6     NA  Missing                       NA  Missing"
            ]
          },
          "execution_count": 19,
          "metadata": {},
          "output_type": "execute_result"
        }
      ],
      "source": [
        "df_people.dropna(axis='columns',how='all')"
      ]
    },
    {
      "cell_type": "markdown",
      "metadata": {
        "id": "vZ6LUkoEsaqp"
      },
      "source": [
        "We get the entire dataframe because we have no columns with all missing values."
      ]
    },
    {
      "cell_type": "markdown",
      "metadata": {
        "id": "GGduAyA5sn9I"
      },
      "source": [
        "Another thing we can do is to drop rows when there is a specific column missing. For example, assume that you are doing some analysis on the dataframe above and it's okay to have missing first, last names or email but we need the age to be there. We can specify that when dropping null values by using the `subset` argument and passing a list of columns that we want to look for nulls in."
      ]
    },
    {
      "cell_type": "code",
      "execution_count": 20,
      "metadata": {
        "colab": {
          "base_uri": "https://localhost:8080/",
          "height": 202
        },
        "id": "ue0JYqqgsQ41",
        "outputId": "b7a11477-1dfc-4871-8e4a-6f023859b4f6"
      },
      "outputs": [
        {
          "data": {
            "text/html": [
              "<div>\n",
              "<style scoped>\n",
              "    .dataframe tbody tr th:only-of-type {\n",
              "        vertical-align: middle;\n",
              "    }\n",
              "\n",
              "    .dataframe tbody tr th {\n",
              "        vertical-align: top;\n",
              "    }\n",
              "\n",
              "    .dataframe thead th {\n",
              "        text-align: right;\n",
              "    }\n",
              "</style>\n",
              "<table border=\"1\" class=\"dataframe\">\n",
              "  <thead>\n",
              "    <tr style=\"text-align: right;\">\n",
              "      <th></th>\n",
              "      <th>first</th>\n",
              "      <th>last</th>\n",
              "      <th>email</th>\n",
              "      <th>age</th>\n",
              "    </tr>\n",
              "  </thead>\n",
              "  <tbody>\n",
              "    <tr>\n",
              "      <th>0</th>\n",
              "      <td>Corey</td>\n",
              "      <td>Schafer</td>\n",
              "      <td>CoreyMSchafer@gmail.com</td>\n",
              "      <td>33</td>\n",
              "    </tr>\n",
              "    <tr>\n",
              "      <th>1</th>\n",
              "      <td>Jane</td>\n",
              "      <td>Doe</td>\n",
              "      <td>JaneDoe@email.com</td>\n",
              "      <td>55</td>\n",
              "    </tr>\n",
              "    <tr>\n",
              "      <th>2</th>\n",
              "      <td>John</td>\n",
              "      <td>Doe</td>\n",
              "      <td>JohnDoe@email.com</td>\n",
              "      <td>63</td>\n",
              "    </tr>\n",
              "    <tr>\n",
              "      <th>3</th>\n",
              "      <td>Chris</td>\n",
              "      <td>Schafer</td>\n",
              "      <td>None</td>\n",
              "      <td>36</td>\n",
              "    </tr>\n",
              "    <tr>\n",
              "      <th>6</th>\n",
              "      <td>NA</td>\n",
              "      <td>Missing</td>\n",
              "      <td>NA</td>\n",
              "      <td>Missing</td>\n",
              "    </tr>\n",
              "  </tbody>\n",
              "</table>\n",
              "</div>"
            ],
            "text/plain": [
              "   first     last                    email      age\n",
              "0  Corey  Schafer  CoreyMSchafer@gmail.com       33\n",
              "1   Jane      Doe        JaneDoe@email.com       55\n",
              "2   John      Doe        JohnDoe@email.com       63\n",
              "3  Chris  Schafer                     None       36\n",
              "6     NA  Missing                       NA  Missing"
            ]
          },
          "execution_count": 20,
          "metadata": {},
          "output_type": "execute_result"
        }
      ],
      "source": [
        "df_people.dropna(axis='index', subset=['age'])"
      ]
    },
    {
      "cell_type": "markdown",
      "metadata": {
        "id": "Uy0hZpEvuBeN"
      },
      "source": [
        "Or maybe you want either the first name or last name to be present but it's okay if one of them is missing."
      ]
    },
    {
      "cell_type": "code",
      "execution_count": 23,
      "metadata": {
        "colab": {
          "base_uri": "https://localhost:8080/",
          "height": 202
        },
        "id": "xjOJopdxtJFg",
        "outputId": "25b67dcd-81f9-4d12-ef19-e05952650d8a"
      },
      "outputs": [
        {
          "data": {
            "text/html": [
              "<div>\n",
              "<style scoped>\n",
              "    .dataframe tbody tr th:only-of-type {\n",
              "        vertical-align: middle;\n",
              "    }\n",
              "\n",
              "    .dataframe tbody tr th {\n",
              "        vertical-align: top;\n",
              "    }\n",
              "\n",
              "    .dataframe thead th {\n",
              "        text-align: right;\n",
              "    }\n",
              "</style>\n",
              "<table border=\"1\" class=\"dataframe\">\n",
              "  <thead>\n",
              "    <tr style=\"text-align: right;\">\n",
              "      <th></th>\n",
              "      <th>first</th>\n",
              "      <th>last</th>\n",
              "      <th>email</th>\n",
              "      <th>age</th>\n",
              "    </tr>\n",
              "  </thead>\n",
              "  <tbody>\n",
              "    <tr>\n",
              "      <th>0</th>\n",
              "      <td>Corey</td>\n",
              "      <td>Schafer</td>\n",
              "      <td>CoreyMSchafer@gmail.com</td>\n",
              "      <td>33</td>\n",
              "    </tr>\n",
              "    <tr>\n",
              "      <th>1</th>\n",
              "      <td>Jane</td>\n",
              "      <td>Doe</td>\n",
              "      <td>JaneDoe@email.com</td>\n",
              "      <td>55</td>\n",
              "    </tr>\n",
              "    <tr>\n",
              "      <th>2</th>\n",
              "      <td>John</td>\n",
              "      <td>Doe</td>\n",
              "      <td>JohnDoe@email.com</td>\n",
              "      <td>63</td>\n",
              "    </tr>\n",
              "    <tr>\n",
              "      <th>3</th>\n",
              "      <td>Chris</td>\n",
              "      <td>Schafer</td>\n",
              "      <td>None</td>\n",
              "      <td>36</td>\n",
              "    </tr>\n",
              "    <tr>\n",
              "      <th>6</th>\n",
              "      <td>NA</td>\n",
              "      <td>Missing</td>\n",
              "      <td>NA</td>\n",
              "      <td>Missing</td>\n",
              "    </tr>\n",
              "  </tbody>\n",
              "</table>\n",
              "</div>"
            ],
            "text/plain": [
              "   first     last                    email      age\n",
              "0  Corey  Schafer  CoreyMSchafer@gmail.com       33\n",
              "1   Jane      Doe        JaneDoe@email.com       55\n",
              "2   John      Doe        JohnDoe@email.com       63\n",
              "3  Chris  Schafer                     None       36\n",
              "6     NA  Missing                       NA  Missing"
            ]
          },
          "execution_count": 23,
          "metadata": {},
          "output_type": "execute_result"
        }
      ],
      "source": [
        "df_people.dropna(axis='index', how='all', subset=['first', 'last'])"
      ]
    },
    {
      "cell_type": "markdown",
      "metadata": {
        "id": "hAbYkL_-uYUs"
      },
      "source": [
        "One thing you might have noticed is that the dataframe itself is not changing. That's because we either need to assign the resulting the dataframe to variable as shown below"
      ]
    },
    {
      "cell_type": "code",
      "execution_count": 24,
      "metadata": {
        "id": "maFrLrTZuPGH"
      },
      "outputs": [],
      "source": [
        "df_people_nulls_dropped = df_people.dropna(axis='index', how='all', subset=['first', 'last'])"
      ]
    },
    {
      "cell_type": "markdown",
      "metadata": {
        "id": "GrlzJEfBuk4z"
      },
      "source": [
        "or, we can use the `inplace` argument and set it to `True` in order to change the dataframe itself."
      ]
    },
    {
      "cell_type": "code",
      "execution_count": 25,
      "metadata": {
        "id": "giR9NKfnuqzi"
      },
      "outputs": [],
      "source": [
        "df_people.dropna(axis='index', how='all', subset=['first', 'last'], inplace=True)"
      ]
    },
    {
      "cell_type": "code",
      "execution_count": 26,
      "metadata": {
        "colab": {
          "base_uri": "https://localhost:8080/",
          "height": 202
        },
        "id": "aBHwS_UKu1Jx",
        "outputId": "5b007840-6a77-483f-a940-16ca5da69af2"
      },
      "outputs": [
        {
          "data": {
            "text/html": [
              "<div>\n",
              "<style scoped>\n",
              "    .dataframe tbody tr th:only-of-type {\n",
              "        vertical-align: middle;\n",
              "    }\n",
              "\n",
              "    .dataframe tbody tr th {\n",
              "        vertical-align: top;\n",
              "    }\n",
              "\n",
              "    .dataframe thead th {\n",
              "        text-align: right;\n",
              "    }\n",
              "</style>\n",
              "<table border=\"1\" class=\"dataframe\">\n",
              "  <thead>\n",
              "    <tr style=\"text-align: right;\">\n",
              "      <th></th>\n",
              "      <th>first</th>\n",
              "      <th>last</th>\n",
              "      <th>email</th>\n",
              "      <th>age</th>\n",
              "    </tr>\n",
              "  </thead>\n",
              "  <tbody>\n",
              "    <tr>\n",
              "      <th>0</th>\n",
              "      <td>Corey</td>\n",
              "      <td>Schafer</td>\n",
              "      <td>CoreyMSchafer@gmail.com</td>\n",
              "      <td>33</td>\n",
              "    </tr>\n",
              "    <tr>\n",
              "      <th>1</th>\n",
              "      <td>Jane</td>\n",
              "      <td>Doe</td>\n",
              "      <td>JaneDoe@email.com</td>\n",
              "      <td>55</td>\n",
              "    </tr>\n",
              "    <tr>\n",
              "      <th>2</th>\n",
              "      <td>John</td>\n",
              "      <td>Doe</td>\n",
              "      <td>JohnDoe@email.com</td>\n",
              "      <td>63</td>\n",
              "    </tr>\n",
              "    <tr>\n",
              "      <th>3</th>\n",
              "      <td>Chris</td>\n",
              "      <td>Schafer</td>\n",
              "      <td>None</td>\n",
              "      <td>36</td>\n",
              "    </tr>\n",
              "    <tr>\n",
              "      <th>6</th>\n",
              "      <td>NA</td>\n",
              "      <td>Missing</td>\n",
              "      <td>NA</td>\n",
              "      <td>Missing</td>\n",
              "    </tr>\n",
              "  </tbody>\n",
              "</table>\n",
              "</div>"
            ],
            "text/plain": [
              "   first     last                    email      age\n",
              "0  Corey  Schafer  CoreyMSchafer@gmail.com       33\n",
              "1   Jane      Doe        JaneDoe@email.com       55\n",
              "2   John      Doe        JohnDoe@email.com       63\n",
              "3  Chris  Schafer                     None       36\n",
              "6     NA  Missing                       NA  Missing"
            ]
          },
          "execution_count": 26,
          "metadata": {},
          "output_type": "execute_result"
        }
      ],
      "source": [
        "df_people"
      ]
    },
    {
      "cell_type": "markdown",
      "metadata": {
        "id": "8GsBV6ROu6RP"
      },
      "source": [
        "Something else we can notice is that the `NA` and `Missing` values were not treated as missing values. That's because those are custom missing values meaning that maybe the user entered the string \"NA\" or \"Missing\" instead of leaving the field empty. By default, the values that pandas considers missing are `NaN` and `None`. If you're not sure what values are considered missing when `dropna()` is used, you can use the `isna()` method."
      ]
    },
    {
      "cell_type": "code",
      "execution_count": 27,
      "metadata": {
        "colab": {
          "base_uri": "https://localhost:8080/",
          "height": 202
        },
        "id": "auuvjh8VwrBr",
        "outputId": "a42084f7-b15f-4289-c367-4e2388fa9b07"
      },
      "outputs": [
        {
          "data": {
            "text/html": [
              "<div>\n",
              "<style scoped>\n",
              "    .dataframe tbody tr th:only-of-type {\n",
              "        vertical-align: middle;\n",
              "    }\n",
              "\n",
              "    .dataframe tbody tr th {\n",
              "        vertical-align: top;\n",
              "    }\n",
              "\n",
              "    .dataframe thead th {\n",
              "        text-align: right;\n",
              "    }\n",
              "</style>\n",
              "<table border=\"1\" class=\"dataframe\">\n",
              "  <thead>\n",
              "    <tr style=\"text-align: right;\">\n",
              "      <th></th>\n",
              "      <th>first</th>\n",
              "      <th>last</th>\n",
              "      <th>email</th>\n",
              "      <th>age</th>\n",
              "    </tr>\n",
              "  </thead>\n",
              "  <tbody>\n",
              "    <tr>\n",
              "      <th>0</th>\n",
              "      <td>False</td>\n",
              "      <td>False</td>\n",
              "      <td>False</td>\n",
              "      <td>False</td>\n",
              "    </tr>\n",
              "    <tr>\n",
              "      <th>1</th>\n",
              "      <td>False</td>\n",
              "      <td>False</td>\n",
              "      <td>False</td>\n",
              "      <td>False</td>\n",
              "    </tr>\n",
              "    <tr>\n",
              "      <th>2</th>\n",
              "      <td>False</td>\n",
              "      <td>False</td>\n",
              "      <td>False</td>\n",
              "      <td>False</td>\n",
              "    </tr>\n",
              "    <tr>\n",
              "      <th>3</th>\n",
              "      <td>False</td>\n",
              "      <td>False</td>\n",
              "      <td>True</td>\n",
              "      <td>False</td>\n",
              "    </tr>\n",
              "    <tr>\n",
              "      <th>6</th>\n",
              "      <td>False</td>\n",
              "      <td>False</td>\n",
              "      <td>False</td>\n",
              "      <td>False</td>\n",
              "    </tr>\n",
              "  </tbody>\n",
              "</table>\n",
              "</div>"
            ],
            "text/plain": [
              "   first   last  email    age\n",
              "0  False  False  False  False\n",
              "1  False  False  False  False\n",
              "2  False  False  False  False\n",
              "3  False  False   True  False\n",
              "6  False  False  False  False"
            ]
          },
          "execution_count": 27,
          "metadata": {},
          "output_type": "execute_result"
        }
      ],
      "source": [
        "df_people.isna()"
      ]
    },
    {
      "cell_type": "markdown",
      "metadata": {
        "id": "z9yq5IcZvuW6"
      },
      "source": [
        "One thing we can do in order to remove the custom missing values is to replace all the `NA` and `Missing` values with `NaN`"
      ]
    },
    {
      "cell_type": "code",
      "execution_count": 28,
      "metadata": {
        "colab": {
          "base_uri": "https://localhost:8080/",
          "height": 202
        },
        "id": "ZxndJrPvu2i4",
        "outputId": "605b671e-5218-4060-ba55-2f1e233485e1"
      },
      "outputs": [
        {
          "data": {
            "text/html": [
              "<div>\n",
              "<style scoped>\n",
              "    .dataframe tbody tr th:only-of-type {\n",
              "        vertical-align: middle;\n",
              "    }\n",
              "\n",
              "    .dataframe tbody tr th {\n",
              "        vertical-align: top;\n",
              "    }\n",
              "\n",
              "    .dataframe thead th {\n",
              "        text-align: right;\n",
              "    }\n",
              "</style>\n",
              "<table border=\"1\" class=\"dataframe\">\n",
              "  <thead>\n",
              "    <tr style=\"text-align: right;\">\n",
              "      <th></th>\n",
              "      <th>first</th>\n",
              "      <th>last</th>\n",
              "      <th>email</th>\n",
              "      <th>age</th>\n",
              "    </tr>\n",
              "  </thead>\n",
              "  <tbody>\n",
              "    <tr>\n",
              "      <th>0</th>\n",
              "      <td>Corey</td>\n",
              "      <td>Schafer</td>\n",
              "      <td>CoreyMSchafer@gmail.com</td>\n",
              "      <td>33</td>\n",
              "    </tr>\n",
              "    <tr>\n",
              "      <th>1</th>\n",
              "      <td>Jane</td>\n",
              "      <td>Doe</td>\n",
              "      <td>JaneDoe@email.com</td>\n",
              "      <td>55</td>\n",
              "    </tr>\n",
              "    <tr>\n",
              "      <th>2</th>\n",
              "      <td>John</td>\n",
              "      <td>Doe</td>\n",
              "      <td>JohnDoe@email.com</td>\n",
              "      <td>63</td>\n",
              "    </tr>\n",
              "    <tr>\n",
              "      <th>3</th>\n",
              "      <td>Chris</td>\n",
              "      <td>Schafer</td>\n",
              "      <td>None</td>\n",
              "      <td>36</td>\n",
              "    </tr>\n",
              "    <tr>\n",
              "      <th>6</th>\n",
              "      <td>NaN</td>\n",
              "      <td>NaN</td>\n",
              "      <td>NaN</td>\n",
              "      <td>NaN</td>\n",
              "    </tr>\n",
              "  </tbody>\n",
              "</table>\n",
              "</div>"
            ],
            "text/plain": [
              "   first     last                    email  age\n",
              "0  Corey  Schafer  CoreyMSchafer@gmail.com   33\n",
              "1   Jane      Doe        JaneDoe@email.com   55\n",
              "2   John      Doe        JohnDoe@email.com   63\n",
              "3  Chris  Schafer                     None   36\n",
              "6    NaN      NaN                      NaN  NaN"
            ]
          },
          "execution_count": 28,
          "metadata": {},
          "output_type": "execute_result"
        }
      ],
      "source": [
        "df_people.replace('NA', np.nan, inplace=True)\n",
        "df_people.replace('Missing', np.nan, inplace=True)\n",
        "df_people"
      ]
    },
    {
      "cell_type": "markdown",
      "metadata": {
        "id": "FWkoWXgKwEbK"
      },
      "source": [
        "Now if we use the `dropna()` method again, we can remove all missing values."
      ]
    },
    {
      "cell_type": "code",
      "execution_count": 29,
      "metadata": {
        "colab": {
          "base_uri": "https://localhost:8080/",
          "height": 171
        },
        "id": "A6Kz8b3OwCmZ",
        "outputId": "4c69a928-1572-466c-832b-913860ea4d86"
      },
      "outputs": [
        {
          "data": {
            "text/html": [
              "<div>\n",
              "<style scoped>\n",
              "    .dataframe tbody tr th:only-of-type {\n",
              "        vertical-align: middle;\n",
              "    }\n",
              "\n",
              "    .dataframe tbody tr th {\n",
              "        vertical-align: top;\n",
              "    }\n",
              "\n",
              "    .dataframe thead th {\n",
              "        text-align: right;\n",
              "    }\n",
              "</style>\n",
              "<table border=\"1\" class=\"dataframe\">\n",
              "  <thead>\n",
              "    <tr style=\"text-align: right;\">\n",
              "      <th></th>\n",
              "      <th>first</th>\n",
              "      <th>last</th>\n",
              "      <th>email</th>\n",
              "      <th>age</th>\n",
              "    </tr>\n",
              "  </thead>\n",
              "  <tbody>\n",
              "    <tr>\n",
              "      <th>0</th>\n",
              "      <td>Corey</td>\n",
              "      <td>Schafer</td>\n",
              "      <td>CoreyMSchafer@gmail.com</td>\n",
              "      <td>33</td>\n",
              "    </tr>\n",
              "    <tr>\n",
              "      <th>1</th>\n",
              "      <td>Jane</td>\n",
              "      <td>Doe</td>\n",
              "      <td>JaneDoe@email.com</td>\n",
              "      <td>55</td>\n",
              "    </tr>\n",
              "    <tr>\n",
              "      <th>2</th>\n",
              "      <td>John</td>\n",
              "      <td>Doe</td>\n",
              "      <td>JohnDoe@email.com</td>\n",
              "      <td>63</td>\n",
              "    </tr>\n",
              "    <tr>\n",
              "      <th>3</th>\n",
              "      <td>Chris</td>\n",
              "      <td>Schafer</td>\n",
              "      <td>None</td>\n",
              "      <td>36</td>\n",
              "    </tr>\n",
              "  </tbody>\n",
              "</table>\n",
              "</div>"
            ],
            "text/plain": [
              "   first     last                    email age\n",
              "0  Corey  Schafer  CoreyMSchafer@gmail.com  33\n",
              "1   Jane      Doe        JaneDoe@email.com  55\n",
              "2   John      Doe        JohnDoe@email.com  63\n",
              "3  Chris  Schafer                     None  36"
            ]
          },
          "execution_count": 29,
          "metadata": {},
          "output_type": "execute_result"
        }
      ],
      "source": [
        "df_people.dropna(axis='index', how='all', subset=['first', 'last'], inplace=True)\n",
        "df_people"
      ]
    },
    {
      "cell_type": "markdown",
      "metadata": {
        "id": "Y847QUE9zCk5"
      },
      "source": [
        "## Imputation"
      ]
    },
    {
      "cell_type": "markdown",
      "metadata": {
        "id": "b9LVSGAuzShm"
      },
      "source": [
        "Dropping the missing values is not always the answer. Sometimes, we can estimate the missing values from the ones we have. Again, choose the technique you handle the missing values with according to your data and what you plan to do with it. Also, you need to keep mind that you have imputed data not real data when you're proceeding with your analysis."
      ]
    },
    {
      "cell_type": "markdown",
      "metadata": {
        "id": "dTAS34Wkz8i6"
      },
      "source": [
        "Let's use the `age` column for example. Maybe instead of dropping the rows with missing age values, we would like to fill those values."
      ]
    },
    {
      "cell_type": "code",
      "execution_count": 30,
      "metadata": {
        "colab": {
          "base_uri": "https://localhost:8080/",
          "height": 263
        },
        "id": "eYfRrAsCwQVA",
        "outputId": "8173cc00-8305-49a0-d648-7e191825833e"
      },
      "outputs": [
        {
          "data": {
            "text/html": [
              "<div>\n",
              "<style scoped>\n",
              "    .dataframe tbody tr th:only-of-type {\n",
              "        vertical-align: middle;\n",
              "    }\n",
              "\n",
              "    .dataframe tbody tr th {\n",
              "        vertical-align: top;\n",
              "    }\n",
              "\n",
              "    .dataframe thead th {\n",
              "        text-align: right;\n",
              "    }\n",
              "</style>\n",
              "<table border=\"1\" class=\"dataframe\">\n",
              "  <thead>\n",
              "    <tr style=\"text-align: right;\">\n",
              "      <th></th>\n",
              "      <th>first</th>\n",
              "      <th>last</th>\n",
              "      <th>email</th>\n",
              "      <th>age</th>\n",
              "    </tr>\n",
              "  </thead>\n",
              "  <tbody>\n",
              "    <tr>\n",
              "      <th>0</th>\n",
              "      <td>Corey</td>\n",
              "      <td>Schafer</td>\n",
              "      <td>CoreyMSchafer@gmail.com</td>\n",
              "      <td>33</td>\n",
              "    </tr>\n",
              "    <tr>\n",
              "      <th>1</th>\n",
              "      <td>Jane</td>\n",
              "      <td>Doe</td>\n",
              "      <td>JaneDoe@email.com</td>\n",
              "      <td>55</td>\n",
              "    </tr>\n",
              "    <tr>\n",
              "      <th>2</th>\n",
              "      <td>John</td>\n",
              "      <td>Doe</td>\n",
              "      <td>JohnDoe@email.com</td>\n",
              "      <td>63</td>\n",
              "    </tr>\n",
              "    <tr>\n",
              "      <th>3</th>\n",
              "      <td>Chris</td>\n",
              "      <td>Schafer</td>\n",
              "      <td>None</td>\n",
              "      <td>36</td>\n",
              "    </tr>\n",
              "    <tr>\n",
              "      <th>4</th>\n",
              "      <td>NaN</td>\n",
              "      <td>NaN</td>\n",
              "      <td>NaN</td>\n",
              "      <td>None</td>\n",
              "    </tr>\n",
              "    <tr>\n",
              "      <th>5</th>\n",
              "      <td>None</td>\n",
              "      <td>NaN</td>\n",
              "      <td>Anonymous@email.com</td>\n",
              "      <td>None</td>\n",
              "    </tr>\n",
              "    <tr>\n",
              "      <th>6</th>\n",
              "      <td>NA</td>\n",
              "      <td>Missing</td>\n",
              "      <td>NA</td>\n",
              "      <td>Missing</td>\n",
              "    </tr>\n",
              "  </tbody>\n",
              "</table>\n",
              "</div>"
            ],
            "text/plain": [
              "   first     last                    email      age\n",
              "0  Corey  Schafer  CoreyMSchafer@gmail.com       33\n",
              "1   Jane      Doe        JaneDoe@email.com       55\n",
              "2   John      Doe        JohnDoe@email.com       63\n",
              "3  Chris  Schafer                     None       36\n",
              "4    NaN      NaN                      NaN     None\n",
              "5   None      NaN      Anonymous@email.com     None\n",
              "6     NA  Missing                       NA  Missing"
            ]
          },
          "execution_count": 30,
          "metadata": {},
          "output_type": "execute_result"
        }
      ],
      "source": [
        "# creating the dataframe again since we dropped the values before\n",
        "df_people = pd.DataFrame(people)\n",
        "df_people"
      ]
    },
    {
      "cell_type": "code",
      "execution_count": 31,
      "metadata": {
        "colab": {
          "base_uri": "https://localhost:8080/",
          "height": 263
        },
        "id": "vL1A2Ogl1AO_",
        "outputId": "d2666dc4-8f50-4e5e-ddf8-7e978078ecad"
      },
      "outputs": [
        {
          "data": {
            "text/html": [
              "<div>\n",
              "<style scoped>\n",
              "    .dataframe tbody tr th:only-of-type {\n",
              "        vertical-align: middle;\n",
              "    }\n",
              "\n",
              "    .dataframe tbody tr th {\n",
              "        vertical-align: top;\n",
              "    }\n",
              "\n",
              "    .dataframe thead th {\n",
              "        text-align: right;\n",
              "    }\n",
              "</style>\n",
              "<table border=\"1\" class=\"dataframe\">\n",
              "  <thead>\n",
              "    <tr style=\"text-align: right;\">\n",
              "      <th></th>\n",
              "      <th>first</th>\n",
              "      <th>last</th>\n",
              "      <th>email</th>\n",
              "      <th>age</th>\n",
              "    </tr>\n",
              "  </thead>\n",
              "  <tbody>\n",
              "    <tr>\n",
              "      <th>0</th>\n",
              "      <td>Corey</td>\n",
              "      <td>Schafer</td>\n",
              "      <td>CoreyMSchafer@gmail.com</td>\n",
              "      <td>33</td>\n",
              "    </tr>\n",
              "    <tr>\n",
              "      <th>1</th>\n",
              "      <td>Jane</td>\n",
              "      <td>Doe</td>\n",
              "      <td>JaneDoe@email.com</td>\n",
              "      <td>55</td>\n",
              "    </tr>\n",
              "    <tr>\n",
              "      <th>2</th>\n",
              "      <td>John</td>\n",
              "      <td>Doe</td>\n",
              "      <td>JohnDoe@email.com</td>\n",
              "      <td>63</td>\n",
              "    </tr>\n",
              "    <tr>\n",
              "      <th>3</th>\n",
              "      <td>Chris</td>\n",
              "      <td>Schafer</td>\n",
              "      <td>None</td>\n",
              "      <td>36</td>\n",
              "    </tr>\n",
              "    <tr>\n",
              "      <th>4</th>\n",
              "      <td>NaN</td>\n",
              "      <td>NaN</td>\n",
              "      <td>NaN</td>\n",
              "      <td>None</td>\n",
              "    </tr>\n",
              "    <tr>\n",
              "      <th>5</th>\n",
              "      <td>None</td>\n",
              "      <td>NaN</td>\n",
              "      <td>Anonymous@email.com</td>\n",
              "      <td>None</td>\n",
              "    </tr>\n",
              "    <tr>\n",
              "      <th>6</th>\n",
              "      <td>NaN</td>\n",
              "      <td>NaN</td>\n",
              "      <td>NaN</td>\n",
              "      <td>NaN</td>\n",
              "    </tr>\n",
              "  </tbody>\n",
              "</table>\n",
              "</div>"
            ],
            "text/plain": [
              "   first     last                    email   age\n",
              "0  Corey  Schafer  CoreyMSchafer@gmail.com    33\n",
              "1   Jane      Doe        JaneDoe@email.com    55\n",
              "2   John      Doe        JohnDoe@email.com    63\n",
              "3  Chris  Schafer                     None    36\n",
              "4    NaN      NaN                      NaN  None\n",
              "5   None      NaN      Anonymous@email.com  None\n",
              "6    NaN      NaN                      NaN   NaN"
            ]
          },
          "execution_count": 31,
          "metadata": {},
          "output_type": "execute_result"
        }
      ],
      "source": [
        "df_people.replace('NA', np.nan, inplace=True)\n",
        "df_people.replace('Missing', np.nan, inplace=True)\n",
        "df_people"
      ]
    },
    {
      "cell_type": "markdown",
      "metadata": {
        "id": "KRDf3NNt0snb"
      },
      "source": [
        "One way we can fill the missing values is by filling it with 0s. We can do that using the `fillna()` method"
      ]
    },
    {
      "cell_type": "code",
      "execution_count": 32,
      "metadata": {
        "colab": {
          "base_uri": "https://localhost:8080/"
        },
        "id": "68RZ83tI029i",
        "outputId": "e2e6006e-b415-4b15-ffd1-89287c40c17b"
      },
      "outputs": [
        {
          "data": {
            "text/plain": [
              "0    33\n",
              "1    55\n",
              "2    63\n",
              "3    36\n",
              "4     0\n",
              "5     0\n",
              "6     0\n",
              "Name: age, dtype: object"
            ]
          },
          "execution_count": 32,
          "metadata": {},
          "output_type": "execute_result"
        }
      ],
      "source": [
        "df_people[\"age\"].fillna(0)"
      ]
    },
    {
      "cell_type": "markdown",
      "metadata": {
        "id": "HIEMehMk1q3g"
      },
      "source": [
        "Another option is to use the mean of the values to fill in the missing values. But before we impute the missing values, we need to make sure that the `age` column is numerical. This can be done usign the `dtypes` attribute."
      ]
    },
    {
      "cell_type": "code",
      "execution_count": 33,
      "metadata": {
        "colab": {
          "base_uri": "https://localhost:8080/"
        },
        "id": "lRgblX-R0PxC",
        "outputId": "5797d299-1fda-4d61-ecc2-9796459c4157"
      },
      "outputs": [
        {
          "data": {
            "text/plain": [
              "first    object\n",
              "last     object\n",
              "email    object\n",
              "age      object\n",
              "dtype: object"
            ]
          },
          "execution_count": 33,
          "metadata": {},
          "output_type": "execute_result"
        }
      ],
      "source": [
        "df_people.dtypes"
      ]
    },
    {
      "cell_type": "markdown",
      "metadata": {
        "id": "yYBJ7rJ_0gAJ"
      },
      "source": [
        "We can see that the `age` column is not numerical. So before proceeding we need to change it. We actually need to convert it to `float` not `integer` because it has `NaN` values and `NaN` values are float as we can see below: "
      ]
    },
    {
      "cell_type": "code",
      "execution_count": 34,
      "metadata": {
        "colab": {
          "base_uri": "https://localhost:8080/"
        },
        "id": "rqUS7moC0Y9R",
        "outputId": "d655d309-3740-4a13-8532-9d4a9187ff3f"
      },
      "outputs": [
        {
          "data": {
            "text/plain": [
              "float"
            ]
          },
          "execution_count": 34,
          "metadata": {},
          "output_type": "execute_result"
        }
      ],
      "source": [
        "type(np.nan)"
      ]
    },
    {
      "cell_type": "code",
      "execution_count": 35,
      "metadata": {
        "id": "-vabMQuL2mQ6"
      },
      "outputs": [],
      "source": [
        "df_people[\"age\"] = df_people[\"age\"].astype(float)"
      ]
    },
    {
      "cell_type": "code",
      "execution_count": 36,
      "metadata": {
        "colab": {
          "base_uri": "https://localhost:8080/",
          "height": 263
        },
        "id": "y0PJJM_32uls",
        "outputId": "84fb687c-e99e-4657-cd39-4954f53d33fe"
      },
      "outputs": [
        {
          "data": {
            "text/html": [
              "<div>\n",
              "<style scoped>\n",
              "    .dataframe tbody tr th:only-of-type {\n",
              "        vertical-align: middle;\n",
              "    }\n",
              "\n",
              "    .dataframe tbody tr th {\n",
              "        vertical-align: top;\n",
              "    }\n",
              "\n",
              "    .dataframe thead th {\n",
              "        text-align: right;\n",
              "    }\n",
              "</style>\n",
              "<table border=\"1\" class=\"dataframe\">\n",
              "  <thead>\n",
              "    <tr style=\"text-align: right;\">\n",
              "      <th></th>\n",
              "      <th>first</th>\n",
              "      <th>last</th>\n",
              "      <th>email</th>\n",
              "      <th>age</th>\n",
              "    </tr>\n",
              "  </thead>\n",
              "  <tbody>\n",
              "    <tr>\n",
              "      <th>0</th>\n",
              "      <td>Corey</td>\n",
              "      <td>Schafer</td>\n",
              "      <td>CoreyMSchafer@gmail.com</td>\n",
              "      <td>33.0</td>\n",
              "    </tr>\n",
              "    <tr>\n",
              "      <th>1</th>\n",
              "      <td>Jane</td>\n",
              "      <td>Doe</td>\n",
              "      <td>JaneDoe@email.com</td>\n",
              "      <td>55.0</td>\n",
              "    </tr>\n",
              "    <tr>\n",
              "      <th>2</th>\n",
              "      <td>John</td>\n",
              "      <td>Doe</td>\n",
              "      <td>JohnDoe@email.com</td>\n",
              "      <td>63.0</td>\n",
              "    </tr>\n",
              "    <tr>\n",
              "      <th>3</th>\n",
              "      <td>Chris</td>\n",
              "      <td>Schafer</td>\n",
              "      <td>None</td>\n",
              "      <td>36.0</td>\n",
              "    </tr>\n",
              "    <tr>\n",
              "      <th>4</th>\n",
              "      <td>NaN</td>\n",
              "      <td>NaN</td>\n",
              "      <td>NaN</td>\n",
              "      <td>NaN</td>\n",
              "    </tr>\n",
              "    <tr>\n",
              "      <th>5</th>\n",
              "      <td>None</td>\n",
              "      <td>NaN</td>\n",
              "      <td>Anonymous@email.com</td>\n",
              "      <td>NaN</td>\n",
              "    </tr>\n",
              "    <tr>\n",
              "      <th>6</th>\n",
              "      <td>NaN</td>\n",
              "      <td>NaN</td>\n",
              "      <td>NaN</td>\n",
              "      <td>NaN</td>\n",
              "    </tr>\n",
              "  </tbody>\n",
              "</table>\n",
              "</div>"
            ],
            "text/plain": [
              "   first     last                    email   age\n",
              "0  Corey  Schafer  CoreyMSchafer@gmail.com  33.0\n",
              "1   Jane      Doe        JaneDoe@email.com  55.0\n",
              "2   John      Doe        JohnDoe@email.com  63.0\n",
              "3  Chris  Schafer                     None  36.0\n",
              "4    NaN      NaN                      NaN   NaN\n",
              "5   None      NaN      Anonymous@email.com   NaN\n",
              "6    NaN      NaN                      NaN   NaN"
            ]
          },
          "execution_count": 36,
          "metadata": {},
          "output_type": "execute_result"
        }
      ],
      "source": [
        "df_people"
      ]
    },
    {
      "cell_type": "code",
      "execution_count": 37,
      "metadata": {
        "colab": {
          "base_uri": "https://localhost:8080/"
        },
        "id": "u0UVXm5121vQ",
        "outputId": "62d8fb8c-d34f-42a2-b741-a2fe99ac8820"
      },
      "outputs": [
        {
          "data": {
            "text/plain": [
              "first     object\n",
              "last      object\n",
              "email     object\n",
              "age      float64\n",
              "dtype: object"
            ]
          },
          "execution_count": 37,
          "metadata": {},
          "output_type": "execute_result"
        }
      ],
      "source": [
        "df_people.dtypes"
      ]
    },
    {
      "cell_type": "markdown",
      "metadata": {
        "id": "gAau8pOp3BXF"
      },
      "source": [
        "Perfect! Now we can proceed with filling in the missing values with the mean."
      ]
    },
    {
      "cell_type": "code",
      "execution_count": 38,
      "metadata": {
        "colab": {
          "base_uri": "https://localhost:8080/",
          "height": 263
        },
        "id": "IqWF-2cm3Ann",
        "outputId": "18e30373-3c09-4763-a1b2-cec20ee0046c"
      },
      "outputs": [
        {
          "data": {
            "text/html": [
              "<div>\n",
              "<style scoped>\n",
              "    .dataframe tbody tr th:only-of-type {\n",
              "        vertical-align: middle;\n",
              "    }\n",
              "\n",
              "    .dataframe tbody tr th {\n",
              "        vertical-align: top;\n",
              "    }\n",
              "\n",
              "    .dataframe thead th {\n",
              "        text-align: right;\n",
              "    }\n",
              "</style>\n",
              "<table border=\"1\" class=\"dataframe\">\n",
              "  <thead>\n",
              "    <tr style=\"text-align: right;\">\n",
              "      <th></th>\n",
              "      <th>first</th>\n",
              "      <th>last</th>\n",
              "      <th>email</th>\n",
              "      <th>age</th>\n",
              "    </tr>\n",
              "  </thead>\n",
              "  <tbody>\n",
              "    <tr>\n",
              "      <th>0</th>\n",
              "      <td>Corey</td>\n",
              "      <td>Schafer</td>\n",
              "      <td>CoreyMSchafer@gmail.com</td>\n",
              "      <td>33.00</td>\n",
              "    </tr>\n",
              "    <tr>\n",
              "      <th>1</th>\n",
              "      <td>Jane</td>\n",
              "      <td>Doe</td>\n",
              "      <td>JaneDoe@email.com</td>\n",
              "      <td>55.00</td>\n",
              "    </tr>\n",
              "    <tr>\n",
              "      <th>2</th>\n",
              "      <td>John</td>\n",
              "      <td>Doe</td>\n",
              "      <td>JohnDoe@email.com</td>\n",
              "      <td>63.00</td>\n",
              "    </tr>\n",
              "    <tr>\n",
              "      <th>3</th>\n",
              "      <td>Chris</td>\n",
              "      <td>Schafer</td>\n",
              "      <td>None</td>\n",
              "      <td>36.00</td>\n",
              "    </tr>\n",
              "    <tr>\n",
              "      <th>4</th>\n",
              "      <td>NaN</td>\n",
              "      <td>NaN</td>\n",
              "      <td>NaN</td>\n",
              "      <td>46.75</td>\n",
              "    </tr>\n",
              "    <tr>\n",
              "      <th>5</th>\n",
              "      <td>None</td>\n",
              "      <td>NaN</td>\n",
              "      <td>Anonymous@email.com</td>\n",
              "      <td>46.75</td>\n",
              "    </tr>\n",
              "    <tr>\n",
              "      <th>6</th>\n",
              "      <td>NaN</td>\n",
              "      <td>NaN</td>\n",
              "      <td>NaN</td>\n",
              "      <td>46.75</td>\n",
              "    </tr>\n",
              "  </tbody>\n",
              "</table>\n",
              "</div>"
            ],
            "text/plain": [
              "   first     last                    email    age\n",
              "0  Corey  Schafer  CoreyMSchafer@gmail.com  33.00\n",
              "1   Jane      Doe        JaneDoe@email.com  55.00\n",
              "2   John      Doe        JohnDoe@email.com  63.00\n",
              "3  Chris  Schafer                     None  36.00\n",
              "4    NaN      NaN                      NaN  46.75\n",
              "5   None      NaN      Anonymous@email.com  46.75\n",
              "6    NaN      NaN                      NaN  46.75"
            ]
          },
          "execution_count": 38,
          "metadata": {},
          "output_type": "execute_result"
        }
      ],
      "source": [
        "df_people[\"age\"].fillna(value=df_people[\"age\"].mean(), inplace=True)\n",
        "df_people"
      ]
    },
    {
      "cell_type": "markdown",
      "metadata": {
        "id": "ALxA88HZ838E"
      },
      "source": [
        "-------"
      ]
    },
    {
      "cell_type": "markdown",
      "metadata": {
        "id": "zCWdOo8QpQV8"
      },
      "source": [
        "# Task"
      ]
    },
    {
      "cell_type": "markdown",
      "metadata": {
        "id": "3Uvfy6Roc3LN"
      },
      "source": [
        "### Cars Dataset "
      ]
    },
    {
      "cell_type": "markdown",
      "metadata": {
        "id": "gkVTCwKOrvEW"
      },
      "source": [
        "Start by reading the dataset related to car models: https://raw.githubusercontent.com/harshitroy2605/missing-value-in-dataset/master/cars.csv"
      ]
    },
    {
      "cell_type": "code",
      "execution_count": null,
      "metadata": {
        "id": "b_YJeNHYv5tm"
      },
      "outputs": [],
      "source": []
    },
    {
      "cell_type": "markdown",
      "metadata": {
        "id": "vp7DpCMNr78D"
      },
      "source": [
        "Calculate the percentage of missing values"
      ]
    },
    {
      "cell_type": "code",
      "execution_count": null,
      "metadata": {
        "id": "yqN5ir2zsDC6"
      },
      "outputs": [],
      "source": []
    },
    {
      "cell_type": "markdown",
      "metadata": {
        "id": "K9_u_e0TsDfV"
      },
      "source": [
        "Fill the missing values from the `MPG` column using an appropriate method."
      ]
    },
    {
      "cell_type": "code",
      "execution_count": null,
      "metadata": {
        "id": "x2A0dZwypX0O"
      },
      "outputs": [],
      "source": []
    },
    {
      "cell_type": "markdown",
      "metadata": {
        "id": "aCTldAPHeWRq"
      },
      "source": [
        "### SF Building permit Dataset\n",
        "\n",
        "\n",
        "The [Building permits dataset](https://www.kaggle.com/aparnashastry/building-permit-applications-data#Building_Permits.csv) pertains to all types of structural permits from Jan 1, 2013 - Feb 25th 2018 in San Francisco. Data includes details on application/permit numbers, job addresses, supervisorial districts, and the current status of the applications. \n",
        "\n",
        "Download the dataset from the link provided and store it in your own data or working folder. Import the dataset in the next cell, and work your way through the steps in the subsequent cells."
      ]
    },
    {
      "cell_type": "markdown",
      "metadata": {
        "id": "ZGMSW3d4eXfy"
      },
      "source": [
        "1. Import the dataset and observe the first few rows"
      ]
    },
    {
      "cell_type": "code",
      "execution_count": null,
      "metadata": {
        "id": "7LObg_MDeXlC"
      },
      "outputs": [],
      "source": []
    },
    {
      "cell_type": "markdown",
      "metadata": {
        "id": "lY99RxxseXpq"
      },
      "source": [
        "2. Find out what percent of the building permits dataset is missing."
      ]
    },
    {
      "cell_type": "code",
      "execution_count": null,
      "metadata": {
        "id": "qmlPHGyLeXuq"
      },
      "outputs": [],
      "source": []
    },
    {
      "cell_type": "markdown",
      "metadata": {
        "id": "nIzETJL3eX0K"
      },
      "source": [
        "3. Write a code to check the values of the `Street Number Suffix` and `Zipcode` from the building permits datasets. Both of these contain missing values. Which, if either, of these are missing because they don't exist? Which, if either, are missing because they weren't recorded?"
      ]
    },
    {
      "cell_type": "code",
      "execution_count": null,
      "metadata": {
        "id": "CPX3yxWLeX4J"
      },
      "outputs": [],
      "source": []
    },
    {
      "cell_type": "markdown",
      "metadata": {
        "id": "bOMsAmvseX-K"
      },
      "source": [
        "4. See if you can drop the missing values from the building permits dataset and still keep some data, or drop the columns with missing values and see if you have columns still."
      ]
    },
    {
      "cell_type": "code",
      "execution_count": null,
      "metadata": {
        "id": "MZTwuU35eYCa"
      },
      "outputs": [],
      "source": []
    },
    {
      "cell_type": "markdown",
      "metadata": {
        "id": "iqxLdZyCeYHK"
      },
      "source": [
        "5. Try replacing all the `NaN`'s in the building permits data with the one that comes directly after it and then replacing any remaining `NaN`'s with 0. **HINT:** Google `fillna(method = 'bfill')`"
      ]
    },
    {
      "cell_type": "code",
      "execution_count": null,
      "metadata": {
        "id": "UHXJTtH7eYLC"
      },
      "outputs": [],
      "source": []
    },
    {
      "cell_type": "markdown",
      "metadata": {
        "id": "9XA_AldReYQS"
      },
      "source": [
        "6. Create a new dataset at the end with all missing values handled and store as a CSV file."
      ]
    },
    {
      "cell_type": "code",
      "execution_count": null,
      "metadata": {
        "id": "W_5PswHneYTx"
      },
      "outputs": [],
      "source": []
    }
  ],
  "metadata": {
    "colab": {
      "name": "Lab 3 - Data Visualization II & Data Cleaning.ipynb",
      "provenance": []
    },
    "kernelspec": {
      "display_name": "Python 3.6.15 64-bit",
      "language": "python",
      "name": "python3"
    },
    "language_info": {
      "codemirror_mode": {
        "name": "ipython",
        "version": 3
      },
      "file_extension": ".py",
      "mimetype": "text/x-python",
      "name": "python",
      "nbconvert_exporter": "python",
      "pygments_lexer": "ipython3",
      "version": "3.6.15"
    },
    "vscode": {
      "interpreter": {
        "hash": "767d51c1340bd893661ea55ea3124f6de3c7a262a8b4abca0554b478b1e2ff90"
      }
    }
  },
  "nbformat": 4,
  "nbformat_minor": 0
}
