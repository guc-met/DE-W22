{
  "nbformat": 4,
  "nbformat_minor": 0,
  "metadata": {
    "colab": {
      "name": "Lab 3 - Data Visualization II & Data Cleaning.ipynb",
      "provenance": []
    },
    "kernelspec": {
      "name": "python3",
      "display_name": "Python 3"
    },
    "language_info": {
      "name": "python"
    }
  },
  "cells": [
    {
      "cell_type": "code",
      "metadata": {
        "id": "iBNdPTiDCOhM"
      },
      "source": [
        "import matplotlib.pyplot as plt\n",
        "import seaborn as sns\n",
        "import pandas as pd\n",
        "import numpy as np\n",
        "from matplotlib.ticker import PercentFormatter\n"
      ],
      "execution_count": 1,
      "outputs": []
    },
    {
      "cell_type": "markdown",
      "metadata": {
        "id": "TjOvQ6k9WaEM"
      },
      "source": [
        "# Data Visualization II"
      ]
    },
    {
      "cell_type": "markdown",
      "metadata": {
        "id": "XWdSWXJ3Mz5B"
      },
      "source": [
        "## Stacked Area Chart\n"
      ]
    },
    {
      "cell_type": "markdown",
      "metadata": {
        "id": "7wDnrjhQiszu"
      },
      "source": [
        "Used to discover trends and patterns in the data. Appropriate when we want to compare volume among categories. Also, when we have data with at least 3 variables (ex: year, type, number of cars per type)and at least 2 them should be numerical and have an order (year, number of cars per type). Do NOT use area charts when you have more than 6-7 categories. Also, if the category sizes are very similar to each other."
      ]
    },
    {
      "cell_type": "code",
      "metadata": {
        "colab": {
          "base_uri": "https://localhost:8080/",
          "height": 1000
        },
        "id": "80BRXDMni3l6",
        "outputId": "c6ee2d08-b92f-451e-c4c8-c7074ba50fdb"
      },
      "source": [
        "df_fuel_engine_types = pd.read_csv(\"https://raw.githubusercontent.com/raneemsultan/Data-Engineering-W21/main/Lab3/stacked_area_chart_data.csv\")\n",
        "df_fuel_engine_types"
      ],
      "execution_count": 20,
      "outputs": [
        {
          "output_type": "execute_result",
          "data": {
            "text/html": [
              "<div>\n",
              "<style scoped>\n",
              "    .dataframe tbody tr th:only-of-type {\n",
              "        vertical-align: middle;\n",
              "    }\n",
              "\n",
              "    .dataframe tbody tr th {\n",
              "        vertical-align: top;\n",
              "    }\n",
              "\n",
              "    .dataframe thead th {\n",
              "        text-align: right;\n",
              "    }\n",
              "</style>\n",
              "<table border=\"1\" class=\"dataframe\">\n",
              "  <thead>\n",
              "    <tr style=\"text-align: right;\">\n",
              "      <th></th>\n",
              "      <th>Year</th>\n",
              "      <th>Gas</th>\n",
              "      <th>Petrol</th>\n",
              "      <th>Diesel</th>\n",
              "      <th>Other</th>\n",
              "    </tr>\n",
              "  </thead>\n",
              "  <tbody>\n",
              "    <tr>\n",
              "      <th>0</th>\n",
              "      <td>1982</td>\n",
              "      <td>0</td>\n",
              "      <td>94</td>\n",
              "      <td>0</td>\n",
              "      <td>0</td>\n",
              "    </tr>\n",
              "    <tr>\n",
              "      <th>1</th>\n",
              "      <td>1983</td>\n",
              "      <td>0</td>\n",
              "      <td>347</td>\n",
              "      <td>0</td>\n",
              "      <td>0</td>\n",
              "    </tr>\n",
              "    <tr>\n",
              "      <th>2</th>\n",
              "      <td>1984</td>\n",
              "      <td>300</td>\n",
              "      <td>0</td>\n",
              "      <td>334</td>\n",
              "      <td>0</td>\n",
              "    </tr>\n",
              "    <tr>\n",
              "      <th>3</th>\n",
              "      <td>1985</td>\n",
              "      <td>1030</td>\n",
              "      <td>1184</td>\n",
              "      <td>984</td>\n",
              "      <td>0</td>\n",
              "    </tr>\n",
              "    <tr>\n",
              "      <th>4</th>\n",
              "      <td>1986</td>\n",
              "      <td>511</td>\n",
              "      <td>681</td>\n",
              "      <td>1066</td>\n",
              "      <td>340</td>\n",
              "    </tr>\n",
              "    <tr>\n",
              "      <th>5</th>\n",
              "      <td>1987</td>\n",
              "      <td>1817</td>\n",
              "      <td>1840</td>\n",
              "      <td>400</td>\n",
              "      <td>940</td>\n",
              "    </tr>\n",
              "    <tr>\n",
              "      <th>6</th>\n",
              "      <td>1988</td>\n",
              "      <td>2999</td>\n",
              "      <td>1882</td>\n",
              "      <td>2060</td>\n",
              "      <td>1</td>\n",
              "    </tr>\n",
              "    <tr>\n",
              "      <th>7</th>\n",
              "      <td>1989</td>\n",
              "      <td>2626</td>\n",
              "      <td>1641</td>\n",
              "      <td>1304</td>\n",
              "      <td>330</td>\n",
              "    </tr>\n",
              "    <tr>\n",
              "      <th>8</th>\n",
              "      <td>1990</td>\n",
              "      <td>1290</td>\n",
              "      <td>3247</td>\n",
              "      <td>1</td>\n",
              "      <td>0</td>\n",
              "    </tr>\n",
              "    <tr>\n",
              "      <th>9</th>\n",
              "      <td>1991</td>\n",
              "      <td>1566</td>\n",
              "      <td>6776</td>\n",
              "      <td>1063</td>\n",
              "      <td>400</td>\n",
              "    </tr>\n",
              "    <tr>\n",
              "      <th>10</th>\n",
              "      <td>1992</td>\n",
              "      <td>2358</td>\n",
              "      <td>1925</td>\n",
              "      <td>2824</td>\n",
              "      <td>350</td>\n",
              "    </tr>\n",
              "    <tr>\n",
              "      <th>11</th>\n",
              "      <td>1993</td>\n",
              "      <td>1231</td>\n",
              "      <td>3375</td>\n",
              "      <td>2302</td>\n",
              "      <td>0</td>\n",
              "    </tr>\n",
              "    <tr>\n",
              "      <th>12</th>\n",
              "      <td>1994</td>\n",
              "      <td>2386</td>\n",
              "      <td>5691</td>\n",
              "      <td>2569</td>\n",
              "      <td>77</td>\n",
              "    </tr>\n",
              "    <tr>\n",
              "      <th>13</th>\n",
              "      <td>1995</td>\n",
              "      <td>2373</td>\n",
              "      <td>5115</td>\n",
              "      <td>4563</td>\n",
              "      <td>666</td>\n",
              "    </tr>\n",
              "    <tr>\n",
              "      <th>14</th>\n",
              "      <td>1996</td>\n",
              "      <td>4264</td>\n",
              "      <td>6792</td>\n",
              "      <td>6996</td>\n",
              "      <td>1235</td>\n",
              "    </tr>\n",
              "    <tr>\n",
              "      <th>15</th>\n",
              "      <td>1997</td>\n",
              "      <td>7031</td>\n",
              "      <td>7336</td>\n",
              "      <td>7877</td>\n",
              "      <td>370</td>\n",
              "    </tr>\n",
              "    <tr>\n",
              "      <th>16</th>\n",
              "      <td>1998</td>\n",
              "      <td>5578</td>\n",
              "      <td>7511</td>\n",
              "      <td>8634</td>\n",
              "      <td>310</td>\n",
              "    </tr>\n",
              "    <tr>\n",
              "      <th>17</th>\n",
              "      <td>1999</td>\n",
              "      <td>4069</td>\n",
              "      <td>6147</td>\n",
              "      <td>16742</td>\n",
              "      <td>1493</td>\n",
              "    </tr>\n",
              "    <tr>\n",
              "      <th>18</th>\n",
              "      <td>2000</td>\n",
              "      <td>6459</td>\n",
              "      <td>10754</td>\n",
              "      <td>23102</td>\n",
              "      <td>531</td>\n",
              "    </tr>\n",
              "    <tr>\n",
              "      <th>19</th>\n",
              "      <td>2001</td>\n",
              "      <td>3932</td>\n",
              "      <td>7590</td>\n",
              "      <td>22115</td>\n",
              "      <td>1029</td>\n",
              "    </tr>\n",
              "    <tr>\n",
              "      <th>20</th>\n",
              "      <td>2002</td>\n",
              "      <td>3375</td>\n",
              "      <td>7069</td>\n",
              "      <td>18144</td>\n",
              "      <td>479</td>\n",
              "    </tr>\n",
              "    <tr>\n",
              "      <th>21</th>\n",
              "      <td>2003</td>\n",
              "      <td>6032</td>\n",
              "      <td>8518</td>\n",
              "      <td>19605</td>\n",
              "      <td>281</td>\n",
              "    </tr>\n",
              "    <tr>\n",
              "      <th>22</th>\n",
              "      <td>2004</td>\n",
              "      <td>8332</td>\n",
              "      <td>7978</td>\n",
              "      <td>17400</td>\n",
              "      <td>1821</td>\n",
              "    </tr>\n",
              "    <tr>\n",
              "      <th>23</th>\n",
              "      <td>2005</td>\n",
              "      <td>5785</td>\n",
              "      <td>7269</td>\n",
              "      <td>23551</td>\n",
              "      <td>1918</td>\n",
              "    </tr>\n",
              "    <tr>\n",
              "      <th>24</th>\n",
              "      <td>2006</td>\n",
              "      <td>6439</td>\n",
              "      <td>12372</td>\n",
              "      <td>18024</td>\n",
              "      <td>1878</td>\n",
              "    </tr>\n",
              "    <tr>\n",
              "      <th>25</th>\n",
              "      <td>2007</td>\n",
              "      <td>10902</td>\n",
              "      <td>21258</td>\n",
              "      <td>24683</td>\n",
              "      <td>1525</td>\n",
              "    </tr>\n",
              "    <tr>\n",
              "      <th>26</th>\n",
              "      <td>2008</td>\n",
              "      <td>12876</td>\n",
              "      <td>22090</td>\n",
              "      <td>25471</td>\n",
              "      <td>1516</td>\n",
              "    </tr>\n",
              "    <tr>\n",
              "      <th>27</th>\n",
              "      <td>2009</td>\n",
              "      <td>2179</td>\n",
              "      <td>5682</td>\n",
              "      <td>10191</td>\n",
              "      <td>1204</td>\n",
              "    </tr>\n",
              "    <tr>\n",
              "      <th>28</th>\n",
              "      <td>2010</td>\n",
              "      <td>2649</td>\n",
              "      <td>7222</td>\n",
              "      <td>13150</td>\n",
              "      <td>442</td>\n",
              "    </tr>\n",
              "    <tr>\n",
              "      <th>29</th>\n",
              "      <td>2011</td>\n",
              "      <td>3893</td>\n",
              "      <td>11628</td>\n",
              "      <td>23221</td>\n",
              "      <td>1688</td>\n",
              "    </tr>\n",
              "    <tr>\n",
              "      <th>30</th>\n",
              "      <td>2012</td>\n",
              "      <td>1899</td>\n",
              "      <td>8763</td>\n",
              "      <td>27958</td>\n",
              "      <td>1736</td>\n",
              "    </tr>\n",
              "    <tr>\n",
              "      <th>31</th>\n",
              "      <td>2013</td>\n",
              "      <td>1055</td>\n",
              "      <td>6517</td>\n",
              "      <td>16255</td>\n",
              "      <td>607</td>\n",
              "    </tr>\n",
              "    <tr>\n",
              "      <th>32</th>\n",
              "      <td>2014</td>\n",
              "      <td>409</td>\n",
              "      <td>1942</td>\n",
              "      <td>4703</td>\n",
              "      <td>329</td>\n",
              "    </tr>\n",
              "    <tr>\n",
              "      <th>33</th>\n",
              "      <td>2015</td>\n",
              "      <td>50</td>\n",
              "      <td>702</td>\n",
              "      <td>1172</td>\n",
              "      <td>125</td>\n",
              "    </tr>\n",
              "    <tr>\n",
              "      <th>34</th>\n",
              "      <td>2016</td>\n",
              "      <td>0</td>\n",
              "      <td>108</td>\n",
              "      <td>220</td>\n",
              "      <td>25</td>\n",
              "    </tr>\n",
              "  </tbody>\n",
              "</table>\n",
              "</div>"
            ],
            "text/plain": [
              "    Year    Gas  Petrol  Diesel  Other\n",
              "0   1982      0      94       0      0\n",
              "1   1983      0     347       0      0\n",
              "2   1984    300       0     334      0\n",
              "3   1985   1030    1184     984      0\n",
              "4   1986    511     681    1066    340\n",
              "5   1987   1817    1840     400    940\n",
              "6   1988   2999    1882    2060      1\n",
              "7   1989   2626    1641    1304    330\n",
              "8   1990   1290    3247       1      0\n",
              "9   1991   1566    6776    1063    400\n",
              "10  1992   2358    1925    2824    350\n",
              "11  1993   1231    3375    2302      0\n",
              "12  1994   2386    5691    2569     77\n",
              "13  1995   2373    5115    4563    666\n",
              "14  1996   4264    6792    6996   1235\n",
              "15  1997   7031    7336    7877    370\n",
              "16  1998   5578    7511    8634    310\n",
              "17  1999   4069    6147   16742   1493\n",
              "18  2000   6459   10754   23102    531\n",
              "19  2001   3932    7590   22115   1029\n",
              "20  2002   3375    7069   18144    479\n",
              "21  2003   6032    8518   19605    281\n",
              "22  2004   8332    7978   17400   1821\n",
              "23  2005   5785    7269   23551   1918\n",
              "24  2006   6439   12372   18024   1878\n",
              "25  2007  10902   21258   24683   1525\n",
              "26  2008  12876   22090   25471   1516\n",
              "27  2009   2179    5682   10191   1204\n",
              "28  2010   2649    7222   13150    442\n",
              "29  2011   3893   11628   23221   1688\n",
              "30  2012   1899    8763   27958   1736\n",
              "31  2013   1055    6517   16255    607\n",
              "32  2014    409    1942    4703    329\n",
              "33  2015     50     702    1172    125\n",
              "34  2016      0     108     220     25"
            ]
          },
          "metadata": {},
          "execution_count": 20
        }
      ]
    },
    {
      "cell_type": "code",
      "metadata": {
        "colab": {
          "base_uri": "https://localhost:8080/",
          "height": 405
        },
        "id": "L1D8LIrNM2N2",
        "outputId": "03e4ac69-6274-4ef7-f7f1-21a03c1d6fd2"
      },
      "source": [
        "colors = [\"#011638\", \"#7e2987\", \"#ef2026\"] #usually you'd like to use your organization's colors\n",
        "labels = [\"Diesel\", \"Petrol\", \"Gas\"] #labels for the legend\n",
        "plt.figure(figsize=(12,6))\n",
        "plt.stackplot(df_fuel_engine_types[\"Year\"], \n",
        "              df_fuel_engine_types[\"Diesel\"],\n",
        "              df_fuel_engine_types[\"Petrol\"],\n",
        "              df_fuel_engine_types[\"Gas\"],\n",
        "              colors=colors,\n",
        "              edgecolor='none') #to remove edges between the stacked areas\n",
        "plt.xticks(df_fuel_engine_types[\"Year\"], rotation=45) #specify xticks to have all the years on the x-axis\n",
        "plt.legend(labels=labels, loc=\"upper left\")\n",
        "plt.ylabel(\"Number of Cars\", fontsize=13)\n",
        "plt.title(\"Popularity of Engine Fuel Types (1982-2016)\", fontsize=14, weight=\"bold\")\n",
        "sns.despine() #remove the right and upper edges of the graph\n",
        "plt.show()"
      ],
      "execution_count": 24,
      "outputs": [
        {
          "output_type": "display_data",
          "data": {
            "image/png": "[encoded data removed]",
            "text/plain": [
              "<Figure size 864x432 with 1 Axes>"
            ]
          },
          "metadata": {
            "needs_background": "light"
          }
        }
      ]
    },
    {
      "cell_type": "markdown",
      "metadata": {
        "id": "xRO1dFQJjNdr"
      },
      "source": [
        "Make sure to format the graph to make the information you want to convey clear. Compare between the graphs above and below."
      ]
    },
    {
      "cell_type": "code",
      "metadata": {
        "colab": {
          "base_uri": "https://localhost:8080/",
          "height": 317
        },
        "id": "3kOr6XsJjLSD",
        "outputId": "35114a34-5c1b-4dc3-f47f-97d6bc885d62"
      },
      "source": [
        "plt.stackplot(df_fuel_engine_types[\"Year\"], \n",
        "              df_fuel_engine_types[\"Diesel\"],\n",
        "              df_fuel_engine_types[\"Petrol\"],\n",
        "              df_fuel_engine_types[\"Gas\"])"
      ],
      "execution_count": 21,
      "outputs": [
        {
          "output_type": "execute_result",
          "data": {
            "text/plain": [
              "[<matplotlib.collections.PolyCollection at 0x7f2d6d6b9810>,\n",
              " <matplotlib.collections.PolyCollection at 0x7f2d6d6b9c90>,\n",
              " <matplotlib.collections.PolyCollection at 0x7f2d6d6b9fd0>]"
            ]
          },
          "metadata": {},
          "execution_count": 21
        },
        {
          "output_type": "display_data",
          "data": {
            "image/png": "[encoded data removed]",
            "text/plain": [
              "<Figure size 432x288 with 1 Axes>"
            ]
          },
          "metadata": {
            "needs_background": "light"
          }
        }
      ]
    },
    {
      "cell_type": "markdown",
      "metadata": {
        "id": "qwbBbv1XMvQQ"
      },
      "source": [
        "## Line and Bar Chart"
      ]
    },
    {
      "cell_type": "markdown",
      "metadata": {
        "id": "SZg2LHbglpJs"
      },
      "source": [
        "This chart has dual y axes. The left y-axis is the primary one and it refers to the bars. It displays the number of occurrences. The right y-axis is the secondary one and it refers to the line chart. It is used to display percentages."
      ]
    },
    {
      "cell_type": "code",
      "metadata": {
        "colab": {
          "base_uri": "https://localhost:8080/",
          "height": 294
        },
        "id": "M4zeSRcpWVMO",
        "outputId": "de1bc5b5-601a-4df5-d26a-1c6b5ea58cc3"
      },
      "source": [
        "df_kd_nuggets = pd.read_csv(\"https://raw.githubusercontent.com/raneemsultan/Data-Engineering-W21/main/Lab3/bar_line_chart_data.csv\")\n",
        "df_kd_nuggets"
      ],
      "execution_count": null,
      "outputs": [
        {
          "output_type": "execute_result",
          "data": {
            "text/html": [
              "<div>\n",
              "<style scoped>\n",
              "    .dataframe tbody tr th:only-of-type {\n",
              "        vertical-align: middle;\n",
              "    }\n",
              "\n",
              "    .dataframe tbody tr th {\n",
              "        vertical-align: top;\n",
              "    }\n",
              "\n",
              "    .dataframe thead th {\n",
              "        text-align: right;\n",
              "    }\n",
              "</style>\n",
              "<table border=\"1\" class=\"dataframe\">\n",
              "  <thead>\n",
              "    <tr style=\"text-align: right;\">\n",
              "      <th></th>\n",
              "      <th>Year</th>\n",
              "      <th>Python Users</th>\n",
              "      <th>Participants</th>\n",
              "    </tr>\n",
              "  </thead>\n",
              "  <tbody>\n",
              "    <tr>\n",
              "      <th>0</th>\n",
              "      <td>2012</td>\n",
              "      <td>0.149</td>\n",
              "      <td>798</td>\n",
              "    </tr>\n",
              "    <tr>\n",
              "      <th>1</th>\n",
              "      <td>2013</td>\n",
              "      <td>0.133</td>\n",
              "      <td>1880</td>\n",
              "    </tr>\n",
              "    <tr>\n",
              "      <th>2</th>\n",
              "      <td>2014</td>\n",
              "      <td>0.195</td>\n",
              "      <td>3285</td>\n",
              "    </tr>\n",
              "    <tr>\n",
              "      <th>3</th>\n",
              "      <td>2015</td>\n",
              "      <td>0.303</td>\n",
              "      <td>2800</td>\n",
              "    </tr>\n",
              "    <tr>\n",
              "      <th>4</th>\n",
              "      <td>2016</td>\n",
              "      <td>0.458</td>\n",
              "      <td>2895</td>\n",
              "    </tr>\n",
              "    <tr>\n",
              "      <th>5</th>\n",
              "      <td>2017</td>\n",
              "      <td>0.526</td>\n",
              "      <td>2900</td>\n",
              "    </tr>\n",
              "    <tr>\n",
              "      <th>6</th>\n",
              "      <td>2018</td>\n",
              "      <td>0.656</td>\n",
              "      <td>2300</td>\n",
              "    </tr>\n",
              "    <tr>\n",
              "      <th>7</th>\n",
              "      <td>2019</td>\n",
              "      <td>0.658</td>\n",
              "      <td>1800</td>\n",
              "    </tr>\n",
              "  </tbody>\n",
              "</table>\n",
              "</div>"
            ],
            "text/plain": [
              "   Year  Python Users  Participants\n",
              "0  2012         0.149           798\n",
              "1  2013         0.133          1880\n",
              "2  2014         0.195          3285\n",
              "3  2015         0.303          2800\n",
              "4  2016         0.458          2895\n",
              "5  2017         0.526          2900\n",
              "6  2018         0.656          2300\n",
              "7  2019         0.658          1800"
            ]
          },
          "metadata": {},
          "execution_count": 54
        }
      ]
    },
    {
      "cell_type": "code",
      "metadata": {
        "colab": {
          "base_uri": "https://localhost:8080/",
          "height": 462
        },
        "id": "iL9b5i0fksrg",
        "outputId": "95daa727-1331-4db9-ea48-22c141bdeeba"
      },
      "source": [
        "fig, ax = plt.subplots(figsize=(10,7)) #the figure is the complete figure which encompasses all elements in the chart. the axes is the actual plot we are creating. a figure can contain multiple axes.\n",
        "ax.bar(df_kd_nuggets[\"Year\"], \n",
        "       df_kd_nuggets[\"Participants\"],\n",
        "       color=\"k\")\n",
        "ax.set_ylabel(\"Number of Participants\",\n",
        "              weight=\"bold\")\n",
        "ax.tick_params(axis=\"y\",\n",
        "                width=2,\n",
        "                labelsize=\"large\")\n",
        "ax1 = ax.twinx() #means that ax and ax1 will have a twin x-axis\n",
        "ax1.set_ylim(0,1) #to make the y-axis show values from 0 to 100\n",
        "ax1.yaxis.set_major_formatter(PercentFormatter(xmax=1.0)) # to make the secondary y-axis in percentage instead of decimal\n",
        "ax1.plot(df_kd_nuggets[\"Year\"],\n",
        "         df_kd_nuggets[\"Python Users\"], \n",
        "         color=\"#b60000\", #hex codeo for dark red\n",
        "         marker=\"D\") #diamond shape for markers\n",
        "ax1.set_ylabel(\"Python Users\",\n",
        "               color=\"#b60000\",\n",
        "               weight=\"bold\")\n",
        "ax1.tick_params(axis=\"y\",\n",
        "               colors=\"#b60000\",\n",
        "                width=2,\n",
        "                labelsize=\"large\")\n",
        "ax.set_title(\"KD Nuggets Survey Python Users (2012-2019)\",\n",
        "             fontsize=14,\n",
        "             weight=\"bold\") #ax1.set_title() will work as well since they share the same figure"
      ],
      "execution_count": null,
      "outputs": [
        {
          "output_type": "execute_result",
          "data": {
            "text/plain": [
              "Text(0.5, 1.0, 'KD Nuggets Survey Python Users (2012-2019)')"
            ]
          },
          "metadata": {},
          "execution_count": 55
        },
        {
          "output_type": "display_data",
          "data": {
            "image/png": "[encoded data removed]",
            "text/plain": [
              "<Figure size 720x504 with 2 Axes>"
            ]
          },
          "metadata": {}
        }
      ]
    },
    {
      "cell_type": "markdown",
      "metadata": {
        "id": "nxS4bLI6lAJM"
      },
      "source": [
        "Without formatting:"
      ]
    },
    {
      "cell_type": "code",
      "metadata": {
        "colab": {
          "base_uri": "https://localhost:8080/",
          "height": 282
        },
        "id": "ISo2igPSk_3A",
        "outputId": "5f768518-a339-40c0-81ab-778dd99c732b"
      },
      "source": [
        "fig, ax = plt.subplots() #the figure is the complete figure which encompasses all elements in the chart. the axes is the actual plot we are creating. a figure can contain multiple axes.\n",
        "ax.bar(df_kd_nuggets[\"Year\"], \n",
        "       df_kd_nuggets[\"Participants\"])\n",
        "\n",
        "ax1 = ax.twinx() #means that ax and ax1 will have a twin x-axis\n",
        "\n",
        "ax1.plot(df_kd_nuggets[\"Year\"],\n",
        "         df_kd_nuggets[\"Python Users\"])#diamond shape for markers\n"
      ],
      "execution_count": null,
      "outputs": [
        {
          "output_type": "execute_result",
          "data": {
            "text/plain": [
              "[<matplotlib.lines.Line2D at 0x7f1a53269290>]"
            ]
          },
          "metadata": {},
          "execution_count": 46
        },
        {
          "output_type": "display_data",
          "data": {
            "image/png": "[encoded data removed]",
            "text/plain": [
              "<Figure size 432x288 with 2 Axes>"
            ]
          },
          "metadata": {}
        }
      ]
    },
    {
      "cell_type": "markdown",
      "metadata": {
        "id": "aEvwBFX7M4e2"
      },
      "source": [
        "# Data Cleaning"
      ]
    },
    {
      "cell_type": "markdown",
      "metadata": {
        "id": "4ULZvn5uTjKs"
      },
      "source": [
        "Examples of data cleaning include cleaning:\n",
        "\n",
        "1.   **Missing Data**\n",
        "2.   **Irregular Data** (Outliers)\n",
        "3.   **Unnecessary Data** — Repetitive Data, Duplicates and more\n",
        "4.   **Inconsistent Data** — Capitalization, Addresses and more"
      ]
    },
    {
      "cell_type": "markdown",
      "metadata": {
        "id": "-9EwI3L4n4b5"
      },
      "source": [
        "Almost any dataset that you are going to be working with is going to have missing data. So learning how to deal with missing values is essential. "
      ]
    },
    {
      "cell_type": "markdown",
      "metadata": {
        "id": "3Yfv9n4ppSE5"
      },
      "source": [
        "Let's start with a small toy datset."
      ]
    },
    {
      "cell_type": "code",
      "metadata": {
        "id": "_ZeDcUWSM5bI"
      },
      "source": [
        "people = {\n",
        "    'first': ['Corey', 'Jane', 'John', 'Chris', np.nan, None, 'NA'], \n",
        "    'last': ['Schafer', 'Doe', 'Doe', 'Schafer', np.nan, np.nan, 'Missing'], \n",
        "    'email': ['CoreyMSchafer@gmail.com', 'JaneDoe@email.com', 'JohnDoe@email.com', None, np.nan, 'Anonymous@email.com', 'NA'],\n",
        "    'age': ['33', '55', '63', '36', None, None, 'Missing']\n",
        "}"
      ],
      "execution_count": null,
      "outputs": []
    },
    {
      "cell_type": "code",
      "metadata": {
        "colab": {
          "base_uri": "https://localhost:8080/",
          "height": 263
        },
        "id": "IjAAjEqwpZs3",
        "outputId": "4ea25e8a-c97a-4215-dd06-f574dbe9b2c8"
      },
      "source": [
        "df_people = pd.DataFrame(people)\n",
        "df_people"
      ],
      "execution_count": null,
      "outputs": [
        {
          "output_type": "execute_result",
          "data": {
            "text/html": [
              "<div>\n",
              "<style scoped>\n",
              "    .dataframe tbody tr th:only-of-type {\n",
              "        vertical-align: middle;\n",
              "    }\n",
              "\n",
              "    .dataframe tbody tr th {\n",
              "        vertical-align: top;\n",
              "    }\n",
              "\n",
              "    .dataframe thead th {\n",
              "        text-align: right;\n",
              "    }\n",
              "</style>\n",
              "<table border=\"1\" class=\"dataframe\">\n",
              "  <thead>\n",
              "    <tr style=\"text-align: right;\">\n",
              "      <th></th>\n",
              "      <th>first</th>\n",
              "      <th>last</th>\n",
              "      <th>email</th>\n",
              "      <th>age</th>\n",
              "    </tr>\n",
              "  </thead>\n",
              "  <tbody>\n",
              "    <tr>\n",
              "      <th>0</th>\n",
              "      <td>Corey</td>\n",
              "      <td>Schafer</td>\n",
              "      <td>CoreyMSchafer@gmail.com</td>\n",
              "      <td>33</td>\n",
              "    </tr>\n",
              "    <tr>\n",
              "      <th>1</th>\n",
              "      <td>Jane</td>\n",
              "      <td>Doe</td>\n",
              "      <td>JaneDoe@email.com</td>\n",
              "      <td>55</td>\n",
              "    </tr>\n",
              "    <tr>\n",
              "      <th>2</th>\n",
              "      <td>John</td>\n",
              "      <td>Doe</td>\n",
              "      <td>JohnDoe@email.com</td>\n",
              "      <td>63</td>\n",
              "    </tr>\n",
              "    <tr>\n",
              "      <th>3</th>\n",
              "      <td>Chris</td>\n",
              "      <td>Schafer</td>\n",
              "      <td>None</td>\n",
              "      <td>36</td>\n",
              "    </tr>\n",
              "    <tr>\n",
              "      <th>4</th>\n",
              "      <td>NaN</td>\n",
              "      <td>NaN</td>\n",
              "      <td>NaN</td>\n",
              "      <td>None</td>\n",
              "    </tr>\n",
              "    <tr>\n",
              "      <th>5</th>\n",
              "      <td>None</td>\n",
              "      <td>NaN</td>\n",
              "      <td>Anonymous@email.com</td>\n",
              "      <td>None</td>\n",
              "    </tr>\n",
              "    <tr>\n",
              "      <th>6</th>\n",
              "      <td>NA</td>\n",
              "      <td>Missing</td>\n",
              "      <td>NA</td>\n",
              "      <td>Missing</td>\n",
              "    </tr>\n",
              "  </tbody>\n",
              "</table>\n",
              "</div>"
            ],
            "text/plain": [
              "   first     last                    email      age\n",
              "0  Corey  Schafer  CoreyMSchafer@gmail.com       33\n",
              "1   Jane      Doe        JaneDoe@email.com       55\n",
              "2   John      Doe        JohnDoe@email.com       63\n",
              "3  Chris  Schafer                     None       36\n",
              "4    NaN      NaN                      NaN     None\n",
              "5   None      NaN      Anonymous@email.com     None\n",
              "6     NA  Missing                       NA  Missing"
            ]
          },
          "metadata": {},
          "execution_count": 21
        }
      ]
    },
    {
      "cell_type": "markdown",
      "metadata": {
        "id": "9vSunh84zMO5"
      },
      "source": [
        "## Dropping Missing Values"
      ]
    },
    {
      "cell_type": "markdown",
      "metadata": {
        "id": "ZfJ7YkkWqE9i"
      },
      "source": [
        "As we can see we have missing values in our data. Depending on what you want to do with the data, you will handle the missing values in different ways. One thing that you might want to do is to simply remove the data. In order to do that, we can use the `dropna()` method."
      ]
    },
    {
      "cell_type": "code",
      "metadata": {
        "colab": {
          "base_uri": "https://localhost:8080/",
          "height": 171
        },
        "id": "zZ-kk910pzvA",
        "outputId": "840b789e-39db-4f78-f574-e58f365fa38d"
      },
      "source": [
        "df_people.dropna() #default arguments: axis='index' (means drop the rows that have missing values), how='any' (drop if any of the values on the specified axis is missing)"
      ],
      "execution_count": null,
      "outputs": [
        {
          "output_type": "execute_result",
          "data": {
            "text/html": [
              "<div>\n",
              "<style scoped>\n",
              "    .dataframe tbody tr th:only-of-type {\n",
              "        vertical-align: middle;\n",
              "    }\n",
              "\n",
              "    .dataframe tbody tr th {\n",
              "        vertical-align: top;\n",
              "    }\n",
              "\n",
              "    .dataframe thead th {\n",
              "        text-align: right;\n",
              "    }\n",
              "</style>\n",
              "<table border=\"1\" class=\"dataframe\">\n",
              "  <thead>\n",
              "    <tr style=\"text-align: right;\">\n",
              "      <th></th>\n",
              "      <th>first</th>\n",
              "      <th>last</th>\n",
              "      <th>email</th>\n",
              "      <th>age</th>\n",
              "    </tr>\n",
              "  </thead>\n",
              "  <tbody>\n",
              "    <tr>\n",
              "      <th>0</th>\n",
              "      <td>Corey</td>\n",
              "      <td>Schafer</td>\n",
              "      <td>CoreyMSchafer@gmail.com</td>\n",
              "      <td>33</td>\n",
              "    </tr>\n",
              "    <tr>\n",
              "      <th>1</th>\n",
              "      <td>Jane</td>\n",
              "      <td>Doe</td>\n",
              "      <td>JaneDoe@email.com</td>\n",
              "      <td>55</td>\n",
              "    </tr>\n",
              "    <tr>\n",
              "      <th>2</th>\n",
              "      <td>John</td>\n",
              "      <td>Doe</td>\n",
              "      <td>JohnDoe@email.com</td>\n",
              "      <td>63</td>\n",
              "    </tr>\n",
              "    <tr>\n",
              "      <th>6</th>\n",
              "      <td>NA</td>\n",
              "      <td>Missing</td>\n",
              "      <td>NA</td>\n",
              "      <td>Missing</td>\n",
              "    </tr>\n",
              "  </tbody>\n",
              "</table>\n",
              "</div>"
            ],
            "text/plain": [
              "   first     last                    email      age\n",
              "0  Corey  Schafer  CoreyMSchafer@gmail.com       33\n",
              "1   Jane      Doe        JaneDoe@email.com       55\n",
              "2   John      Doe        JohnDoe@email.com       63\n",
              "6     NA  Missing                       NA  Missing"
            ]
          },
          "metadata": {},
          "execution_count": 22
        }
      ]
    },
    {
      "cell_type": "markdown",
      "metadata": {
        "id": "gz8ryGzRqnYB"
      },
      "source": [
        "Another way we can do this is by dropping the rows that have **all** of the values missing."
      ]
    },
    {
      "cell_type": "code",
      "metadata": {
        "colab": {
          "base_uri": "https://localhost:8080/",
          "height": 232
        },
        "id": "Tp-eZ1hLqigN",
        "outputId": "6ff5467d-5277-4d67-d753-9b4077721c4f"
      },
      "source": [
        "df_people.dropna(how='all')"
      ],
      "execution_count": null,
      "outputs": [
        {
          "output_type": "execute_result",
          "data": {
            "text/html": [
              "<div>\n",
              "<style scoped>\n",
              "    .dataframe tbody tr th:only-of-type {\n",
              "        vertical-align: middle;\n",
              "    }\n",
              "\n",
              "    .dataframe tbody tr th {\n",
              "        vertical-align: top;\n",
              "    }\n",
              "\n",
              "    .dataframe thead th {\n",
              "        text-align: right;\n",
              "    }\n",
              "</style>\n",
              "<table border=\"1\" class=\"dataframe\">\n",
              "  <thead>\n",
              "    <tr style=\"text-align: right;\">\n",
              "      <th></th>\n",
              "      <th>first</th>\n",
              "      <th>last</th>\n",
              "      <th>email</th>\n",
              "      <th>age</th>\n",
              "    </tr>\n",
              "  </thead>\n",
              "  <tbody>\n",
              "    <tr>\n",
              "      <th>0</th>\n",
              "      <td>Corey</td>\n",
              "      <td>Schafer</td>\n",
              "      <td>CoreyMSchafer@gmail.com</td>\n",
              "      <td>33</td>\n",
              "    </tr>\n",
              "    <tr>\n",
              "      <th>1</th>\n",
              "      <td>Jane</td>\n",
              "      <td>Doe</td>\n",
              "      <td>JaneDoe@email.com</td>\n",
              "      <td>55</td>\n",
              "    </tr>\n",
              "    <tr>\n",
              "      <th>2</th>\n",
              "      <td>John</td>\n",
              "      <td>Doe</td>\n",
              "      <td>JohnDoe@email.com</td>\n",
              "      <td>63</td>\n",
              "    </tr>\n",
              "    <tr>\n",
              "      <th>3</th>\n",
              "      <td>Chris</td>\n",
              "      <td>Schafer</td>\n",
              "      <td>None</td>\n",
              "      <td>36</td>\n",
              "    </tr>\n",
              "    <tr>\n",
              "      <th>5</th>\n",
              "      <td>None</td>\n",
              "      <td>NaN</td>\n",
              "      <td>Anonymous@email.com</td>\n",
              "      <td>None</td>\n",
              "    </tr>\n",
              "    <tr>\n",
              "      <th>6</th>\n",
              "      <td>NA</td>\n",
              "      <td>Missing</td>\n",
              "      <td>NA</td>\n",
              "      <td>Missing</td>\n",
              "    </tr>\n",
              "  </tbody>\n",
              "</table>\n",
              "</div>"
            ],
            "text/plain": [
              "   first     last                    email      age\n",
              "0  Corey  Schafer  CoreyMSchafer@gmail.com       33\n",
              "1   Jane      Doe        JaneDoe@email.com       55\n",
              "2   John      Doe        JohnDoe@email.com       63\n",
              "3  Chris  Schafer                     None       36\n",
              "5   None      NaN      Anonymous@email.com     None\n",
              "6     NA  Missing                       NA  Missing"
            ]
          },
          "metadata": {},
          "execution_count": 23
        }
      ]
    },
    {
      "cell_type": "markdown",
      "metadata": {
        "id": "FyebbFUgr3xb"
      },
      "source": [
        "Also we can drop columns by specifying `axis='columns'`"
      ]
    },
    {
      "cell_type": "code",
      "metadata": {
        "colab": {
          "base_uri": "https://localhost:8080/",
          "height": 263
        },
        "id": "5RvbdHqwrrT-",
        "outputId": "b0fb3c0f-26a6-46f5-ddec-e0056730313a"
      },
      "source": [
        "df_people.dropna(axis='columns',how='all')"
      ],
      "execution_count": null,
      "outputs": [
        {
          "output_type": "execute_result",
          "data": {
            "text/html": [
              "<div>\n",
              "<style scoped>\n",
              "    .dataframe tbody tr th:only-of-type {\n",
              "        vertical-align: middle;\n",
              "    }\n",
              "\n",
              "    .dataframe tbody tr th {\n",
              "        vertical-align: top;\n",
              "    }\n",
              "\n",
              "    .dataframe thead th {\n",
              "        text-align: right;\n",
              "    }\n",
              "</style>\n",
              "<table border=\"1\" class=\"dataframe\">\n",
              "  <thead>\n",
              "    <tr style=\"text-align: right;\">\n",
              "      <th></th>\n",
              "      <th>first</th>\n",
              "      <th>last</th>\n",
              "      <th>email</th>\n",
              "      <th>age</th>\n",
              "    </tr>\n",
              "  </thead>\n",
              "  <tbody>\n",
              "    <tr>\n",
              "      <th>0</th>\n",
              "      <td>Corey</td>\n",
              "      <td>Schafer</td>\n",
              "      <td>CoreyMSchafer@gmail.com</td>\n",
              "      <td>33</td>\n",
              "    </tr>\n",
              "    <tr>\n",
              "      <th>1</th>\n",
              "      <td>Jane</td>\n",
              "      <td>Doe</td>\n",
              "      <td>JaneDoe@email.com</td>\n",
              "      <td>55</td>\n",
              "    </tr>\n",
              "    <tr>\n",
              "      <th>2</th>\n",
              "      <td>John</td>\n",
              "      <td>Doe</td>\n",
              "      <td>JohnDoe@email.com</td>\n",
              "      <td>63</td>\n",
              "    </tr>\n",
              "    <tr>\n",
              "      <th>3</th>\n",
              "      <td>Chris</td>\n",
              "      <td>Schafer</td>\n",
              "      <td>None</td>\n",
              "      <td>36</td>\n",
              "    </tr>\n",
              "    <tr>\n",
              "      <th>4</th>\n",
              "      <td>NaN</td>\n",
              "      <td>NaN</td>\n",
              "      <td>NaN</td>\n",
              "      <td>None</td>\n",
              "    </tr>\n",
              "    <tr>\n",
              "      <th>5</th>\n",
              "      <td>None</td>\n",
              "      <td>NaN</td>\n",
              "      <td>Anonymous@email.com</td>\n",
              "      <td>None</td>\n",
              "    </tr>\n",
              "    <tr>\n",
              "      <th>6</th>\n",
              "      <td>NA</td>\n",
              "      <td>Missing</td>\n",
              "      <td>NA</td>\n",
              "      <td>Missing</td>\n",
              "    </tr>\n",
              "  </tbody>\n",
              "</table>\n",
              "</div>"
            ],
            "text/plain": [
              "   first     last                    email      age\n",
              "0  Corey  Schafer  CoreyMSchafer@gmail.com       33\n",
              "1   Jane      Doe        JaneDoe@email.com       55\n",
              "2   John      Doe        JohnDoe@email.com       63\n",
              "3  Chris  Schafer                     None       36\n",
              "4    NaN      NaN                      NaN     None\n",
              "5   None      NaN      Anonymous@email.com     None\n",
              "6     NA  Missing                       NA  Missing"
            ]
          },
          "metadata": {},
          "execution_count": 24
        }
      ]
    },
    {
      "cell_type": "markdown",
      "metadata": {
        "id": "vZ6LUkoEsaqp"
      },
      "source": [
        "We get the entire dataframe because we have no columns with all missing values."
      ]
    },
    {
      "cell_type": "markdown",
      "metadata": {
        "id": "GGduAyA5sn9I"
      },
      "source": [
        "Another thing we can do is to drop rows when there is a specific column missing. For example, assume that you are doing some analysis on the dataframe above and it's okay to have missing first, last names or email but we need the age to be there. We can specify that when dropping null values by using the `subset` argument and passing a list of columns that we want to look for nulls in."
      ]
    },
    {
      "cell_type": "code",
      "metadata": {
        "colab": {
          "base_uri": "https://localhost:8080/",
          "height": 202
        },
        "id": "ue0JYqqgsQ41",
        "outputId": "b7a11477-1dfc-4871-8e4a-6f023859b4f6"
      },
      "source": [
        "df_people.dropna(axis='index', subset=['age'])"
      ],
      "execution_count": null,
      "outputs": [
        {
          "output_type": "execute_result",
          "data": {
            "text/html": [
              "<div>\n",
              "<style scoped>\n",
              "    .dataframe tbody tr th:only-of-type {\n",
              "        vertical-align: middle;\n",
              "    }\n",
              "\n",
              "    .dataframe tbody tr th {\n",
              "        vertical-align: top;\n",
              "    }\n",
              "\n",
              "    .dataframe thead th {\n",
              "        text-align: right;\n",
              "    }\n",
              "</style>\n",
              "<table border=\"1\" class=\"dataframe\">\n",
              "  <thead>\n",
              "    <tr style=\"text-align: right;\">\n",
              "      <th></th>\n",
              "      <th>first</th>\n",
              "      <th>last</th>\n",
              "      <th>email</th>\n",
              "      <th>age</th>\n",
              "    </tr>\n",
              "  </thead>\n",
              "  <tbody>\n",
              "    <tr>\n",
              "      <th>0</th>\n",
              "      <td>Corey</td>\n",
              "      <td>Schafer</td>\n",
              "      <td>CoreyMSchafer@gmail.com</td>\n",
              "      <td>33</td>\n",
              "    </tr>\n",
              "    <tr>\n",
              "      <th>1</th>\n",
              "      <td>Jane</td>\n",
              "      <td>Doe</td>\n",
              "      <td>JaneDoe@email.com</td>\n",
              "      <td>55</td>\n",
              "    </tr>\n",
              "    <tr>\n",
              "      <th>2</th>\n",
              "      <td>John</td>\n",
              "      <td>Doe</td>\n",
              "      <td>JohnDoe@email.com</td>\n",
              "      <td>63</td>\n",
              "    </tr>\n",
              "    <tr>\n",
              "      <th>3</th>\n",
              "      <td>Chris</td>\n",
              "      <td>Schafer</td>\n",
              "      <td>None</td>\n",
              "      <td>36</td>\n",
              "    </tr>\n",
              "    <tr>\n",
              "      <th>6</th>\n",
              "      <td>NA</td>\n",
              "      <td>Missing</td>\n",
              "      <td>NA</td>\n",
              "      <td>Missing</td>\n",
              "    </tr>\n",
              "  </tbody>\n",
              "</table>\n",
              "</div>"
            ],
            "text/plain": [
              "   first     last                    email      age\n",
              "0  Corey  Schafer  CoreyMSchafer@gmail.com       33\n",
              "1   Jane      Doe        JaneDoe@email.com       55\n",
              "2   John      Doe        JohnDoe@email.com       63\n",
              "3  Chris  Schafer                     None       36\n",
              "6     NA  Missing                       NA  Missing"
            ]
          },
          "metadata": {},
          "execution_count": 25
        }
      ]
    },
    {
      "cell_type": "markdown",
      "metadata": {
        "id": "Uy0hZpEvuBeN"
      },
      "source": [
        "Or maybe you want either the first name or last name to be present but it's okay if one of them is missing."
      ]
    },
    {
      "cell_type": "code",
      "metadata": {
        "colab": {
          "base_uri": "https://localhost:8080/",
          "height": 202
        },
        "id": "xjOJopdxtJFg",
        "outputId": "25b67dcd-81f9-4d12-ef19-e05952650d8a"
      },
      "source": [
        "df_people.dropna(axis='index', how='all', subset=['first', 'last'])"
      ],
      "execution_count": null,
      "outputs": [
        {
          "output_type": "execute_result",
          "data": {
            "text/html": [
              "<div>\n",
              "<style scoped>\n",
              "    .dataframe tbody tr th:only-of-type {\n",
              "        vertical-align: middle;\n",
              "    }\n",
              "\n",
              "    .dataframe tbody tr th {\n",
              "        vertical-align: top;\n",
              "    }\n",
              "\n",
              "    .dataframe thead th {\n",
              "        text-align: right;\n",
              "    }\n",
              "</style>\n",
              "<table border=\"1\" class=\"dataframe\">\n",
              "  <thead>\n",
              "    <tr style=\"text-align: right;\">\n",
              "      <th></th>\n",
              "      <th>first</th>\n",
              "      <th>last</th>\n",
              "      <th>email</th>\n",
              "      <th>age</th>\n",
              "    </tr>\n",
              "  </thead>\n",
              "  <tbody>\n",
              "    <tr>\n",
              "      <th>0</th>\n",
              "      <td>Corey</td>\n",
              "      <td>Schafer</td>\n",
              "      <td>CoreyMSchafer@gmail.com</td>\n",
              "      <td>33</td>\n",
              "    </tr>\n",
              "    <tr>\n",
              "      <th>1</th>\n",
              "      <td>Jane</td>\n",
              "      <td>Doe</td>\n",
              "      <td>JaneDoe@email.com</td>\n",
              "      <td>55</td>\n",
              "    </tr>\n",
              "    <tr>\n",
              "      <th>2</th>\n",
              "      <td>John</td>\n",
              "      <td>Doe</td>\n",
              "      <td>JohnDoe@email.com</td>\n",
              "      <td>63</td>\n",
              "    </tr>\n",
              "    <tr>\n",
              "      <th>3</th>\n",
              "      <td>Chris</td>\n",
              "      <td>Schafer</td>\n",
              "      <td>None</td>\n",
              "      <td>36</td>\n",
              "    </tr>\n",
              "    <tr>\n",
              "      <th>6</th>\n",
              "      <td>NA</td>\n",
              "      <td>Missing</td>\n",
              "      <td>NA</td>\n",
              "      <td>Missing</td>\n",
              "    </tr>\n",
              "  </tbody>\n",
              "</table>\n",
              "</div>"
            ],
            "text/plain": [
              "   first     last                    email      age\n",
              "0  Corey  Schafer  CoreyMSchafer@gmail.com       33\n",
              "1   Jane      Doe        JaneDoe@email.com       55\n",
              "2   John      Doe        JohnDoe@email.com       63\n",
              "3  Chris  Schafer                     None       36\n",
              "6     NA  Missing                       NA  Missing"
            ]
          },
          "metadata": {},
          "execution_count": 26
        }
      ]
    },
    {
      "cell_type": "markdown",
      "metadata": {
        "id": "hAbYkL_-uYUs"
      },
      "source": [
        "One thing you might have noticed is that the dataframe itself is not changing. That's because we either need to assign the resulting the dataframe to variable as shown below"
      ]
    },
    {
      "cell_type": "code",
      "metadata": {
        "id": "maFrLrTZuPGH"
      },
      "source": [
        "df_people_nulls_dropped = df_people.dropna(axis='index', how='all', subset=['first', 'last'])"
      ],
      "execution_count": null,
      "outputs": []
    },
    {
      "cell_type": "markdown",
      "metadata": {
        "id": "GrlzJEfBuk4z"
      },
      "source": [
        "or, we can use the `inplace` argument and set it to `True` in order to change the dataframe itself."
      ]
    },
    {
      "cell_type": "code",
      "metadata": {
        "id": "giR9NKfnuqzi"
      },
      "source": [
        "df_people.dropna(axis='index', how='all', subset=['first', 'last'], inplace=True)"
      ],
      "execution_count": null,
      "outputs": []
    },
    {
      "cell_type": "code",
      "metadata": {
        "colab": {
          "base_uri": "https://localhost:8080/",
          "height": 202
        },
        "id": "aBHwS_UKu1Jx",
        "outputId": "5b007840-6a77-483f-a940-16ca5da69af2"
      },
      "source": [
        "df_people"
      ],
      "execution_count": null,
      "outputs": [
        {
          "output_type": "execute_result",
          "data": {
            "text/html": [
              "<div>\n",
              "<style scoped>\n",
              "    .dataframe tbody tr th:only-of-type {\n",
              "        vertical-align: middle;\n",
              "    }\n",
              "\n",
              "    .dataframe tbody tr th {\n",
              "        vertical-align: top;\n",
              "    }\n",
              "\n",
              "    .dataframe thead th {\n",
              "        text-align: right;\n",
              "    }\n",
              "</style>\n",
              "<table border=\"1\" class=\"dataframe\">\n",
              "  <thead>\n",
              "    <tr style=\"text-align: right;\">\n",
              "      <th></th>\n",
              "      <th>first</th>\n",
              "      <th>last</th>\n",
              "      <th>email</th>\n",
              "      <th>age</th>\n",
              "    </tr>\n",
              "  </thead>\n",
              "  <tbody>\n",
              "    <tr>\n",
              "      <th>0</th>\n",
              "      <td>Corey</td>\n",
              "      <td>Schafer</td>\n",
              "      <td>CoreyMSchafer@gmail.com</td>\n",
              "      <td>33</td>\n",
              "    </tr>\n",
              "    <tr>\n",
              "      <th>1</th>\n",
              "      <td>Jane</td>\n",
              "      <td>Doe</td>\n",
              "      <td>JaneDoe@email.com</td>\n",
              "      <td>55</td>\n",
              "    </tr>\n",
              "    <tr>\n",
              "      <th>2</th>\n",
              "      <td>John</td>\n",
              "      <td>Doe</td>\n",
              "      <td>JohnDoe@email.com</td>\n",
              "      <td>63</td>\n",
              "    </tr>\n",
              "    <tr>\n",
              "      <th>3</th>\n",
              "      <td>Chris</td>\n",
              "      <td>Schafer</td>\n",
              "      <td>None</td>\n",
              "      <td>36</td>\n",
              "    </tr>\n",
              "    <tr>\n",
              "      <th>6</th>\n",
              "      <td>NA</td>\n",
              "      <td>Missing</td>\n",
              "      <td>NA</td>\n",
              "      <td>Missing</td>\n",
              "    </tr>\n",
              "  </tbody>\n",
              "</table>\n",
              "</div>"
            ],
            "text/plain": [
              "   first     last                    email      age\n",
              "0  Corey  Schafer  CoreyMSchafer@gmail.com       33\n",
              "1   Jane      Doe        JaneDoe@email.com       55\n",
              "2   John      Doe        JohnDoe@email.com       63\n",
              "3  Chris  Schafer                     None       36\n",
              "6     NA  Missing                       NA  Missing"
            ]
          },
          "metadata": {},
          "execution_count": 30
        }
      ]
    },
    {
      "cell_type": "markdown",
      "metadata": {
        "id": "8GsBV6ROu6RP"
      },
      "source": [
        "Something else we can notice is that the `NA` and `Missing` values were not treated as missing values. That's because those are custom missing values meaning that maybe the user entered the string \"NA\" or \"Missing\" instead of leaving the field empty. By default, the values that pandas considers missing are `NaN` and `None`. If you're not sure what values are considered missing when `dropna()` is used, you can use the `isna()` method."
      ]
    },
    {
      "cell_type": "code",
      "metadata": {
        "colab": {
          "base_uri": "https://localhost:8080/",
          "height": 202
        },
        "id": "auuvjh8VwrBr",
        "outputId": "a42084f7-b15f-4289-c367-4e2388fa9b07"
      },
      "source": [
        "df_people.isna()"
      ],
      "execution_count": null,
      "outputs": [
        {
          "output_type": "execute_result",
          "data": {
            "text/html": [
              "<div>\n",
              "<style scoped>\n",
              "    .dataframe tbody tr th:only-of-type {\n",
              "        vertical-align: middle;\n",
              "    }\n",
              "\n",
              "    .dataframe tbody tr th {\n",
              "        vertical-align: top;\n",
              "    }\n",
              "\n",
              "    .dataframe thead th {\n",
              "        text-align: right;\n",
              "    }\n",
              "</style>\n",
              "<table border=\"1\" class=\"dataframe\">\n",
              "  <thead>\n",
              "    <tr style=\"text-align: right;\">\n",
              "      <th></th>\n",
              "      <th>first</th>\n",
              "      <th>last</th>\n",
              "      <th>email</th>\n",
              "      <th>age</th>\n",
              "    </tr>\n",
              "  </thead>\n",
              "  <tbody>\n",
              "    <tr>\n",
              "      <th>0</th>\n",
              "      <td>False</td>\n",
              "      <td>False</td>\n",
              "      <td>False</td>\n",
              "      <td>False</td>\n",
              "    </tr>\n",
              "    <tr>\n",
              "      <th>1</th>\n",
              "      <td>False</td>\n",
              "      <td>False</td>\n",
              "      <td>False</td>\n",
              "      <td>False</td>\n",
              "    </tr>\n",
              "    <tr>\n",
              "      <th>2</th>\n",
              "      <td>False</td>\n",
              "      <td>False</td>\n",
              "      <td>False</td>\n",
              "      <td>False</td>\n",
              "    </tr>\n",
              "    <tr>\n",
              "      <th>3</th>\n",
              "      <td>False</td>\n",
              "      <td>False</td>\n",
              "      <td>True</td>\n",
              "      <td>False</td>\n",
              "    </tr>\n",
              "    <tr>\n",
              "      <th>6</th>\n",
              "      <td>False</td>\n",
              "      <td>False</td>\n",
              "      <td>False</td>\n",
              "      <td>False</td>\n",
              "    </tr>\n",
              "  </tbody>\n",
              "</table>\n",
              "</div>"
            ],
            "text/plain": [
              "   first   last  email    age\n",
              "0  False  False  False  False\n",
              "1  False  False  False  False\n",
              "2  False  False  False  False\n",
              "3  False  False   True  False\n",
              "6  False  False  False  False"
            ]
          },
          "metadata": {},
          "execution_count": 31
        }
      ]
    },
    {
      "cell_type": "markdown",
      "metadata": {
        "id": "z9yq5IcZvuW6"
      },
      "source": [
        "One thing we can do in order to remove the custom missing values is to replace all the `NA` and `Missing` values with `NaN`"
      ]
    },
    {
      "cell_type": "code",
      "metadata": {
        "colab": {
          "base_uri": "https://localhost:8080/",
          "height": 202
        },
        "id": "ZxndJrPvu2i4",
        "outputId": "605b671e-5218-4060-ba55-2f1e233485e1"
      },
      "source": [
        "df_people.replace('NA', np.nan, inplace=True)\n",
        "df_people.replace('Missing', np.nan, inplace=True)\n",
        "df_people"
      ],
      "execution_count": null,
      "outputs": [
        {
          "output_type": "execute_result",
          "data": {
            "text/html": [
              "<div>\n",
              "<style scoped>\n",
              "    .dataframe tbody tr th:only-of-type {\n",
              "        vertical-align: middle;\n",
              "    }\n",
              "\n",
              "    .dataframe tbody tr th {\n",
              "        vertical-align: top;\n",
              "    }\n",
              "\n",
              "    .dataframe thead th {\n",
              "        text-align: right;\n",
              "    }\n",
              "</style>\n",
              "<table border=\"1\" class=\"dataframe\">\n",
              "  <thead>\n",
              "    <tr style=\"text-align: right;\">\n",
              "      <th></th>\n",
              "      <th>first</th>\n",
              "      <th>last</th>\n",
              "      <th>email</th>\n",
              "      <th>age</th>\n",
              "    </tr>\n",
              "  </thead>\n",
              "  <tbody>\n",
              "    <tr>\n",
              "      <th>0</th>\n",
              "      <td>Corey</td>\n",
              "      <td>Schafer</td>\n",
              "      <td>CoreyMSchafer@gmail.com</td>\n",
              "      <td>33</td>\n",
              "    </tr>\n",
              "    <tr>\n",
              "      <th>1</th>\n",
              "      <td>Jane</td>\n",
              "      <td>Doe</td>\n",
              "      <td>JaneDoe@email.com</td>\n",
              "      <td>55</td>\n",
              "    </tr>\n",
              "    <tr>\n",
              "      <th>2</th>\n",
              "      <td>John</td>\n",
              "      <td>Doe</td>\n",
              "      <td>JohnDoe@email.com</td>\n",
              "      <td>63</td>\n",
              "    </tr>\n",
              "    <tr>\n",
              "      <th>3</th>\n",
              "      <td>Chris</td>\n",
              "      <td>Schafer</td>\n",
              "      <td>None</td>\n",
              "      <td>36</td>\n",
              "    </tr>\n",
              "    <tr>\n",
              "      <th>6</th>\n",
              "      <td>NaN</td>\n",
              "      <td>NaN</td>\n",
              "      <td>NaN</td>\n",
              "      <td>NaN</td>\n",
              "    </tr>\n",
              "  </tbody>\n",
              "</table>\n",
              "</div>"
            ],
            "text/plain": [
              "   first     last                    email  age\n",
              "0  Corey  Schafer  CoreyMSchafer@gmail.com   33\n",
              "1   Jane      Doe        JaneDoe@email.com   55\n",
              "2   John      Doe        JohnDoe@email.com   63\n",
              "3  Chris  Schafer                     None   36\n",
              "6    NaN      NaN                      NaN  NaN"
            ]
          },
          "metadata": {},
          "execution_count": 15
        }
      ]
    },
    {
      "cell_type": "markdown",
      "metadata": {
        "id": "FWkoWXgKwEbK"
      },
      "source": [
        "Now if we use the `dropna()` method again, we can remove all missing values."
      ]
    },
    {
      "cell_type": "code",
      "metadata": {
        "colab": {
          "base_uri": "https://localhost:8080/",
          "height": 171
        },
        "id": "A6Kz8b3OwCmZ",
        "outputId": "4c69a928-1572-466c-832b-913860ea4d86"
      },
      "source": [
        "df_people.dropna(axis='index', how='all', subset=['first', 'last'], inplace=True)\n",
        "df_people"
      ],
      "execution_count": null,
      "outputs": [
        {
          "output_type": "execute_result",
          "data": {
            "text/html": [
              "<div>\n",
              "<style scoped>\n",
              "    .dataframe tbody tr th:only-of-type {\n",
              "        vertical-align: middle;\n",
              "    }\n",
              "\n",
              "    .dataframe tbody tr th {\n",
              "        vertical-align: top;\n",
              "    }\n",
              "\n",
              "    .dataframe thead th {\n",
              "        text-align: right;\n",
              "    }\n",
              "</style>\n",
              "<table border=\"1\" class=\"dataframe\">\n",
              "  <thead>\n",
              "    <tr style=\"text-align: right;\">\n",
              "      <th></th>\n",
              "      <th>first</th>\n",
              "      <th>last</th>\n",
              "      <th>email</th>\n",
              "      <th>age</th>\n",
              "    </tr>\n",
              "  </thead>\n",
              "  <tbody>\n",
              "    <tr>\n",
              "      <th>0</th>\n",
              "      <td>Corey</td>\n",
              "      <td>Schafer</td>\n",
              "      <td>CoreyMSchafer@gmail.com</td>\n",
              "      <td>33</td>\n",
              "    </tr>\n",
              "    <tr>\n",
              "      <th>1</th>\n",
              "      <td>Jane</td>\n",
              "      <td>Doe</td>\n",
              "      <td>JaneDoe@email.com</td>\n",
              "      <td>55</td>\n",
              "    </tr>\n",
              "    <tr>\n",
              "      <th>2</th>\n",
              "      <td>John</td>\n",
              "      <td>Doe</td>\n",
              "      <td>JohnDoe@email.com</td>\n",
              "      <td>63</td>\n",
              "    </tr>\n",
              "    <tr>\n",
              "      <th>3</th>\n",
              "      <td>Chris</td>\n",
              "      <td>Schafer</td>\n",
              "      <td>None</td>\n",
              "      <td>36</td>\n",
              "    </tr>\n",
              "  </tbody>\n",
              "</table>\n",
              "</div>"
            ],
            "text/plain": [
              "   first     last                    email age\n",
              "0  Corey  Schafer  CoreyMSchafer@gmail.com  33\n",
              "1   Jane      Doe        JaneDoe@email.com  55\n",
              "2   John      Doe        JohnDoe@email.com  63\n",
              "3  Chris  Schafer                     None  36"
            ]
          },
          "metadata": {},
          "execution_count": 17
        }
      ]
    },
    {
      "cell_type": "markdown",
      "metadata": {
        "id": "Y847QUE9zCk5"
      },
      "source": [
        "## Imputation"
      ]
    },
    {
      "cell_type": "markdown",
      "metadata": {
        "id": "b9LVSGAuzShm"
      },
      "source": [
        "Dropping the missing values is not always the answer. Sometimes, we can estimate the missing values from the ones we have. Again, choose the technique you handle the missing values with according to your data and what you plan to do with it. Also, you need to keep mind that you have imputed data not real data when you're proceeding with your analysis."
      ]
    },
    {
      "cell_type": "markdown",
      "metadata": {
        "id": "dTAS34Wkz8i6"
      },
      "source": [
        "Let's use the `age` column for example. Maybe instead of dropping the rows with missing age values, we would like to fill those values."
      ]
    },
    {
      "cell_type": "code",
      "metadata": {
        "colab": {
          "base_uri": "https://localhost:8080/",
          "height": 263
        },
        "id": "eYfRrAsCwQVA",
        "outputId": "8173cc00-8305-49a0-d648-7e191825833e"
      },
      "source": [
        "# creating the dataframe again since we dropped the values before\n",
        "df_people = pd.DataFrame(people)\n",
        "df_people"
      ],
      "execution_count": null,
      "outputs": [
        {
          "output_type": "execute_result",
          "data": {
            "text/html": [
              "<div>\n",
              "<style scoped>\n",
              "    .dataframe tbody tr th:only-of-type {\n",
              "        vertical-align: middle;\n",
              "    }\n",
              "\n",
              "    .dataframe tbody tr th {\n",
              "        vertical-align: top;\n",
              "    }\n",
              "\n",
              "    .dataframe thead th {\n",
              "        text-align: right;\n",
              "    }\n",
              "</style>\n",
              "<table border=\"1\" class=\"dataframe\">\n",
              "  <thead>\n",
              "    <tr style=\"text-align: right;\">\n",
              "      <th></th>\n",
              "      <th>first</th>\n",
              "      <th>last</th>\n",
              "      <th>email</th>\n",
              "      <th>age</th>\n",
              "    </tr>\n",
              "  </thead>\n",
              "  <tbody>\n",
              "    <tr>\n",
              "      <th>0</th>\n",
              "      <td>Corey</td>\n",
              "      <td>Schafer</td>\n",
              "      <td>CoreyMSchafer@gmail.com</td>\n",
              "      <td>33</td>\n",
              "    </tr>\n",
              "    <tr>\n",
              "      <th>1</th>\n",
              "      <td>Jane</td>\n",
              "      <td>Doe</td>\n",
              "      <td>JaneDoe@email.com</td>\n",
              "      <td>55</td>\n",
              "    </tr>\n",
              "    <tr>\n",
              "      <th>2</th>\n",
              "      <td>John</td>\n",
              "      <td>Doe</td>\n",
              "      <td>JohnDoe@email.com</td>\n",
              "      <td>63</td>\n",
              "    </tr>\n",
              "    <tr>\n",
              "      <th>3</th>\n",
              "      <td>Chris</td>\n",
              "      <td>Schafer</td>\n",
              "      <td>None</td>\n",
              "      <td>36</td>\n",
              "    </tr>\n",
              "    <tr>\n",
              "      <th>4</th>\n",
              "      <td>NaN</td>\n",
              "      <td>NaN</td>\n",
              "      <td>NaN</td>\n",
              "      <td>None</td>\n",
              "    </tr>\n",
              "    <tr>\n",
              "      <th>5</th>\n",
              "      <td>None</td>\n",
              "      <td>NaN</td>\n",
              "      <td>Anonymous@email.com</td>\n",
              "      <td>None</td>\n",
              "    </tr>\n",
              "    <tr>\n",
              "      <th>6</th>\n",
              "      <td>NA</td>\n",
              "      <td>Missing</td>\n",
              "      <td>NA</td>\n",
              "      <td>Missing</td>\n",
              "    </tr>\n",
              "  </tbody>\n",
              "</table>\n",
              "</div>"
            ],
            "text/plain": [
              "   first     last                    email      age\n",
              "0  Corey  Schafer  CoreyMSchafer@gmail.com       33\n",
              "1   Jane      Doe        JaneDoe@email.com       55\n",
              "2   John      Doe        JohnDoe@email.com       63\n",
              "3  Chris  Schafer                     None       36\n",
              "4    NaN      NaN                      NaN     None\n",
              "5   None      NaN      Anonymous@email.com     None\n",
              "6     NA  Missing                       NA  Missing"
            ]
          },
          "metadata": {},
          "execution_count": 43
        }
      ]
    },
    {
      "cell_type": "code",
      "metadata": {
        "colab": {
          "base_uri": "https://localhost:8080/",
          "height": 263
        },
        "id": "vL1A2Ogl1AO_",
        "outputId": "d2666dc4-8f50-4e5e-ddf8-7e978078ecad"
      },
      "source": [
        "df_people.replace('NA', np.nan, inplace=True)\n",
        "df_people.replace('Missing', np.nan, inplace=True)\n",
        "df_people"
      ],
      "execution_count": null,
      "outputs": [
        {
          "output_type": "execute_result",
          "data": {
            "text/html": [
              "<div>\n",
              "<style scoped>\n",
              "    .dataframe tbody tr th:only-of-type {\n",
              "        vertical-align: middle;\n",
              "    }\n",
              "\n",
              "    .dataframe tbody tr th {\n",
              "        vertical-align: top;\n",
              "    }\n",
              "\n",
              "    .dataframe thead th {\n",
              "        text-align: right;\n",
              "    }\n",
              "</style>\n",
              "<table border=\"1\" class=\"dataframe\">\n",
              "  <thead>\n",
              "    <tr style=\"text-align: right;\">\n",
              "      <th></th>\n",
              "      <th>first</th>\n",
              "      <th>last</th>\n",
              "      <th>email</th>\n",
              "      <th>age</th>\n",
              "    </tr>\n",
              "  </thead>\n",
              "  <tbody>\n",
              "    <tr>\n",
              "      <th>0</th>\n",
              "      <td>Corey</td>\n",
              "      <td>Schafer</td>\n",
              "      <td>CoreyMSchafer@gmail.com</td>\n",
              "      <td>33</td>\n",
              "    </tr>\n",
              "    <tr>\n",
              "      <th>1</th>\n",
              "      <td>Jane</td>\n",
              "      <td>Doe</td>\n",
              "      <td>JaneDoe@email.com</td>\n",
              "      <td>55</td>\n",
              "    </tr>\n",
              "    <tr>\n",
              "      <th>2</th>\n",
              "      <td>John</td>\n",
              "      <td>Doe</td>\n",
              "      <td>JohnDoe@email.com</td>\n",
              "      <td>63</td>\n",
              "    </tr>\n",
              "    <tr>\n",
              "      <th>3</th>\n",
              "      <td>Chris</td>\n",
              "      <td>Schafer</td>\n",
              "      <td>None</td>\n",
              "      <td>36</td>\n",
              "    </tr>\n",
              "    <tr>\n",
              "      <th>4</th>\n",
              "      <td>NaN</td>\n",
              "      <td>NaN</td>\n",
              "      <td>NaN</td>\n",
              "      <td>None</td>\n",
              "    </tr>\n",
              "    <tr>\n",
              "      <th>5</th>\n",
              "      <td>None</td>\n",
              "      <td>NaN</td>\n",
              "      <td>Anonymous@email.com</td>\n",
              "      <td>None</td>\n",
              "    </tr>\n",
              "    <tr>\n",
              "      <th>6</th>\n",
              "      <td>NaN</td>\n",
              "      <td>NaN</td>\n",
              "      <td>NaN</td>\n",
              "      <td>NaN</td>\n",
              "    </tr>\n",
              "  </tbody>\n",
              "</table>\n",
              "</div>"
            ],
            "text/plain": [
              "   first     last                    email   age\n",
              "0  Corey  Schafer  CoreyMSchafer@gmail.com    33\n",
              "1   Jane      Doe        JaneDoe@email.com    55\n",
              "2   John      Doe        JohnDoe@email.com    63\n",
              "3  Chris  Schafer                     None    36\n",
              "4    NaN      NaN                      NaN  None\n",
              "5   None      NaN      Anonymous@email.com  None\n",
              "6    NaN      NaN                      NaN   NaN"
            ]
          },
          "metadata": {},
          "execution_count": 44
        }
      ]
    },
    {
      "cell_type": "markdown",
      "metadata": {
        "id": "KRDf3NNt0snb"
      },
      "source": [
        "One way we can fill the missing values is by filling it with 0s. We can do that using the `fillna()` method"
      ]
    },
    {
      "cell_type": "code",
      "metadata": {
        "colab": {
          "base_uri": "https://localhost:8080/"
        },
        "id": "68RZ83tI029i",
        "outputId": "e2e6006e-b415-4b15-ffd1-89287c40c17b"
      },
      "source": [
        "df_people[\"age\"].fillna(0)"
      ],
      "execution_count": null,
      "outputs": [
        {
          "output_type": "execute_result",
          "data": {
            "text/plain": [
              "0    33\n",
              "1    55\n",
              "2    63\n",
              "3    36\n",
              "4     0\n",
              "5     0\n",
              "6     0\n",
              "Name: age, dtype: object"
            ]
          },
          "metadata": {},
          "execution_count": 45
        }
      ]
    },
    {
      "cell_type": "markdown",
      "metadata": {
        "id": "HIEMehMk1q3g"
      },
      "source": [
        "Another option is to use the mean of the values to fill in the missing values. But before we impute the missing values, we need to make sure that the `age` column is numerical. This can be done usign the `dtypes` attribute."
      ]
    },
    {
      "cell_type": "code",
      "metadata": {
        "colab": {
          "base_uri": "https://localhost:8080/"
        },
        "id": "lRgblX-R0PxC",
        "outputId": "5797d299-1fda-4d61-ecc2-9796459c4157"
      },
      "source": [
        "df_people.dtypes"
      ],
      "execution_count": null,
      "outputs": [
        {
          "output_type": "execute_result",
          "data": {
            "text/plain": [
              "first    object\n",
              "last     object\n",
              "email    object\n",
              "age      object\n",
              "dtype: object"
            ]
          },
          "metadata": {},
          "execution_count": 46
        }
      ]
    },
    {
      "cell_type": "markdown",
      "metadata": {
        "id": "yYBJ7rJ_0gAJ"
      },
      "source": [
        "We can see that the `age` column is not numerical. So before proceeding we need to change it. We actually need to convert it to `float` not `integer` because it has `NaN` values and `NaN` values are float as we can see below: "
      ]
    },
    {
      "cell_type": "code",
      "metadata": {
        "colab": {
          "base_uri": "https://localhost:8080/"
        },
        "id": "rqUS7moC0Y9R",
        "outputId": "d655d309-3740-4a13-8532-9d4a9187ff3f"
      },
      "source": [
        "type(np.nan)"
      ],
      "execution_count": null,
      "outputs": [
        {
          "output_type": "execute_result",
          "data": {
            "text/plain": [
              "float"
            ]
          },
          "metadata": {},
          "execution_count": 47
        }
      ]
    },
    {
      "cell_type": "code",
      "metadata": {
        "id": "-vabMQuL2mQ6"
      },
      "source": [
        "df_people[\"age\"] = df_people[\"age\"].astype(float)"
      ],
      "execution_count": null,
      "outputs": []
    },
    {
      "cell_type": "code",
      "metadata": {
        "colab": {
          "base_uri": "https://localhost:8080/",
          "height": 263
        },
        "id": "y0PJJM_32uls",
        "outputId": "84fb687c-e99e-4657-cd39-4954f53d33fe"
      },
      "source": [
        "df_people"
      ],
      "execution_count": null,
      "outputs": [
        {
          "output_type": "execute_result",
          "data": {
            "text/html": [
              "<div>\n",
              "<style scoped>\n",
              "    .dataframe tbody tr th:only-of-type {\n",
              "        vertical-align: middle;\n",
              "    }\n",
              "\n",
              "    .dataframe tbody tr th {\n",
              "        vertical-align: top;\n",
              "    }\n",
              "\n",
              "    .dataframe thead th {\n",
              "        text-align: right;\n",
              "    }\n",
              "</style>\n",
              "<table border=\"1\" class=\"dataframe\">\n",
              "  <thead>\n",
              "    <tr style=\"text-align: right;\">\n",
              "      <th></th>\n",
              "      <th>first</th>\n",
              "      <th>last</th>\n",
              "      <th>email</th>\n",
              "      <th>age</th>\n",
              "    </tr>\n",
              "  </thead>\n",
              "  <tbody>\n",
              "    <tr>\n",
              "      <th>0</th>\n",
              "      <td>Corey</td>\n",
              "      <td>Schafer</td>\n",
              "      <td>CoreyMSchafer@gmail.com</td>\n",
              "      <td>33.0</td>\n",
              "    </tr>\n",
              "    <tr>\n",
              "      <th>1</th>\n",
              "      <td>Jane</td>\n",
              "      <td>Doe</td>\n",
              "      <td>JaneDoe@email.com</td>\n",
              "      <td>55.0</td>\n",
              "    </tr>\n",
              "    <tr>\n",
              "      <th>2</th>\n",
              "      <td>John</td>\n",
              "      <td>Doe</td>\n",
              "      <td>JohnDoe@email.com</td>\n",
              "      <td>63.0</td>\n",
              "    </tr>\n",
              "    <tr>\n",
              "      <th>3</th>\n",
              "      <td>Chris</td>\n",
              "      <td>Schafer</td>\n",
              "      <td>None</td>\n",
              "      <td>36.0</td>\n",
              "    </tr>\n",
              "    <tr>\n",
              "      <th>4</th>\n",
              "      <td>NaN</td>\n",
              "      <td>NaN</td>\n",
              "      <td>NaN</td>\n",
              "      <td>NaN</td>\n",
              "    </tr>\n",
              "    <tr>\n",
              "      <th>5</th>\n",
              "      <td>None</td>\n",
              "      <td>NaN</td>\n",
              "      <td>Anonymous@email.com</td>\n",
              "      <td>NaN</td>\n",
              "    </tr>\n",
              "    <tr>\n",
              "      <th>6</th>\n",
              "      <td>NaN</td>\n",
              "      <td>NaN</td>\n",
              "      <td>NaN</td>\n",
              "      <td>NaN</td>\n",
              "    </tr>\n",
              "  </tbody>\n",
              "</table>\n",
              "</div>"
            ],
            "text/plain": [
              "   first     last                    email   age\n",
              "0  Corey  Schafer  CoreyMSchafer@gmail.com  33.0\n",
              "1   Jane      Doe        JaneDoe@email.com  55.0\n",
              "2   John      Doe        JohnDoe@email.com  63.0\n",
              "3  Chris  Schafer                     None  36.0\n",
              "4    NaN      NaN                      NaN   NaN\n",
              "5   None      NaN      Anonymous@email.com   NaN\n",
              "6    NaN      NaN                      NaN   NaN"
            ]
          },
          "metadata": {},
          "execution_count": 50
        }
      ]
    },
    {
      "cell_type": "code",
      "metadata": {
        "colab": {
          "base_uri": "https://localhost:8080/"
        },
        "id": "u0UVXm5121vQ",
        "outputId": "62d8fb8c-d34f-42a2-b741-a2fe99ac8820"
      },
      "source": [
        "df_people.dtypes"
      ],
      "execution_count": null,
      "outputs": [
        {
          "output_type": "execute_result",
          "data": {
            "text/plain": [
              "first     object\n",
              "last      object\n",
              "email     object\n",
              "age      float64\n",
              "dtype: object"
            ]
          },
          "metadata": {},
          "execution_count": 51
        }
      ]
    },
    {
      "cell_type": "markdown",
      "metadata": {
        "id": "gAau8pOp3BXF"
      },
      "source": [
        "Perfect! Now we can proceed with filling in the missing values with the mean."
      ]
    },
    {
      "cell_type": "code",
      "metadata": {
        "colab": {
          "base_uri": "https://localhost:8080/",
          "height": 263
        },
        "id": "IqWF-2cm3Ann",
        "outputId": "18e30373-3c09-4763-a1b2-cec20ee0046c"
      },
      "source": [
        "df_people[\"age\"].fillna(value=df_people[\"age\"].mean(), inplace=True)\n",
        "df_people"
      ],
      "execution_count": null,
      "outputs": [
        {
          "output_type": "execute_result",
          "data": {
            "text/html": [
              "<div>\n",
              "<style scoped>\n",
              "    .dataframe tbody tr th:only-of-type {\n",
              "        vertical-align: middle;\n",
              "    }\n",
              "\n",
              "    .dataframe tbody tr th {\n",
              "        vertical-align: top;\n",
              "    }\n",
              "\n",
              "    .dataframe thead th {\n",
              "        text-align: right;\n",
              "    }\n",
              "</style>\n",
              "<table border=\"1\" class=\"dataframe\">\n",
              "  <thead>\n",
              "    <tr style=\"text-align: right;\">\n",
              "      <th></th>\n",
              "      <th>first</th>\n",
              "      <th>last</th>\n",
              "      <th>email</th>\n",
              "      <th>age</th>\n",
              "    </tr>\n",
              "  </thead>\n",
              "  <tbody>\n",
              "    <tr>\n",
              "      <th>0</th>\n",
              "      <td>Corey</td>\n",
              "      <td>Schafer</td>\n",
              "      <td>CoreyMSchafer@gmail.com</td>\n",
              "      <td>33.00</td>\n",
              "    </tr>\n",
              "    <tr>\n",
              "      <th>1</th>\n",
              "      <td>Jane</td>\n",
              "      <td>Doe</td>\n",
              "      <td>JaneDoe@email.com</td>\n",
              "      <td>55.00</td>\n",
              "    </tr>\n",
              "    <tr>\n",
              "      <th>2</th>\n",
              "      <td>John</td>\n",
              "      <td>Doe</td>\n",
              "      <td>JohnDoe@email.com</td>\n",
              "      <td>63.00</td>\n",
              "    </tr>\n",
              "    <tr>\n",
              "      <th>3</th>\n",
              "      <td>Chris</td>\n",
              "      <td>Schafer</td>\n",
              "      <td>None</td>\n",
              "      <td>36.00</td>\n",
              "    </tr>\n",
              "    <tr>\n",
              "      <th>4</th>\n",
              "      <td>NaN</td>\n",
              "      <td>NaN</td>\n",
              "      <td>NaN</td>\n",
              "      <td>46.75</td>\n",
              "    </tr>\n",
              "    <tr>\n",
              "      <th>5</th>\n",
              "      <td>None</td>\n",
              "      <td>NaN</td>\n",
              "      <td>Anonymous@email.com</td>\n",
              "      <td>46.75</td>\n",
              "    </tr>\n",
              "    <tr>\n",
              "      <th>6</th>\n",
              "      <td>NaN</td>\n",
              "      <td>NaN</td>\n",
              "      <td>NaN</td>\n",
              "      <td>46.75</td>\n",
              "    </tr>\n",
              "  </tbody>\n",
              "</table>\n",
              "</div>"
            ],
            "text/plain": [
              "   first     last                    email    age\n",
              "0  Corey  Schafer  CoreyMSchafer@gmail.com  33.00\n",
              "1   Jane      Doe        JaneDoe@email.com  55.00\n",
              "2   John      Doe        JohnDoe@email.com  63.00\n",
              "3  Chris  Schafer                     None  36.00\n",
              "4    NaN      NaN                      NaN  46.75\n",
              "5   None      NaN      Anonymous@email.com  46.75\n",
              "6    NaN      NaN                      NaN  46.75"
            ]
          },
          "metadata": {},
          "execution_count": 52
        }
      ]
    },
    {
      "cell_type": "markdown",
      "metadata": {
        "id": "ALxA88HZ838E"
      },
      "source": [
        "-------"
      ]
    },
    {
      "cell_type": "markdown",
      "metadata": {
        "id": "I4n4OW1r85Xk"
      },
      "source": [
        "Now let's move on to working with some real data. Below, I'm using Stack Overflow data from their Annual Developer Survey. Their survey eamines all aspects of the developer experience from career satisfaction and job search to education and opinions on open source software. You can download the data [here](https://insights.stackoverflow.com/survey).\n",
        "\n",
        "\n"
      ]
    },
    {
      "cell_type": "markdown",
      "metadata": {
        "id": "5f8UEONR9WSW"
      },
      "source": [
        "Instead of replacing the custom missing values after reading the data, `pd.read_csv()` has the argument `na_values` where you can specify which values should be replaces with `NaN`"
      ]
    },
    {
      "cell_type": "code",
      "metadata": {
        "colab": {
          "base_uri": "https://localhost:8080/",
          "height": 1000
        },
        "id": "6NcwQl7q3xBx",
        "outputId": "7a4d96f9-076c-4f1c-fb90-3d0e68e92078"
      },
      "source": [
        "na_vals = ['NA', 'Missing']\n",
        "df_stack_overflow = pd.read_csv('survey_results_public.csv', index_col='Respondent', na_values=na_vals)\n",
        "# schema_df = pd.read_csv('survey_results_schema.csv', index_col='Column')\n",
        "df_stack_overflow"
      ],
      "execution_count": 3,
      "outputs": [
        {
          "output_type": "execute_result",
          "data": {
            "text/html": [
              "<div>\n",
              "<style scoped>\n",
              "    .dataframe tbody tr th:only-of-type {\n",
              "        vertical-align: middle;\n",
              "    }\n",
              "\n",
              "    .dataframe tbody tr th {\n",
              "        vertical-align: top;\n",
              "    }\n",
              "\n",
              "    .dataframe thead th {\n",
              "        text-align: right;\n",
              "    }\n",
              "</style>\n",
              "<table border=\"1\" class=\"dataframe\">\n",
              "  <thead>\n",
              "    <tr style=\"text-align: right;\">\n",
              "      <th></th>\n",
              "      <th>MainBranch</th>\n",
              "      <th>Hobbyist</th>\n",
              "      <th>Age</th>\n",
              "      <th>Age1stCode</th>\n",
              "      <th>CompFreq</th>\n",
              "      <th>CompTotal</th>\n",
              "      <th>ConvertedComp</th>\n",
              "      <th>Country</th>\n",
              "      <th>CurrencyDesc</th>\n",
              "      <th>CurrencySymbol</th>\n",
              "      <th>DatabaseDesireNextYear</th>\n",
              "      <th>DatabaseWorkedWith</th>\n",
              "      <th>DevType</th>\n",
              "      <th>EdLevel</th>\n",
              "      <th>Employment</th>\n",
              "      <th>Ethnicity</th>\n",
              "      <th>Gender</th>\n",
              "      <th>JobFactors</th>\n",
              "      <th>JobSat</th>\n",
              "      <th>JobSeek</th>\n",
              "      <th>LanguageDesireNextYear</th>\n",
              "      <th>LanguageWorkedWith</th>\n",
              "      <th>MiscTechDesireNextYear</th>\n",
              "      <th>MiscTechWorkedWith</th>\n",
              "      <th>NEWCollabToolsDesireNextYear</th>\n",
              "      <th>NEWCollabToolsWorkedWith</th>\n",
              "      <th>NEWDevOps</th>\n",
              "      <th>NEWDevOpsImpt</th>\n",
              "      <th>NEWEdImpt</th>\n",
              "      <th>NEWJobHunt</th>\n",
              "      <th>NEWJobHuntResearch</th>\n",
              "      <th>NEWLearn</th>\n",
              "      <th>NEWOffTopic</th>\n",
              "      <th>NEWOnboardGood</th>\n",
              "      <th>NEWOtherComms</th>\n",
              "      <th>NEWOvertime</th>\n",
              "      <th>NEWPurchaseResearch</th>\n",
              "      <th>NEWPurpleLink</th>\n",
              "      <th>NEWSOSites</th>\n",
              "      <th>NEWStuck</th>\n",
              "      <th>OpSys</th>\n",
              "      <th>OrgSize</th>\n",
              "      <th>PlatformDesireNextYear</th>\n",
              "      <th>PlatformWorkedWith</th>\n",
              "      <th>PurchaseWhat</th>\n",
              "      <th>Sexuality</th>\n",
              "      <th>SOAccount</th>\n",
              "      <th>SOComm</th>\n",
              "      <th>SOPartFreq</th>\n",
              "      <th>SOVisitFreq</th>\n",
              "      <th>SurveyEase</th>\n",
              "      <th>SurveyLength</th>\n",
              "      <th>Trans</th>\n",
              "      <th>UndergradMajor</th>\n",
              "      <th>WebframeDesireNextYear</th>\n",
              "      <th>WebframeWorkedWith</th>\n",
              "      <th>WelcomeChange</th>\n",
              "      <th>WorkWeekHrs</th>\n",
              "      <th>YearsCode</th>\n",
              "      <th>YearsCodePro</th>\n",
              "    </tr>\n",
              "    <tr>\n",
              "      <th>Respondent</th>\n",
              "      <th></th>\n",
              "      <th></th>\n",
              "      <th></th>\n",
              "      <th></th>\n",
              "      <th></th>\n",
              "      <th></th>\n",
              "      <th></th>\n",
              "      <th></th>\n",
              "      <th></th>\n",
              "      <th></th>\n",
              "      <th></th>\n",
              "      <th></th>\n",
              "      <th></th>\n",
              "      <th></th>\n",
              "      <th></th>\n",
              "      <th></th>\n",
              "      <th></th>\n",
              "      <th></th>\n",
              "      <th></th>\n",
              "      <th></th>\n",
              "      <th></th>\n",
              "      <th></th>\n",
              "      <th></th>\n",
              "      <th></th>\n",
              "      <th></th>\n",
              "      <th></th>\n",
              "      <th></th>\n",
              "      <th></th>\n",
              "      <th></th>\n",
              "      <th></th>\n",
              "      <th></th>\n",
              "      <th></th>\n",
              "      <th></th>\n",
              "      <th></th>\n",
              "      <th></th>\n",
              "      <th></th>\n",
              "      <th></th>\n",
              "      <th></th>\n",
              "      <th></th>\n",
              "      <th></th>\n",
              "      <th></th>\n",
              "      <th></th>\n",
              "      <th></th>\n",
              "      <th></th>\n",
              "      <th></th>\n",
              "      <th></th>\n",
              "      <th></th>\n",
              "      <th></th>\n",
              "      <th></th>\n",
              "      <th></th>\n",
              "      <th></th>\n",
              "      <th></th>\n",
              "      <th></th>\n",
              "      <th></th>\n",
              "      <th></th>\n",
              "      <th></th>\n",
              "      <th></th>\n",
              "      <th></th>\n",
              "      <th></th>\n",
              "      <th></th>\n",
              "    </tr>\n",
              "  </thead>\n",
              "  <tbody>\n",
              "    <tr>\n",
              "      <th>1</th>\n",
              "      <td>I am a developer by profession</td>\n",
              "      <td>Yes</td>\n",
              "      <td>NaN</td>\n",
              "      <td>13</td>\n",
              "      <td>Monthly</td>\n",
              "      <td>NaN</td>\n",
              "      <td>NaN</td>\n",
              "      <td>Germany</td>\n",
              "      <td>European Euro</td>\n",
              "      <td>EUR</td>\n",
              "      <td>Microsoft SQL Server</td>\n",
              "      <td>Elasticsearch;Microsoft SQL Server;Oracle</td>\n",
              "      <td>Developer, desktop or enterprise applications;...</td>\n",
              "      <td>Master’s degree (M.A., M.S., M.Eng., MBA, etc.)</td>\n",
              "      <td>Independent contractor, freelancer, or self-em...</td>\n",
              "      <td>White or of European descent</td>\n",
              "      <td>Man</td>\n",
              "      <td>Languages, frameworks, and other technologies ...</td>\n",
              "      <td>Slightly satisfied</td>\n",
              "      <td>I am not interested in new job opportunities</td>\n",
              "      <td>C#;HTML/CSS;JavaScript</td>\n",
              "      <td>C#;HTML/CSS;JavaScript</td>\n",
              "      <td>.NET Core;Xamarin</td>\n",
              "      <td>.NET;.NET Core</td>\n",
              "      <td>Microsoft Teams;Microsoft Azure;Trello</td>\n",
              "      <td>Confluence;Jira;Slack;Microsoft Azure;Trello</td>\n",
              "      <td>No</td>\n",
              "      <td>Somewhat important</td>\n",
              "      <td>Fairly important</td>\n",
              "      <td>NaN</td>\n",
              "      <td>NaN</td>\n",
              "      <td>Once a year</td>\n",
              "      <td>Not sure</td>\n",
              "      <td>NaN</td>\n",
              "      <td>No</td>\n",
              "      <td>Often: 1-2 days per week or more</td>\n",
              "      <td>Start a free trial;Ask developers I know/work ...</td>\n",
              "      <td>Amused</td>\n",
              "      <td>Stack Overflow (public Q&amp;A for anyone who codes)</td>\n",
              "      <td>Visit Stack Overflow;Go for a walk or other ph...</td>\n",
              "      <td>Windows</td>\n",
              "      <td>2 to 9 employees</td>\n",
              "      <td>Android;iOS;Kubernetes;Microsoft Azure;Windows</td>\n",
              "      <td>Windows</td>\n",
              "      <td>NaN</td>\n",
              "      <td>Straight / Heterosexual</td>\n",
              "      <td>No</td>\n",
              "      <td>No, not at all</td>\n",
              "      <td>NaN</td>\n",
              "      <td>Multiple times per day</td>\n",
              "      <td>Neither easy nor difficult</td>\n",
              "      <td>Appropriate in length</td>\n",
              "      <td>No</td>\n",
              "      <td>Computer science, computer engineering, or sof...</td>\n",
              "      <td>ASP.NET Core</td>\n",
              "      <td>ASP.NET;ASP.NET Core</td>\n",
              "      <td>Just as welcome now as I felt last year</td>\n",
              "      <td>50.0</td>\n",
              "      <td>36</td>\n",
              "      <td>27</td>\n",
              "    </tr>\n",
              "    <tr>\n",
              "      <th>2</th>\n",
              "      <td>I am a developer by profession</td>\n",
              "      <td>No</td>\n",
              "      <td>NaN</td>\n",
              "      <td>19</td>\n",
              "      <td>NaN</td>\n",
              "      <td>NaN</td>\n",
              "      <td>NaN</td>\n",
              "      <td>United Kingdom</td>\n",
              "      <td>Pound sterling</td>\n",
              "      <td>GBP</td>\n",
              "      <td>NaN</td>\n",
              "      <td>NaN</td>\n",
              "      <td>Developer, full-stack;Developer, mobile</td>\n",
              "      <td>Bachelor’s degree (B.A., B.S., B.Eng., etc.)</td>\n",
              "      <td>Employed full-time</td>\n",
              "      <td>NaN</td>\n",
              "      <td>NaN</td>\n",
              "      <td>NaN</td>\n",
              "      <td>Very dissatisfied</td>\n",
              "      <td>I am not interested in new job opportunities</td>\n",
              "      <td>Python;Swift</td>\n",
              "      <td>JavaScript;Swift</td>\n",
              "      <td>React Native;TensorFlow;Unity 3D</td>\n",
              "      <td>React Native</td>\n",
              "      <td>Github;Slack</td>\n",
              "      <td>Confluence;Jira;Github;Gitlab;Slack</td>\n",
              "      <td>NaN</td>\n",
              "      <td>NaN</td>\n",
              "      <td>Fairly important</td>\n",
              "      <td>NaN</td>\n",
              "      <td>NaN</td>\n",
              "      <td>Once a year</td>\n",
              "      <td>Not sure</td>\n",
              "      <td>NaN</td>\n",
              "      <td>No</td>\n",
              "      <td>NaN</td>\n",
              "      <td>NaN</td>\n",
              "      <td>Amused</td>\n",
              "      <td>Stack Overflow (public Q&amp;A for anyone who code...</td>\n",
              "      <td>Visit Stack Overflow;Go for a walk or other ph...</td>\n",
              "      <td>MacOS</td>\n",
              "      <td>1,000 to 4,999 employees</td>\n",
              "      <td>iOS;Kubernetes;Linux;MacOS</td>\n",
              "      <td>iOS</td>\n",
              "      <td>I have little or no influence</td>\n",
              "      <td>NaN</td>\n",
              "      <td>Yes</td>\n",
              "      <td>Yes, definitely</td>\n",
              "      <td>Less than once per month or monthly</td>\n",
              "      <td>Multiple times per day</td>\n",
              "      <td>NaN</td>\n",
              "      <td>NaN</td>\n",
              "      <td>NaN</td>\n",
              "      <td>Computer science, computer engineering, or sof...</td>\n",
              "      <td>NaN</td>\n",
              "      <td>NaN</td>\n",
              "      <td>Somewhat more welcome now than last year</td>\n",
              "      <td>NaN</td>\n",
              "      <td>7</td>\n",
              "      <td>4</td>\n",
              "    </tr>\n",
              "    <tr>\n",
              "      <th>3</th>\n",
              "      <td>I code primarily as a hobby</td>\n",
              "      <td>Yes</td>\n",
              "      <td>NaN</td>\n",
              "      <td>15</td>\n",
              "      <td>NaN</td>\n",
              "      <td>NaN</td>\n",
              "      <td>NaN</td>\n",
              "      <td>Russian Federation</td>\n",
              "      <td>NaN</td>\n",
              "      <td>NaN</td>\n",
              "      <td>NaN</td>\n",
              "      <td>NaN</td>\n",
              "      <td>NaN</td>\n",
              "      <td>NaN</td>\n",
              "      <td>NaN</td>\n",
              "      <td>NaN</td>\n",
              "      <td>NaN</td>\n",
              "      <td>NaN</td>\n",
              "      <td>NaN</td>\n",
              "      <td>NaN</td>\n",
              "      <td>Objective-C;Python;Swift</td>\n",
              "      <td>Objective-C;Python;Swift</td>\n",
              "      <td>NaN</td>\n",
              "      <td>NaN</td>\n",
              "      <td>NaN</td>\n",
              "      <td>NaN</td>\n",
              "      <td>NaN</td>\n",
              "      <td>NaN</td>\n",
              "      <td>NaN</td>\n",
              "      <td>NaN</td>\n",
              "      <td>NaN</td>\n",
              "      <td>Once a decade</td>\n",
              "      <td>NaN</td>\n",
              "      <td>NaN</td>\n",
              "      <td>No</td>\n",
              "      <td>NaN</td>\n",
              "      <td>NaN</td>\n",
              "      <td>NaN</td>\n",
              "      <td>Stack Overflow (public Q&amp;A for anyone who codes)</td>\n",
              "      <td>NaN</td>\n",
              "      <td>Linux-based</td>\n",
              "      <td>NaN</td>\n",
              "      <td>NaN</td>\n",
              "      <td>NaN</td>\n",
              "      <td>NaN</td>\n",
              "      <td>NaN</td>\n",
              "      <td>Yes</td>\n",
              "      <td>Yes, somewhat</td>\n",
              "      <td>A few times per month or weekly</td>\n",
              "      <td>Daily or almost daily</td>\n",
              "      <td>Neither easy nor difficult</td>\n",
              "      <td>Appropriate in length</td>\n",
              "      <td>NaN</td>\n",
              "      <td>NaN</td>\n",
              "      <td>NaN</td>\n",
              "      <td>NaN</td>\n",
              "      <td>Somewhat more welcome now than last year</td>\n",
              "      <td>NaN</td>\n",
              "      <td>4</td>\n",
              "      <td>NaN</td>\n",
              "    </tr>\n",
              "    <tr>\n",
              "      <th>4</th>\n",
              "      <td>I am a developer by profession</td>\n",
              "      <td>Yes</td>\n",
              "      <td>25.0</td>\n",
              "      <td>18</td>\n",
              "      <td>NaN</td>\n",
              "      <td>NaN</td>\n",
              "      <td>NaN</td>\n",
              "      <td>Albania</td>\n",
              "      <td>Albanian lek</td>\n",
              "      <td>ALL</td>\n",
              "      <td>NaN</td>\n",
              "      <td>NaN</td>\n",
              "      <td>NaN</td>\n",
              "      <td>Master’s degree (M.A., M.S., M.Eng., MBA, etc.)</td>\n",
              "      <td>NaN</td>\n",
              "      <td>White or of European descent</td>\n",
              "      <td>Man</td>\n",
              "      <td>Flex time or a flexible schedule;Office enviro...</td>\n",
              "      <td>Slightly dissatisfied</td>\n",
              "      <td>I’m not actively looking, but I am open to new...</td>\n",
              "      <td>NaN</td>\n",
              "      <td>NaN</td>\n",
              "      <td>NaN</td>\n",
              "      <td>NaN</td>\n",
              "      <td>NaN</td>\n",
              "      <td>NaN</td>\n",
              "      <td>No</td>\n",
              "      <td>NaN</td>\n",
              "      <td>Not at all important/not necessary</td>\n",
              "      <td>Curious about other opportunities;Wanting to w...</td>\n",
              "      <td>NaN</td>\n",
              "      <td>Once a year</td>\n",
              "      <td>Not sure</td>\n",
              "      <td>Yes</td>\n",
              "      <td>Yes</td>\n",
              "      <td>Occasionally: 1-2 days per quarter but less th...</td>\n",
              "      <td>NaN</td>\n",
              "      <td>NaN</td>\n",
              "      <td>Stack Overflow (public Q&amp;A for anyone who code...</td>\n",
              "      <td>NaN</td>\n",
              "      <td>Linux-based</td>\n",
              "      <td>20 to 99 employees</td>\n",
              "      <td>NaN</td>\n",
              "      <td>NaN</td>\n",
              "      <td>I have a great deal of influence</td>\n",
              "      <td>Straight / Heterosexual</td>\n",
              "      <td>Yes</td>\n",
              "      <td>Yes, definitely</td>\n",
              "      <td>A few times per month or weekly</td>\n",
              "      <td>Multiple times per day</td>\n",
              "      <td>NaN</td>\n",
              "      <td>NaN</td>\n",
              "      <td>No</td>\n",
              "      <td>Computer science, computer engineering, or sof...</td>\n",
              "      <td>NaN</td>\n",
              "      <td>NaN</td>\n",
              "      <td>Somewhat less welcome now than last year</td>\n",
              "      <td>40.0</td>\n",
              "      <td>7</td>\n",
              "      <td>4</td>\n",
              "    </tr>\n",
              "    <tr>\n",
              "      <th>5</th>\n",
              "      <td>I used to be a developer by profession, but no...</td>\n",
              "      <td>Yes</td>\n",
              "      <td>31.0</td>\n",
              "      <td>16</td>\n",
              "      <td>NaN</td>\n",
              "      <td>NaN</td>\n",
              "      <td>NaN</td>\n",
              "      <td>United States</td>\n",
              "      <td>NaN</td>\n",
              "      <td>NaN</td>\n",
              "      <td>MySQL;PostgreSQL</td>\n",
              "      <td>MySQL;PostgreSQL;Redis;SQLite</td>\n",
              "      <td>NaN</td>\n",
              "      <td>Bachelor’s degree (B.A., B.S., B.Eng., etc.)</td>\n",
              "      <td>Employed full-time</td>\n",
              "      <td>White or of European descent</td>\n",
              "      <td>Man</td>\n",
              "      <td>NaN</td>\n",
              "      <td>NaN</td>\n",
              "      <td>NaN</td>\n",
              "      <td>Java;Ruby;Scala</td>\n",
              "      <td>HTML/CSS;Ruby;SQL</td>\n",
              "      <td>Ansible;Chef</td>\n",
              "      <td>Ansible</td>\n",
              "      <td>Github;Google Suite (Docs, Meet, etc)</td>\n",
              "      <td>Confluence;Jira;Github;Slack;Google Suite (Doc...</td>\n",
              "      <td>NaN</td>\n",
              "      <td>NaN</td>\n",
              "      <td>Very important</td>\n",
              "      <td>NaN</td>\n",
              "      <td>NaN</td>\n",
              "      <td>Once a year</td>\n",
              "      <td>No</td>\n",
              "      <td>NaN</td>\n",
              "      <td>Yes</td>\n",
              "      <td>NaN</td>\n",
              "      <td>Start a free trial;Ask developers I know/work ...</td>\n",
              "      <td>Hello, old friend</td>\n",
              "      <td>Stack Overflow (public Q&amp;A for anyone who code...</td>\n",
              "      <td>Call a coworker or friend;Visit Stack Overflow...</td>\n",
              "      <td>Windows</td>\n",
              "      <td>NaN</td>\n",
              "      <td>Docker;Google Cloud Platform;Heroku;Linux;Windows</td>\n",
              "      <td>AWS;Docker;Linux;MacOS;Windows</td>\n",
              "      <td>NaN</td>\n",
              "      <td>Straight / Heterosexual</td>\n",
              "      <td>Yes</td>\n",
              "      <td>Yes, somewhat</td>\n",
              "      <td>Less than once per month or monthly</td>\n",
              "      <td>A few times per month or weekly</td>\n",
              "      <td>Easy</td>\n",
              "      <td>Too short</td>\n",
              "      <td>No</td>\n",
              "      <td>Computer science, computer engineering, or sof...</td>\n",
              "      <td>Django;Ruby on Rails</td>\n",
              "      <td>Ruby on Rails</td>\n",
              "      <td>Just as welcome now as I felt last year</td>\n",
              "      <td>NaN</td>\n",
              "      <td>15</td>\n",
              "      <td>8</td>\n",
              "    </tr>\n",
              "    <tr>\n",
              "      <th>...</th>\n",
              "      <td>...</td>\n",
              "      <td>...</td>\n",
              "      <td>...</td>\n",
              "      <td>...</td>\n",
              "      <td>...</td>\n",
              "      <td>...</td>\n",
              "      <td>...</td>\n",
              "      <td>...</td>\n",
              "      <td>...</td>\n",
              "      <td>...</td>\n",
              "      <td>...</td>\n",
              "      <td>...</td>\n",
              "      <td>...</td>\n",
              "      <td>...</td>\n",
              "      <td>...</td>\n",
              "      <td>...</td>\n",
              "      <td>...</td>\n",
              "      <td>...</td>\n",
              "      <td>...</td>\n",
              "      <td>...</td>\n",
              "      <td>...</td>\n",
              "      <td>...</td>\n",
              "      <td>...</td>\n",
              "      <td>...</td>\n",
              "      <td>...</td>\n",
              "      <td>...</td>\n",
              "      <td>...</td>\n",
              "      <td>...</td>\n",
              "      <td>...</td>\n",
              "      <td>...</td>\n",
              "      <td>...</td>\n",
              "      <td>...</td>\n",
              "      <td>...</td>\n",
              "      <td>...</td>\n",
              "      <td>...</td>\n",
              "      <td>...</td>\n",
              "      <td>...</td>\n",
              "      <td>...</td>\n",
              "      <td>...</td>\n",
              "      <td>...</td>\n",
              "      <td>...</td>\n",
              "      <td>...</td>\n",
              "      <td>...</td>\n",
              "      <td>...</td>\n",
              "      <td>...</td>\n",
              "      <td>...</td>\n",
              "      <td>...</td>\n",
              "      <td>...</td>\n",
              "      <td>...</td>\n",
              "      <td>...</td>\n",
              "      <td>...</td>\n",
              "      <td>...</td>\n",
              "      <td>...</td>\n",
              "      <td>...</td>\n",
              "      <td>...</td>\n",
              "      <td>...</td>\n",
              "      <td>...</td>\n",
              "      <td>...</td>\n",
              "      <td>...</td>\n",
              "      <td>...</td>\n",
              "    </tr>\n",
              "    <tr>\n",
              "      <th>3714</th>\n",
              "      <td>I am a developer by profession</td>\n",
              "      <td>Yes</td>\n",
              "      <td>NaN</td>\n",
              "      <td>16</td>\n",
              "      <td>Yearly</td>\n",
              "      <td>35000.0</td>\n",
              "      <td>45241.0</td>\n",
              "      <td>United Kingdom</td>\n",
              "      <td>Pound sterling</td>\n",
              "      <td>GBP</td>\n",
              "      <td>SQLite</td>\n",
              "      <td>SQLite</td>\n",
              "      <td>Designer;Developer, back-end;Developer, deskto...</td>\n",
              "      <td>Bachelor’s degree (B.A., B.S., B.Eng., etc.)</td>\n",
              "      <td>Employed full-time</td>\n",
              "      <td>White or of European descent</td>\n",
              "      <td>Man</td>\n",
              "      <td>Flex time or a flexible schedule;Languages, fr...</td>\n",
              "      <td>Very satisfied</td>\n",
              "      <td>I’m not actively looking, but I am open to new...</td>\n",
              "      <td>C;C++;Objective-C;Python;SQL;Swift</td>\n",
              "      <td>C#;HTML/CSS;JavaScript;Objective-C;Python;SQL;...</td>\n",
              "      <td>Node.js;Unity 3D;Unreal Engine;Xamarin</td>\n",
              "      <td>Node.js;Unity 3D;Unreal Engine;Xamarin</td>\n",
              "      <td>Github;Slack;Google Suite (Docs, Meet, etc)</td>\n",
              "      <td>Github;Slack;Microsoft Teams;Google Suite (Doc...</td>\n",
              "      <td>Yes</td>\n",
              "      <td>Extremely important</td>\n",
              "      <td>Somewhat important</td>\n",
              "      <td>Better compensation;Trouble with my teammates;...</td>\n",
              "      <td>Company reviews from third party sites (e.g. G...</td>\n",
              "      <td>Every few months</td>\n",
              "      <td>No</td>\n",
              "      <td>Yes</td>\n",
              "      <td>Yes</td>\n",
              "      <td>Occasionally: 1-2 days per quarter but less th...</td>\n",
              "      <td>Start a free trial;Ask developers I know/work ...</td>\n",
              "      <td>Hello, old friend</td>\n",
              "      <td>Stack Overflow (public Q&amp;A for anyone who code...</td>\n",
              "      <td>Call a coworker or friend;Visit Stack Overflow...</td>\n",
              "      <td>MacOS</td>\n",
              "      <td>100 to 499 employees</td>\n",
              "      <td>Android;iOS;Linux;MacOS;Windows</td>\n",
              "      <td>Android;iOS;Linux;MacOS;Windows</td>\n",
              "      <td>I have some influence</td>\n",
              "      <td>Bisexual</td>\n",
              "      <td>Yes</td>\n",
              "      <td>No, not really</td>\n",
              "      <td>Less than once per month or monthly</td>\n",
              "      <td>Multiple times per day</td>\n",
              "      <td>Neither easy nor difficult</td>\n",
              "      <td>Appropriate in length</td>\n",
              "      <td>No</td>\n",
              "      <td>Computer science, computer engineering, or sof...</td>\n",
              "      <td>NaN</td>\n",
              "      <td>NaN</td>\n",
              "      <td>Just as welcome now as I felt last year</td>\n",
              "      <td>40.0</td>\n",
              "      <td>8</td>\n",
              "      <td>4</td>\n",
              "    </tr>\n",
              "    <tr>\n",
              "      <th>3715</th>\n",
              "      <td>I am a developer by profession</td>\n",
              "      <td>Yes</td>\n",
              "      <td>NaN</td>\n",
              "      <td>19</td>\n",
              "      <td>NaN</td>\n",
              "      <td>NaN</td>\n",
              "      <td>NaN</td>\n",
              "      <td>United States</td>\n",
              "      <td>NaN</td>\n",
              "      <td>NaN</td>\n",
              "      <td>Firebase;MongoDB;PostgreSQL;SQLite</td>\n",
              "      <td>Firebase;MongoDB;PostgreSQL;SQLite</td>\n",
              "      <td>Developer, full-stack</td>\n",
              "      <td>Some college/university study without earning ...</td>\n",
              "      <td>Not employed, but looking for work</td>\n",
              "      <td>Hispanic or Latino/a/x</td>\n",
              "      <td>Man</td>\n",
              "      <td>Languages, frameworks, and other technologies ...</td>\n",
              "      <td>NaN</td>\n",
              "      <td>I am actively looking for a job</td>\n",
              "      <td>Bash/Shell/PowerShell;HTML/CSS;JavaScript;Pyth...</td>\n",
              "      <td>Bash/Shell/PowerShell;HTML/CSS;JavaScript;Pyth...</td>\n",
              "      <td>Node.js;React Native</td>\n",
              "      <td>Node.js</td>\n",
              "      <td>Jira;Github;Slack</td>\n",
              "      <td>Github;Slack</td>\n",
              "      <td>NaN</td>\n",
              "      <td>NaN</td>\n",
              "      <td>Fairly important</td>\n",
              "      <td>Curious about other opportunities;Better compe...</td>\n",
              "      <td>Read company media, such as employee blogs or ...</td>\n",
              "      <td>NaN</td>\n",
              "      <td>No</td>\n",
              "      <td>NaN</td>\n",
              "      <td>Yes</td>\n",
              "      <td>NaN</td>\n",
              "      <td>Ask developers I know/work with;Visit develope...</td>\n",
              "      <td>Annoyed</td>\n",
              "      <td>Stack Overflow (public Q&amp;A for anyone who codes)</td>\n",
              "      <td>Play games;Visit Stack Overflow;Go for a walk ...</td>\n",
              "      <td>Linux-based</td>\n",
              "      <td>NaN</td>\n",
              "      <td>AWS;Docker;Kubernetes;Linux;MacOS</td>\n",
              "      <td>AWS;Linux;MacOS</td>\n",
              "      <td>NaN</td>\n",
              "      <td>Straight / Heterosexual</td>\n",
              "      <td>Yes</td>\n",
              "      <td>Neutral</td>\n",
              "      <td>I have never participated in Q&amp;A on Stack Over...</td>\n",
              "      <td>A few times per week</td>\n",
              "      <td>Easy</td>\n",
              "      <td>Appropriate in length</td>\n",
              "      <td>No</td>\n",
              "      <td>Information systems, information technology, o...</td>\n",
              "      <td>Express;Flask;React.js</td>\n",
              "      <td>Express;Flask;React.js</td>\n",
              "      <td>Just as welcome now as I felt last year</td>\n",
              "      <td>NaN</td>\n",
              "      <td>6</td>\n",
              "      <td>NaN</td>\n",
              "    </tr>\n",
              "    <tr>\n",
              "      <th>3716</th>\n",
              "      <td>I am a developer by profession</td>\n",
              "      <td>Yes</td>\n",
              "      <td>32.0</td>\n",
              "      <td>8</td>\n",
              "      <td>Yearly</td>\n",
              "      <td>102000.0</td>\n",
              "      <td>102000.0</td>\n",
              "      <td>United States</td>\n",
              "      <td>United States dollar</td>\n",
              "      <td>USD</td>\n",
              "      <td>DynamoDB;MySQL;PostgreSQL;Redis;SQLite</td>\n",
              "      <td>DynamoDB;MariaDB;Microsoft SQL Server;MySQL;Po...</td>\n",
              "      <td>Data or business analyst;Developer, back-end;D...</td>\n",
              "      <td>Some college/university study without earning ...</td>\n",
              "      <td>Employed full-time</td>\n",
              "      <td>White or of European descent</td>\n",
              "      <td>Man</td>\n",
              "      <td>Industry that I’d be working in;Languages, fra...</td>\n",
              "      <td>Neither satisfied nor dissatisfied</td>\n",
              "      <td>I am actively looking for a job</td>\n",
              "      <td>Bash/Shell/PowerShell;Go;HTML/CSS;JavaScript;P...</td>\n",
              "      <td>Bash/Shell/PowerShell;Go;HTML/CSS;JavaScript;K...</td>\n",
              "      <td>Ansible;Pandas;Teraform</td>\n",
              "      <td>Ansible;Apache Spark;Hadoop;Node.js;Pandas;Ter...</td>\n",
              "      <td>Github;Slack</td>\n",
              "      <td>Confluence;Jira;Github;Facebook Workplace;Slac...</td>\n",
              "      <td>Yes</td>\n",
              "      <td>Extremely important</td>\n",
              "      <td>Not at all important/not necessary</td>\n",
              "      <td>Just because;Having a bad day (or week or mont...</td>\n",
              "      <td>Read company media, such as employee blogs or ...</td>\n",
              "      <td>Once a year</td>\n",
              "      <td>Not sure</td>\n",
              "      <td>No</td>\n",
              "      <td>Yes</td>\n",
              "      <td>Occasionally: 1-2 days per quarter but less th...</td>\n",
              "      <td>Ask developers I know/work with;Visit develope...</td>\n",
              "      <td>Hello, old friend</td>\n",
              "      <td>Stack Overflow (public Q&amp;A for anyone who code...</td>\n",
              "      <td>Visit Stack Overflow;Go for a walk or other ph...</td>\n",
              "      <td>MacOS</td>\n",
              "      <td>1,000 to 4,999 employees</td>\n",
              "      <td>AWS;Docker;Google Cloud Platform;Kubernetes;Li...</td>\n",
              "      <td>AWS;Docker;Google Cloud Platform;Kubernetes;Li...</td>\n",
              "      <td>I have some influence</td>\n",
              "      <td>Straight / Heterosexual</td>\n",
              "      <td>Yes</td>\n",
              "      <td>Neutral</td>\n",
              "      <td>I have never participated in Q&amp;A on Stack Over...</td>\n",
              "      <td>Multiple times per day</td>\n",
              "      <td>Easy</td>\n",
              "      <td>Appropriate in length</td>\n",
              "      <td>No</td>\n",
              "      <td>A social science (such as anthropology, psycho...</td>\n",
              "      <td>Angular;Flask;Vue.js</td>\n",
              "      <td>Angular;Angular.js;Django;Flask;jQuery;Laravel...</td>\n",
              "      <td>Just as welcome now as I felt last year</td>\n",
              "      <td>40.0</td>\n",
              "      <td>15</td>\n",
              "      <td>5</td>\n",
              "    </tr>\n",
              "    <tr>\n",
              "      <th>3717</th>\n",
              "      <td>I am a developer by profession</td>\n",
              "      <td>No</td>\n",
              "      <td>NaN</td>\n",
              "      <td>14</td>\n",
              "      <td>NaN</td>\n",
              "      <td>NaN</td>\n",
              "      <td>NaN</td>\n",
              "      <td>United States</td>\n",
              "      <td>United States dollar</td>\n",
              "      <td>USD</td>\n",
              "      <td>Microsoft SQL Server;Oracle</td>\n",
              "      <td>Microsoft SQL Server;Oracle</td>\n",
              "      <td>Data or business analyst;Designer;Developer, b...</td>\n",
              "      <td>Bachelor’s degree (B.A., B.S., B.Eng., etc.)</td>\n",
              "      <td>Employed full-time</td>\n",
              "      <td>White or of European descent</td>\n",
              "      <td>Man</td>\n",
              "      <td>Flex time or a flexible schedule;Financial per...</td>\n",
              "      <td>Slightly satisfied</td>\n",
              "      <td>I am not interested in new job opportunities</td>\n",
              "      <td>SQL</td>\n",
              "      <td>SQL</td>\n",
              "      <td>NaN</td>\n",
              "      <td>NaN</td>\n",
              "      <td>Confluence;Microsoft Teams</td>\n",
              "      <td>Confluence</td>\n",
              "      <td>Not sure</td>\n",
              "      <td>NaN</td>\n",
              "      <td>Very important</td>\n",
              "      <td>Having a bad day (or week or month) at work</td>\n",
              "      <td>Read company media, such as employee blogs or ...</td>\n",
              "      <td>Once every few years</td>\n",
              "      <td>Not sure</td>\n",
              "      <td>Yes</td>\n",
              "      <td>No</td>\n",
              "      <td>Often: 1-2 days per week or more</td>\n",
              "      <td>NaN</td>\n",
              "      <td>Amused</td>\n",
              "      <td>Stack Overflow (public Q&amp;A for anyone who code...</td>\n",
              "      <td>Call a coworker or friend;Visit Stack Overflow...</td>\n",
              "      <td>Linux-based</td>\n",
              "      <td>10,000 or more employees</td>\n",
              "      <td>NaN</td>\n",
              "      <td>NaN</td>\n",
              "      <td>I have little or no influence</td>\n",
              "      <td>Straight / Heterosexual</td>\n",
              "      <td>Yes</td>\n",
              "      <td>No, not really</td>\n",
              "      <td>Less than once per month or monthly</td>\n",
              "      <td>A few times per week</td>\n",
              "      <td>Easy</td>\n",
              "      <td>Too long</td>\n",
              "      <td>No</td>\n",
              "      <td>A humanities discipline (such as literature, h...</td>\n",
              "      <td>NaN</td>\n",
              "      <td>NaN</td>\n",
              "      <td>Just as welcome now as I felt last year</td>\n",
              "      <td>42.0</td>\n",
              "      <td>NaN</td>\n",
              "      <td>NaN</td>\n",
              "    </tr>\n",
              "    <tr>\n",
              "      <th>3718</th>\n",
              "      <td>I am a developer by profession</td>\n",
              "      <td>Yes</td>\n",
              "      <td>37.0</td>\n",
              "      <td>9</td>\n",
              "      <td>Monthly</td>\n",
              "      <td>13500.0</td>\n",
              "      <td>175116.0</td>\n",
              "      <td>Lithuania</td>\n",
              "      <td>European Euro</td>\n",
              "      <td>EUR</td>\n",
              "      <td>NaN</td>\n",
              "      <td>MariaDB;MySQL</td>\n",
              "      <td>NaN</td>\n",
              "      <td>Master’s degree (M.A., M.S., M.Eng., MBA, etc.)</td>\n",
              "      <td>Independent contractor, freelancer, or self-em...</td>\n",
              "      <td>White or of European descent</td>\n",
              "      <td>Man</td>\n",
              "      <td>Languages, frameworks, and other technologies ...</td>\n",
              "      <td>Very satisfied</td>\n",
              "      <td>I am not interested in new job opportunities</td>\n",
              "      <td>Assembly;Bash/Shell/PowerShell;C;C++;Rust</td>\n",
              "      <td>Assembly;Bash/Shell/PowerShell;C;C#;C++;Java;J...</td>\n",
              "      <td>NaN</td>\n",
              "      <td>.NET;.NET Core;Node.js</td>\n",
              "      <td>Github;Google Suite (Docs, Meet, etc)</td>\n",
              "      <td>Confluence;Jira;Github;Slack;Google Suite (Doc...</td>\n",
              "      <td>No</td>\n",
              "      <td>Neutral</td>\n",
              "      <td>Somewhat important</td>\n",
              "      <td>Just because;Better compensation;Growth or lea...</td>\n",
              "      <td>Read company media, such as employee blogs or ...</td>\n",
              "      <td>Every few months</td>\n",
              "      <td>Not sure</td>\n",
              "      <td>Onboarding? What onboarding?</td>\n",
              "      <td>Yes</td>\n",
              "      <td>Occasionally: 1-2 days per quarter but less th...</td>\n",
              "      <td>Ask developers I know/work with;Visit develope...</td>\n",
              "      <td>Amused</td>\n",
              "      <td>Stack Overflow (public Q&amp;A for anyone who code...</td>\n",
              "      <td>Call a coworker or friend;Visit Stack Overflow...</td>\n",
              "      <td>MacOS</td>\n",
              "      <td>20 to 99 employees</td>\n",
              "      <td>Linux</td>\n",
              "      <td>Docker;Linux;MacOS</td>\n",
              "      <td>NaN</td>\n",
              "      <td>Straight / Heterosexual</td>\n",
              "      <td>Yes</td>\n",
              "      <td>No, not really</td>\n",
              "      <td>Less than once per month or monthly</td>\n",
              "      <td>Multiple times pe</td>\n",
              "      <td>NaN</td>\n",
              "      <td>NaN</td>\n",
              "      <td>NaN</td>\n",
              "      <td>NaN</td>\n",
              "      <td>NaN</td>\n",
              "      <td>NaN</td>\n",
              "      <td>NaN</td>\n",
              "      <td>NaN</td>\n",
              "      <td>NaN</td>\n",
              "      <td>NaN</td>\n",
              "    </tr>\n",
              "  </tbody>\n",
              "</table>\n",
              "<p>3704 rows × 60 columns</p>\n",
              "</div>"
            ],
            "text/plain": [
              "                                                   MainBranch  ... YearsCodePro\n",
              "Respondent                                                     ...             \n",
              "1                              I am a developer by profession  ...           27\n",
              "2                              I am a developer by profession  ...            4\n",
              "3                                 I code primarily as a hobby  ...          NaN\n",
              "4                              I am a developer by profession  ...            4\n",
              "5           I used to be a developer by profession, but no...  ...            8\n",
              "...                                                       ...  ...          ...\n",
              "3714                           I am a developer by profession  ...            4\n",
              "3715                           I am a developer by profession  ...          NaN\n",
              "3716                           I am a developer by profession  ...            5\n",
              "3717                           I am a developer by profession  ...          NaN\n",
              "3718                           I am a developer by profession  ...          NaN\n",
              "\n",
              "[3704 rows x 60 columns]"
            ]
          },
          "metadata": {},
          "execution_count": 3
        }
      ]
    },
    {
      "cell_type": "markdown",
      "metadata": {
        "id": "SCE3EGlC-PT6"
      },
      "source": [
        "Let's see how many missing values we have."
      ]
    },
    {
      "cell_type": "code",
      "metadata": {
        "colab": {
          "base_uri": "https://localhost:8080/"
        },
        "id": "j4B-Mo_c-CIc",
        "outputId": "ddc18fc1-a5d0-41c2-b7dc-8515f04f4b2a"
      },
      "source": [
        "df_stack_overflow.isna().sum()"
      ],
      "execution_count": 4,
      "outputs": [
        {
          "output_type": "execute_result",
          "data": {
            "text/plain": [
              "MainBranch                         0\n",
              "Hobbyist                           0\n",
              "Age                              453\n",
              "Age1stCode                        28\n",
              "CompFreq                         948\n",
              "CompTotal                       1120\n",
              "ConvertedComp                   1129\n",
              "Country                            0\n",
              "CurrencyDesc                     627\n",
              "CurrencySymbol                   627\n",
              "DatabaseDesireNextYear           908\n",
              "DatabaseWorkedWith               519\n",
              "DevType                          464\n",
              "EdLevel                           81\n",
              "Employment                        16\n",
              "Ethnicity                        387\n",
              "Gender                           173\n",
              "JobFactors                       346\n",
              "JobSat                           639\n",
              "JobSeek                          218\n",
              "LanguageDesireNextYear           274\n",
              "LanguageWorkedWith                43\n",
              "MiscTechDesireNextYear           910\n",
              "MiscTechWorkedWith               973\n",
              "NEWCollabToolsDesireNextYear     614\n",
              "NEWCollabToolsWorkedWith         200\n",
              "NEWDevOps                        709\n",
              "NEWDevOpsImpt                    755\n",
              "NEWEdImpt                        459\n",
              "NEWJobHunt                       678\n",
              "NEWJobHuntResearch               759\n",
              "NEWLearn                         139\n",
              "NEWOffTopic                      198\n",
              "NEWOnboardGood                   712\n",
              "NEWOtherComms                     24\n",
              "NEWOvertime                      666\n",
              "NEWPurchaseResearch             1231\n",
              "NEWPurpleLink                     50\n",
              "NEWSOSites                        24\n",
              "NEWStuck                          52\n",
              "OpSys                             38\n",
              "OrgSize                          703\n",
              "PlatformDesireNextYear           471\n",
              "PlatformWorkedWith               229\n",
              "PurchaseWhat                     946\n",
              "Sexuality                        465\n",
              "SOAccount                         62\n",
              "SOComm                            65\n",
              "SOPartFreq                       472\n",
              "SOVisitFreq                       62\n",
              "SurveyEase                        41\n",
              "SurveyLength                      50\n",
              "Trans                            218\n",
              "UndergradMajor                   401\n",
              "WebframeDesireNextYear          1148\n",
              "WebframeWorkedWith               933\n",
              "WelcomeChange                    149\n",
              "WorkWeekHrs                      770\n",
              "YearsCode                         30\n",
              "YearsCodePro                     615\n",
              "dtype: int64"
            ]
          },
          "metadata": {},
          "execution_count": 4
        }
      ]
    },
    {
      "cell_type": "markdown",
      "metadata": {
        "id": "S4TEGnX0-Z0N"
      },
      "source": [
        "We can also calculate the percentage of missing values in each column by dividing by the total number of rows."
      ]
    },
    {
      "cell_type": "code",
      "metadata": {
        "colab": {
          "base_uri": "https://localhost:8080/"
        },
        "id": "yan-2mW2-p9G",
        "outputId": "f7c5e40d-67d9-4100-b496-95934c99e57f"
      },
      "source": [
        "df_stack_overflow.isna().sum()/df_stack_overflow.shape[0]"
      ],
      "execution_count": null,
      "outputs": [
        {
          "output_type": "execute_result",
          "data": {
            "text/plain": [
              "MainBranch                      0.000000\n",
              "Hobbyist                        0.000639\n",
              "Age                             0.275170\n",
              "Age1stCode                      0.088660\n",
              "CompFreq                        0.364725\n",
              "CompTotal                       0.447023\n",
              "ConvertedComp                   0.448142\n",
              "Country                         0.004699\n",
              "CurrencyDesc                    0.280588\n",
              "CurrencySymbol                  0.280588\n",
              "DatabaseDesireNextYear          0.305970\n",
              "DatabaseWorkedWith              0.220235\n",
              "DevType                         0.221258\n",
              "EdLevel                         0.097083\n",
              "Employment                      0.008152\n",
              "Ethnicity                       0.267530\n",
              "Gender                          0.194310\n",
              "JobFactors                      0.215552\n",
              "JobSat                          0.285064\n",
              "JobSeek                         0.178023\n",
              "LanguageDesireNextYear          0.147910\n",
              "LanguageWorkedWith              0.097163\n",
              "MiscTechDesireNextYear          0.331208\n",
              "MiscTechWorkedWith              0.363702\n",
              "NEWCollabToolsDesireNextYear    0.252905\n",
              "NEWCollabToolsWorkedWith        0.164916\n",
              "NEWDevOps                       0.322257\n",
              "NEWDevOpsImpt                   0.337377\n",
              "NEWEdImpt                       0.236522\n",
              "NEWJobHunt                      0.327148\n",
              "NEWJobHuntResearch              0.347287\n",
              "NEWLearn                        0.117078\n",
              "NEWOffTopic                     0.195413\n",
              "NEWOnboardGood                  0.323248\n",
              "NEWOtherComms                   0.097531\n",
              "NEWOvertime                     0.313658\n",
              "NEWPurchaseResearch             0.411444\n",
              "NEWPurpleLink                   0.133621\n",
              "NEWSOSites                      0.084888\n",
              "NEWStuck                        0.130824\n",
              "OpSys                           0.112539\n",
              "OrgSize                         0.298490\n",
              "PlatformDesireNextYear          0.202062\n",
              "PlatformWorkedWith              0.151666\n",
              "PurchaseWhat                    0.376153\n",
              "Sexuality                       0.298649\n",
              "SOAccount                       0.106705\n",
              "SOComm                          0.111436\n",
              "SOPartFreq                      0.263406\n",
              "SOVisitFreq                     0.104387\n",
              "SurveyEase                      0.174427\n",
              "SurveyLength                    0.176025\n",
              "Trans                           0.213538\n",
              "UndergradMajor                  0.196979\n",
              "WebframeDesireNextYear          0.369120\n",
              "WebframeWorkedWith              0.333557\n",
              "WelcomeChange                   0.167522\n",
              "WorkWeekHrs                     0.346280\n",
              "YearsCode                       0.092096\n",
              "YearsCodePro                    0.269112\n",
              "dtype: float64"
            ]
          },
          "metadata": {},
          "execution_count": 61
        }
      ]
    },
    {
      "cell_type": "markdown",
      "metadata": {
        "id": "tx88mDkC-7_3"
      },
      "source": [
        "Let's take a look at the `YearsCode` column which corresponds to the number of years the respondant has been coding"
      ]
    },
    {
      "cell_type": "code",
      "metadata": {
        "colab": {
          "base_uri": "https://localhost:8080/"
        },
        "id": "1Q6EPqBJ-V1m",
        "outputId": "6126b389-e5f5-4329-f9c7-e628ab0517ae"
      },
      "source": [
        "df_stack_overflow[\"YearsCode\"].head(20)"
      ],
      "execution_count": null,
      "outputs": [
        {
          "output_type": "execute_result",
          "data": {
            "text/plain": [
              "Respondent\n",
              "1     36\n",
              "2      7\n",
              "3      4\n",
              "4      7\n",
              "5     15\n",
              "6      6\n",
              "7      6\n",
              "8     17\n",
              "9      6\n",
              "10     8\n",
              "11    10\n",
              "12     7\n",
              "13    35\n",
              "14     5\n",
              "15     4\n",
              "16    37\n",
              "17     7\n",
              "18    19\n",
              "19     9\n",
              "20    22\n",
              "Name: YearsCode, dtype: object"
            ]
          },
          "metadata": {},
          "execution_count": 64
        }
      ]
    },
    {
      "cell_type": "markdown",
      "metadata": {
        "id": "Ud08RFmr_Tfk"
      },
      "source": [
        "Maybe we want to impute the missing values by using the mean. Before, we do that we can see that `dtype` above is object. So we need to change that first."
      ]
    },
    {
      "cell_type": "code",
      "metadata": {
        "colab": {
          "base_uri": "https://localhost:8080/",
          "height": 317
        },
        "id": "nHDUJdGe_I_x",
        "outputId": "ff67b577-ac5a-47a4-8a1c-d8210b347bd3"
      },
      "source": [
        "df_stack_overflow[\"YearsCode\"] = df_stack_overflow[\"YearsCode\"].astype(float)"
      ],
      "execution_count": null,
      "outputs": [
        {
          "output_type": "error",
          "ename": "ValueError",
          "evalue": "ignored",
          "traceback": [
            "\u001b[0;31m---------------------------------------------------------------------------\u001b[0m",
            "\u001b[0;31mValueError\u001b[0m                                Traceback (most recent call last)",
            "\u001b[0;32m<ipython-input-65-6b6f6b25920a>\u001b[0m in \u001b[0;36m<module>\u001b[0;34m()\u001b[0m\n\u001b[0;32m----> 1\u001b[0;31m \u001b[0mdf_stack_overflow\u001b[0m\u001b[0;34m[\u001b[0m\u001b[0;34m\"YearsCode\"\u001b[0m\u001b[0;34m]\u001b[0m \u001b[0;34m=\u001b[0m \u001b[0mdf_stack_overflow\u001b[0m\u001b[0;34m[\u001b[0m\u001b[0;34m\"YearsCode\"\u001b[0m\u001b[0;34m]\u001b[0m\u001b[0;34m.\u001b[0m\u001b[0mastype\u001b[0m\u001b[0;34m(\u001b[0m\u001b[0mfloat\u001b[0m\u001b[0;34m)\u001b[0m\u001b[0;34m\u001b[0m\u001b[0;34m\u001b[0m\u001b[0m\n\u001b[0m",
            "\u001b[0;32m/usr/local/lib/python3.7/dist-packages/pandas/core/generic.py\u001b[0m in \u001b[0;36mastype\u001b[0;34m(self, dtype, copy, errors)\u001b[0m\n\u001b[1;32m   5546\u001b[0m         \u001b[0;32melse\u001b[0m\u001b[0;34m:\u001b[0m\u001b[0;34m\u001b[0m\u001b[0;34m\u001b[0m\u001b[0m\n\u001b[1;32m   5547\u001b[0m             \u001b[0;31m# else, only a single dtype is given\u001b[0m\u001b[0;34m\u001b[0m\u001b[0;34m\u001b[0m\u001b[0;34m\u001b[0m\u001b[0m\n\u001b[0;32m-> 5548\u001b[0;31m             \u001b[0mnew_data\u001b[0m \u001b[0;34m=\u001b[0m \u001b[0mself\u001b[0m\u001b[0;34m.\u001b[0m\u001b[0m_mgr\u001b[0m\u001b[0;34m.\u001b[0m\u001b[0mastype\u001b[0m\u001b[0;34m(\u001b[0m\u001b[0mdtype\u001b[0m\u001b[0;34m=\u001b[0m\u001b[0mdtype\u001b[0m\u001b[0;34m,\u001b[0m \u001b[0mcopy\u001b[0m\u001b[0;34m=\u001b[0m\u001b[0mcopy\u001b[0m\u001b[0;34m,\u001b[0m \u001b[0merrors\u001b[0m\u001b[0;34m=\u001b[0m\u001b[0merrors\u001b[0m\u001b[0;34m,\u001b[0m\u001b[0;34m)\u001b[0m\u001b[0;34m\u001b[0m\u001b[0;34m\u001b[0m\u001b[0m\n\u001b[0m\u001b[1;32m   5549\u001b[0m             \u001b[0;32mreturn\u001b[0m \u001b[0mself\u001b[0m\u001b[0;34m.\u001b[0m\u001b[0m_constructor\u001b[0m\u001b[0;34m(\u001b[0m\u001b[0mnew_data\u001b[0m\u001b[0;34m)\u001b[0m\u001b[0;34m.\u001b[0m\u001b[0m__finalize__\u001b[0m\u001b[0;34m(\u001b[0m\u001b[0mself\u001b[0m\u001b[0;34m,\u001b[0m \u001b[0mmethod\u001b[0m\u001b[0;34m=\u001b[0m\u001b[0;34m\"astype\"\u001b[0m\u001b[0;34m)\u001b[0m\u001b[0;34m\u001b[0m\u001b[0;34m\u001b[0m\u001b[0m\n\u001b[1;32m   5550\u001b[0m \u001b[0;34m\u001b[0m\u001b[0m\n",
            "\u001b[0;32m/usr/local/lib/python3.7/dist-packages/pandas/core/internals/managers.py\u001b[0m in \u001b[0;36mastype\u001b[0;34m(self, dtype, copy, errors)\u001b[0m\n\u001b[1;32m    602\u001b[0m         \u001b[0mself\u001b[0m\u001b[0;34m,\u001b[0m \u001b[0mdtype\u001b[0m\u001b[0;34m,\u001b[0m \u001b[0mcopy\u001b[0m\u001b[0;34m:\u001b[0m \u001b[0mbool\u001b[0m \u001b[0;34m=\u001b[0m \u001b[0;32mFalse\u001b[0m\u001b[0;34m,\u001b[0m \u001b[0merrors\u001b[0m\u001b[0;34m:\u001b[0m \u001b[0mstr\u001b[0m \u001b[0;34m=\u001b[0m \u001b[0;34m\"raise\"\u001b[0m\u001b[0;34m\u001b[0m\u001b[0;34m\u001b[0m\u001b[0m\n\u001b[1;32m    603\u001b[0m     ) -> \"BlockManager\":\n\u001b[0;32m--> 604\u001b[0;31m         \u001b[0;32mreturn\u001b[0m \u001b[0mself\u001b[0m\u001b[0;34m.\u001b[0m\u001b[0mapply\u001b[0m\u001b[0;34m(\u001b[0m\u001b[0;34m\"astype\"\u001b[0m\u001b[0;34m,\u001b[0m \u001b[0mdtype\u001b[0m\u001b[0;34m=\u001b[0m\u001b[0mdtype\u001b[0m\u001b[0;34m,\u001b[0m \u001b[0mcopy\u001b[0m\u001b[0;34m=\u001b[0m\u001b[0mcopy\u001b[0m\u001b[0;34m,\u001b[0m \u001b[0merrors\u001b[0m\u001b[0;34m=\u001b[0m\u001b[0merrors\u001b[0m\u001b[0;34m)\u001b[0m\u001b[0;34m\u001b[0m\u001b[0;34m\u001b[0m\u001b[0m\n\u001b[0m\u001b[1;32m    605\u001b[0m \u001b[0;34m\u001b[0m\u001b[0m\n\u001b[1;32m    606\u001b[0m     def convert(\n",
            "\u001b[0;32m/usr/local/lib/python3.7/dist-packages/pandas/core/internals/managers.py\u001b[0m in \u001b[0;36mapply\u001b[0;34m(self, f, align_keys, **kwargs)\u001b[0m\n\u001b[1;32m    407\u001b[0m                 \u001b[0mapplied\u001b[0m \u001b[0;34m=\u001b[0m \u001b[0mb\u001b[0m\u001b[0;34m.\u001b[0m\u001b[0mapply\u001b[0m\u001b[0;34m(\u001b[0m\u001b[0mf\u001b[0m\u001b[0;34m,\u001b[0m \u001b[0;34m**\u001b[0m\u001b[0mkwargs\u001b[0m\u001b[0;34m)\u001b[0m\u001b[0;34m\u001b[0m\u001b[0;34m\u001b[0m\u001b[0m\n\u001b[1;32m    408\u001b[0m             \u001b[0;32melse\u001b[0m\u001b[0;34m:\u001b[0m\u001b[0;34m\u001b[0m\u001b[0;34m\u001b[0m\u001b[0m\n\u001b[0;32m--> 409\u001b[0;31m                 \u001b[0mapplied\u001b[0m \u001b[0;34m=\u001b[0m \u001b[0mgetattr\u001b[0m\u001b[0;34m(\u001b[0m\u001b[0mb\u001b[0m\u001b[0;34m,\u001b[0m \u001b[0mf\u001b[0m\u001b[0;34m)\u001b[0m\u001b[0;34m(\u001b[0m\u001b[0;34m**\u001b[0m\u001b[0mkwargs\u001b[0m\u001b[0;34m)\u001b[0m\u001b[0;34m\u001b[0m\u001b[0;34m\u001b[0m\u001b[0m\n\u001b[0m\u001b[1;32m    410\u001b[0m             \u001b[0mresult_blocks\u001b[0m \u001b[0;34m=\u001b[0m \u001b[0m_extend_blocks\u001b[0m\u001b[0;34m(\u001b[0m\u001b[0mapplied\u001b[0m\u001b[0;34m,\u001b[0m \u001b[0mresult_blocks\u001b[0m\u001b[0;34m)\u001b[0m\u001b[0;34m\u001b[0m\u001b[0;34m\u001b[0m\u001b[0m\n\u001b[1;32m    411\u001b[0m \u001b[0;34m\u001b[0m\u001b[0m\n",
            "\u001b[0;32m/usr/local/lib/python3.7/dist-packages/pandas/core/internals/blocks.py\u001b[0m in \u001b[0;36mastype\u001b[0;34m(self, dtype, copy, errors)\u001b[0m\n\u001b[1;32m    593\u001b[0m             \u001b[0mvals1d\u001b[0m \u001b[0;34m=\u001b[0m \u001b[0mvalues\u001b[0m\u001b[0;34m.\u001b[0m\u001b[0mravel\u001b[0m\u001b[0;34m(\u001b[0m\u001b[0;34m)\u001b[0m\u001b[0;34m\u001b[0m\u001b[0;34m\u001b[0m\u001b[0m\n\u001b[1;32m    594\u001b[0m             \u001b[0;32mtry\u001b[0m\u001b[0;34m:\u001b[0m\u001b[0;34m\u001b[0m\u001b[0;34m\u001b[0m\u001b[0m\n\u001b[0;32m--> 595\u001b[0;31m                 \u001b[0mvalues\u001b[0m \u001b[0;34m=\u001b[0m \u001b[0mastype_nansafe\u001b[0m\u001b[0;34m(\u001b[0m\u001b[0mvals1d\u001b[0m\u001b[0;34m,\u001b[0m \u001b[0mdtype\u001b[0m\u001b[0;34m,\u001b[0m \u001b[0mcopy\u001b[0m\u001b[0;34m=\u001b[0m\u001b[0;32mTrue\u001b[0m\u001b[0;34m)\u001b[0m\u001b[0;34m\u001b[0m\u001b[0;34m\u001b[0m\u001b[0m\n\u001b[0m\u001b[1;32m    596\u001b[0m             \u001b[0;32mexcept\u001b[0m \u001b[0;34m(\u001b[0m\u001b[0mValueError\u001b[0m\u001b[0;34m,\u001b[0m \u001b[0mTypeError\u001b[0m\u001b[0;34m)\u001b[0m\u001b[0;34m:\u001b[0m\u001b[0;34m\u001b[0m\u001b[0;34m\u001b[0m\u001b[0m\n\u001b[1;32m    597\u001b[0m                 \u001b[0;31m# e.g. astype_nansafe can fail on object-dtype of strings\u001b[0m\u001b[0;34m\u001b[0m\u001b[0;34m\u001b[0m\u001b[0;34m\u001b[0m\u001b[0m\n",
            "\u001b[0;32m/usr/local/lib/python3.7/dist-packages/pandas/core/dtypes/cast.py\u001b[0m in \u001b[0;36mastype_nansafe\u001b[0;34m(arr, dtype, copy, skipna)\u001b[0m\n\u001b[1;32m    995\u001b[0m     \u001b[0;32mif\u001b[0m \u001b[0mcopy\u001b[0m \u001b[0;32mor\u001b[0m \u001b[0mis_object_dtype\u001b[0m\u001b[0;34m(\u001b[0m\u001b[0marr\u001b[0m\u001b[0;34m)\u001b[0m \u001b[0;32mor\u001b[0m \u001b[0mis_object_dtype\u001b[0m\u001b[0;34m(\u001b[0m\u001b[0mdtype\u001b[0m\u001b[0;34m)\u001b[0m\u001b[0;34m:\u001b[0m\u001b[0;34m\u001b[0m\u001b[0;34m\u001b[0m\u001b[0m\n\u001b[1;32m    996\u001b[0m         \u001b[0;31m# Explicit copy, or required since NumPy can't view from / to object.\u001b[0m\u001b[0;34m\u001b[0m\u001b[0;34m\u001b[0m\u001b[0;34m\u001b[0m\u001b[0m\n\u001b[0;32m--> 997\u001b[0;31m         \u001b[0;32mreturn\u001b[0m \u001b[0marr\u001b[0m\u001b[0;34m.\u001b[0m\u001b[0mastype\u001b[0m\u001b[0;34m(\u001b[0m\u001b[0mdtype\u001b[0m\u001b[0;34m,\u001b[0m \u001b[0mcopy\u001b[0m\u001b[0;34m=\u001b[0m\u001b[0;32mTrue\u001b[0m\u001b[0;34m)\u001b[0m\u001b[0;34m\u001b[0m\u001b[0;34m\u001b[0m\u001b[0m\n\u001b[0m\u001b[1;32m    998\u001b[0m \u001b[0;34m\u001b[0m\u001b[0m\n\u001b[1;32m    999\u001b[0m     \u001b[0;32mreturn\u001b[0m \u001b[0marr\u001b[0m\u001b[0;34m.\u001b[0m\u001b[0mview\u001b[0m\u001b[0;34m(\u001b[0m\u001b[0mdtype\u001b[0m\u001b[0;34m)\u001b[0m\u001b[0;34m\u001b[0m\u001b[0;34m\u001b[0m\u001b[0m\n",
            "\u001b[0;31mValueError\u001b[0m: could not convert string to float: 'Less than 1 year'"
          ]
        }
      ]
    },
    {
      "cell_type": "markdown",
      "metadata": {
        "id": "tQTO_d6n_rJ-"
      },
      "source": [
        "If we take a look at the error above we will see that there are values set to 'Less than 1 year' so those can not be converted to float. Let's see all the unique values of the `YearsCode` column before proceeding. This can be done using the `unique()` method"
      ]
    },
    {
      "cell_type": "code",
      "metadata": {
        "colab": {
          "base_uri": "https://localhost:8080/"
        },
        "id": "JFQNk6vz_ptn",
        "outputId": "1be035f0-3d0a-49a9-de91-43055bd772b6"
      },
      "source": [
        "df_stack_overflow[\"YearsCode\"].unique()"
      ],
      "execution_count": 6,
      "outputs": [
        {
          "output_type": "execute_result",
          "data": {
            "text/plain": [
              "array(['36', '7', '4', '15', '6', '17', '8', '10', '35', '5', '37', '19',\n",
              "       '9', '22', '30', '23', '20', '2', 'Less than 1 year', '3', '13',\n",
              "       '25', '16', '43', '11', '38', '33', nan, '24', '21', '12', '40',\n",
              "       '27', '50', '46', '14', '18', '28', '32', '44', '26', '42', '31',\n",
              "       '34', '29', '1', '39', '41', '45', 'More than 50 years', '47',\n",
              "       '49', '48'], dtype=object)"
            ]
          },
          "metadata": {},
          "execution_count": 6
        }
      ]
    },
    {
      "cell_type": "markdown",
      "metadata": {
        "id": "Y6Y3jmInATxD"
      },
      "source": [
        "Now, we know that we need to deal with 'Less than 1 year' and 'More than 50 years'. Let's replace 'Less than 1 year' with 0 and 'More than 50 years' with 51. "
      ]
    },
    {
      "cell_type": "code",
      "metadata": {
        "id": "aCYibsizAOpz"
      },
      "source": [
        "df_stack_overflow['YearsCode'].replace('Less than 1 year', 0, inplace=True)\n",
        "df_stack_overflow['YearsCode'].replace('More than 50 years', 51, inplace=True)"
      ],
      "execution_count": 7,
      "outputs": []
    },
    {
      "cell_type": "code",
      "metadata": {
        "colab": {
          "base_uri": "https://localhost:8080/"
        },
        "id": "xEoEPO3BAwlA",
        "outputId": "a14e5b5c-9255-433d-fc23-df78bff55aef"
      },
      "source": [
        "df_stack_overflow[\"YearsCode\"].unique()"
      ],
      "execution_count": 8,
      "outputs": [
        {
          "output_type": "execute_result",
          "data": {
            "text/plain": [
              "array(['36', '7', '4', '15', '6', '17', '8', '10', '35', '5', '37', '19',\n",
              "       '9', '22', '30', '23', '20', '2', 0, '3', '13', '25', '16', '43',\n",
              "       '11', '38', '33', nan, '24', '21', '12', '40', '27', '50', '46',\n",
              "       '14', '18', '28', '32', '44', '26', '42', '31', '34', '29', '1',\n",
              "       '39', '41', '45', 51, '47', '49', '48'], dtype=object)"
            ]
          },
          "metadata": {},
          "execution_count": 8
        }
      ]
    },
    {
      "cell_type": "markdown",
      "metadata": {
        "id": "PGtV6n4YA2kD"
      },
      "source": [
        "It's now ready for us to convert to float."
      ]
    },
    {
      "cell_type": "code",
      "metadata": {
        "colab": {
          "base_uri": "https://localhost:8080/"
        },
        "id": "tPJrnVQuAyQI",
        "outputId": "795aae8b-8910-4819-c792-52ae3e5e5641"
      },
      "source": [
        "df_stack_overflow[\"YearsCode\"] = df_stack_overflow[\"YearsCode\"].astype(float)\n",
        "df_stack_overflow[\"YearsCode\"] "
      ],
      "execution_count": 9,
      "outputs": [
        {
          "output_type": "execute_result",
          "data": {
            "text/plain": [
              "Respondent\n",
              "1       36.0\n",
              "2        7.0\n",
              "3        4.0\n",
              "4        7.0\n",
              "5       15.0\n",
              "        ... \n",
              "3714     8.0\n",
              "3715     6.0\n",
              "3716    15.0\n",
              "3717     NaN\n",
              "3718     NaN\n",
              "Name: YearsCode, Length: 3704, dtype: float64"
            ]
          },
          "metadata": {},
          "execution_count": 9
        }
      ]
    },
    {
      "cell_type": "markdown",
      "metadata": {
        "id": "WNCpNi1EBFgm"
      },
      "source": [
        "We can now impute the missing values with the mean."
      ]
    },
    {
      "cell_type": "code",
      "metadata": {
        "colab": {
          "base_uri": "https://localhost:8080/"
        },
        "id": "SodXneEyA6y3",
        "outputId": "5da7e84e-e322-42b0-f983-8dccbc1ce190"
      },
      "source": [
        "df_stack_overflow[\"YearsCode\"].fillna(value=df_stack_overflow[\"YearsCode\"].mean())"
      ],
      "execution_count": 10,
      "outputs": [
        {
          "output_type": "execute_result",
          "data": {
            "text/plain": [
              "Respondent\n",
              "1       36.000000\n",
              "2        7.000000\n",
              "3        4.000000\n",
              "4        7.000000\n",
              "5       15.000000\n",
              "          ...    \n",
              "3714     8.000000\n",
              "3715     6.000000\n",
              "3716    15.000000\n",
              "3717    15.259935\n",
              "3718    15.259935\n",
              "Name: YearsCode, Length: 3704, dtype: float64"
            ]
          },
          "metadata": {},
          "execution_count": 10
        }
      ]
    },
    {
      "cell_type": "markdown",
      "metadata": {
        "id": "-5QGc5QFBfGY"
      },
      "source": [
        "But maybe the mean is not the best way to do this. What if the median is a better option? Here are some points to consider when choosing the imputation method:\n",
        "\n",
        "*   If the variable follows a normal distribution, the mean and median are approximately the same.\n",
        "\n",
        "\n",
        "*  If the variable has a skewed distribution, then the median is a better representation.\n",
        "\n",
        "Let's check the distribution of the `YearsCode` variable to decide."
      ]
    },
    {
      "cell_type": "code",
      "metadata": {
        "colab": {
          "base_uri": "https://localhost:8080/",
          "height": 355
        },
        "id": "TmJ32A2cBYBW",
        "outputId": "189ab2ff-19b6-453e-faec-105d8baa02c4"
      },
      "source": [
        "sns.distplot(df_stack_overflow[\"YearsCode\"])"
      ],
      "execution_count": null,
      "outputs": [
        {
          "output_type": "stream",
          "name": "stderr",
          "text": [
            "/usr/local/lib/python3.7/dist-packages/seaborn/distributions.py:2619: FutureWarning: `distplot` is a deprecated function and will be removed in a future version. Please adapt your code to use either `displot` (a figure-level function with similar flexibility) or `histplot` (an axes-level function for histograms).\n",
            "  warnings.warn(msg, FutureWarning)\n"
          ]
        },
        {
          "output_type": "execute_result",
          "data": {
            "text/plain": [
              "<matplotlib.axes._subplots.AxesSubplot at 0x7f276c630550>"
            ]
          },
          "metadata": {},
          "execution_count": 76
        },
        {
          "output_type": "display_data",
          "data": {
            "image/png": "[encoded data removed]",
            "text/plain": [
              "<Figure size 432x288 with 1 Axes>"
            ]
          },
          "metadata": {
            "needs_background": "light"
          }
        }
      ]
    },
    {
      "cell_type": "markdown",
      "metadata": {
        "id": "G8IGJiA2Dlu0"
      },
      "source": [
        "The data looks to be right-skewed (long tail in the right).  Another way to check is to use a boxplot."
      ]
    },
    {
      "cell_type": "code",
      "metadata": {
        "colab": {
          "base_uri": "https://localhost:8080/",
          "height": 352
        },
        "id": "rEb3tWwcEISk",
        "outputId": "80cc3ff4-5c1d-4f2a-8dc7-3625323d557a"
      },
      "source": [
        "sns.boxplot(df_stack_overflow[\"YearsCode\"])"
      ],
      "execution_count": null,
      "outputs": [
        {
          "output_type": "stream",
          "name": "stderr",
          "text": [
            "/usr/local/lib/python3.7/dist-packages/seaborn/_decorators.py:43: FutureWarning: Pass the following variable as a keyword arg: x. From version 0.12, the only valid positional argument will be `data`, and passing other arguments without an explicit keyword will result in an error or misinterpretation.\n",
            "  FutureWarning\n"
          ]
        },
        {
          "output_type": "execute_result",
          "data": {
            "text/plain": [
              "<matplotlib.axes._subplots.AxesSubplot at 0x7f2760f4c090>"
            ]
          },
          "metadata": {},
          "execution_count": 79
        },
        {
          "output_type": "display_data",
          "data": {
            "image/png": "[encoded data removed]",
            "text/plain": [
              "<Figure size 432x288 with 1 Axes>"
            ]
          },
          "metadata": {
            "needs_background": "light"
          }
        }
      ]
    },
    {
      "cell_type": "markdown",
      "metadata": {
        "id": "i9LhIeUyEg9I"
      },
      "source": [
        "So let's use the median to fill the missing values in this case."
      ]
    },
    {
      "cell_type": "code",
      "metadata": {
        "colab": {
          "base_uri": "https://localhost:8080/"
        },
        "id": "6_XxGgOxDlZ_",
        "outputId": "0591ba46-5c83-465c-c0b6-c4ecc57efe6d"
      },
      "source": [
        "df_stack_overflow[\"YearsCode\"].fillna(value=df_stack_overflow[\"YearsCode\"].median())"
      ],
      "execution_count": null,
      "outputs": [
        {
          "output_type": "execute_result",
          "data": {
            "text/plain": [
              "Respondent\n",
              "1        36.0\n",
              "2         7.0\n",
              "3         4.0\n",
              "4         7.0\n",
              "5        15.0\n",
              "         ... \n",
              "63890     3.0\n",
              "63891    10.0\n",
              "63892    10.0\n",
              "63893    10.0\n",
              "63894    10.0\n",
              "Name: YearsCode, Length: 62565, dtype: float64"
            ]
          },
          "metadata": {},
          "execution_count": 80
        }
      ]
    },
    {
      "cell_type": "markdown",
      "metadata": {
        "id": "AjQN0fSUcSib"
      },
      "source": [
        "Another technique we can use is **Multivariate imputation** which is using mean or median for all samples belonging to the same class as the given object. For example, instead of choosing the mean/median of the entire `Age` column, we can use the `Hobbyist` column as well. More specifically, if the participant with the age missing was a hobbyist, we use the mean/median of the ages of the hobbyists only.  \n"
      ]
    },
    {
      "cell_type": "markdown",
      "metadata": {
        "id": "YwVppbkAbQoB"
      },
      "source": [
        "Let's check the distribution first to see whether we'll use the mean or the median."
      ]
    },
    {
      "cell_type": "code",
      "metadata": {
        "colab": {
          "base_uri": "https://localhost:8080/",
          "height": 352
        },
        "id": "7CxmoK11bHb3",
        "outputId": "12001579-bdac-4f00-c7d4-e8f0d7428eb1"
      },
      "source": [
        "sns.distplot(df_stack_overflow[\"Age\"])"
      ],
      "execution_count": 13,
      "outputs": [
        {
          "output_type": "stream",
          "name": "stderr",
          "text": [
            "/usr/local/lib/python3.7/dist-packages/seaborn/distributions.py:2619: FutureWarning: `distplot` is a deprecated function and will be removed in a future version. Please adapt your code to use either `displot` (a figure-level function with similar flexibility) or `histplot` (an axes-level function for histograms).\n",
            "  warnings.warn(msg, FutureWarning)\n"
          ]
        },
        {
          "output_type": "execute_result",
          "data": {
            "text/plain": [
              "<matplotlib.axes._subplots.AxesSubplot at 0x7f2d7090a450>"
            ]
          },
          "metadata": {},
          "execution_count": 13
        },
        {
          "output_type": "display_data",
          "data": {
            "image/png": "[encoded data removed]",
            "text/plain": [
              "<Figure size 432x288 with 1 Axes>"
            ]
          },
          "metadata": {
            "needs_background": "light"
          }
        }
      ]
    },
    {
      "cell_type": "code",
      "metadata": {
        "colab": {
          "base_uri": "https://localhost:8080/"
        },
        "id": "OqO9vVf6gpbS",
        "outputId": "b296b411-12ae-49e7-c1c5-49108b665c34"
      },
      "source": [
        "df_stack_overflow.groupby([\"Hobbyist\"])[\"Age\"].mean()"
      ],
      "execution_count": 14,
      "outputs": [
        {
          "output_type": "execute_result",
          "data": {
            "text/plain": [
              "Hobbyist\n",
              "No     35.261760\n",
              "Yes    32.211728\n",
              "Name: Age, dtype: float64"
            ]
          },
          "metadata": {},
          "execution_count": 14
        }
      ]
    },
    {
      "cell_type": "code",
      "metadata": {
        "colab": {
          "base_uri": "https://localhost:8080/"
        },
        "id": "QIbWco6kb4wR",
        "outputId": "8851e1e2-75b3-4931-9610-0100e4924aa6"
      },
      "source": [
        "df_stack_overflow['Hobbyist'].map({'Yes':32.211728, 'No': 35.261760})"
      ],
      "execution_count": 17,
      "outputs": [
        {
          "output_type": "execute_result",
          "data": {
            "text/plain": [
              "Respondent\n",
              "1       32.211728\n",
              "2       35.261760\n",
              "3       32.211728\n",
              "4       32.211728\n",
              "5       32.211728\n",
              "          ...    \n",
              "3714    32.211728\n",
              "3715    32.211728\n",
              "3716    32.211728\n",
              "3717    35.261760\n",
              "3718    32.211728\n",
              "Name: Hobbyist, Length: 3704, dtype: float64"
            ]
          },
          "metadata": {},
          "execution_count": 17
        }
      ]
    },
    {
      "cell_type": "code",
      "metadata": {
        "colab": {
          "base_uri": "https://localhost:8080/"
        },
        "id": "Adezkpc-eel9",
        "outputId": "ac960436-6bbc-431e-f7aa-7deae1c21c32"
      },
      "source": [
        "df_stack_overflow['Age'] = df_stack_overflow['Age'].fillna(df_stack_overflow['Hobbyist'].map({'Yes':32.211728, 'No': 35.261760}))\n",
        "df_stack_overflow['Age'] "
      ],
      "execution_count": 18,
      "outputs": [
        {
          "output_type": "execute_result",
          "data": {
            "text/plain": [
              "Respondent\n",
              "1       32.211728\n",
              "2       35.261760\n",
              "3       32.211728\n",
              "4       25.000000\n",
              "5       31.000000\n",
              "          ...    \n",
              "3714    32.211728\n",
              "3715    32.211728\n",
              "3716    32.000000\n",
              "3717    35.261760\n",
              "3718    37.000000\n",
              "Name: Age, Length: 3704, dtype: float64"
            ]
          },
          "metadata": {},
          "execution_count": 18
        }
      ]
    },
    {
      "cell_type": "code",
      "metadata": {
        "colab": {
          "base_uri": "https://localhost:8080/"
        },
        "id": "yelsd2vuhGYz",
        "outputId": "ae1966cd-7bbe-47e6-edd6-cc2ab0771fe4"
      },
      "source": [
        "df_stack_overflow['Age'].unique()"
      ],
      "execution_count": 19,
      "outputs": [
        {
          "output_type": "execute_result",
          "data": {
            "text/plain": [
              "array([32.211728, 35.26176 , 25.      , 31.      , 36.      , 30.      ,\n",
              "       22.      , 23.      , 49.      , 53.      , 27.      , 45.      ,\n",
              "       32.      , 24.      , 40.      , 18.      , 39.      , 29.      ,\n",
              "       16.      , 34.      , 19.      , 35.      , 20.      , 38.      ,\n",
              "       57.      , 28.      , 17.      , 44.      , 21.      , 48.      ,\n",
              "       26.      , 42.      , 55.      , 37.      , 50.      , 41.      ,\n",
              "       64.      , 63.      , 33.      , 43.      , 51.      , 60.      ,\n",
              "       59.      , 62.      , 69.      , 52.      , 46.      , 49.5     ,\n",
              "       56.      , 47.      , 15.      , 72.      , 13.      , 71.      ,\n",
              "       54.      , 70.      , 11.      , 14.      , 61.      , 26.8     ,\n",
              "       86.      , 58.      , 67.      , 94.      , 65.      , 66.      ,\n",
              "       84.      , 73.      , 78.      , 68.      , 99.      , 74.      ,\n",
              "       12.      , 77.      ])"
            ]
          },
          "metadata": {},
          "execution_count": 19
        }
      ]
    },
    {
      "cell_type": "markdown",
      "metadata": {
        "id": "WXSAVkSGiGI_"
      },
      "source": [
        "------"
      ]
    },
    {
      "cell_type": "markdown",
      "metadata": {
        "id": "zCWdOo8QpQV8"
      },
      "source": [
        "# Task"
      ]
    },
    {
      "cell_type": "markdown",
      "metadata": {
        "id": "3Uvfy6Roc3LN"
      },
      "source": [
        "### Cars Dataset "
      ]
    },
    {
      "cell_type": "markdown",
      "metadata": {
        "id": "gkVTCwKOrvEW"
      },
      "source": [
        "Start by reading the dataset related to car models: https://raw.githubusercontent.com/harshitroy2605/missing-value-in-dataset/master/cars.csv"
      ]
    },
    {
      "cell_type": "code",
      "metadata": {
        "id": "b_YJeNHYv5tm"
      },
      "source": [
        ""
      ],
      "execution_count": null,
      "outputs": []
    },
    {
      "cell_type": "markdown",
      "metadata": {
        "id": "vp7DpCMNr78D"
      },
      "source": [
        "Calculate the percentage of missing values"
      ]
    },
    {
      "cell_type": "code",
      "metadata": {
        "id": "yqN5ir2zsDC6"
      },
      "source": [
        ""
      ],
      "execution_count": null,
      "outputs": []
    },
    {
      "cell_type": "markdown",
      "metadata": {
        "id": "K9_u_e0TsDfV"
      },
      "source": [
        "Fill the missing values from the `MPG` column using an appropriate method."
      ]
    },
    {
      "cell_type": "code",
      "metadata": {
        "id": "x2A0dZwypX0O"
      },
      "source": [
        ""
      ],
      "execution_count": null,
      "outputs": []
    },
    {
      "cell_type": "markdown",
      "metadata": {
        "id": "aCTldAPHeWRq"
      },
      "source": [
        "### SF Building permit Dataset\n",
        "\n",
        "\n",
        "The [Building permits dataset](https://www.kaggle.com/aparnashastry/building-permit-applications-data#Building_Permits.csv) pertains to all types of structural permits from Jan 1, 2013 - Feb 25th 2018 in San Francisco. Data includes details on application/permit numbers, job addresses, supervisorial districts, and the current status of the applications. \n",
        "\n",
        "Download the dataset from the link provided and store it in your own data or working folder. Import the dataset in the next cell, and work your way through the steps in the subsequent cells."
      ]
    },
    {
      "cell_type": "markdown",
      "metadata": {
        "id": "ZGMSW3d4eXfy"
      },
      "source": [
        "1. Import the dataset and observe the first few rows"
      ]
    },
    {
      "cell_type": "code",
      "metadata": {
        "id": "7LObg_MDeXlC"
      },
      "source": [
        ""
      ],
      "execution_count": null,
      "outputs": []
    },
    {
      "cell_type": "markdown",
      "metadata": {
        "id": "lY99RxxseXpq"
      },
      "source": [
        "2. Find out what percent of the building permits dataset is missing."
      ]
    },
    {
      "cell_type": "code",
      "metadata": {
        "id": "qmlPHGyLeXuq"
      },
      "source": [
        ""
      ],
      "execution_count": null,
      "outputs": []
    },
    {
      "cell_type": "markdown",
      "metadata": {
        "id": "nIzETJL3eX0K"
      },
      "source": [
        "3. Write a code to check the values of the `Street Number Suffix` and `Zipcode` from the building permits datasets. Both of these contain missing values. Which, if either, of these are missing because they don't exist? Which, if either, are missing because they weren't recorded?"
      ]
    },
    {
      "cell_type": "code",
      "metadata": {
        "id": "CPX3yxWLeX4J"
      },
      "source": [
        ""
      ],
      "execution_count": null,
      "outputs": []
    },
    {
      "cell_type": "markdown",
      "metadata": {
        "id": "bOMsAmvseX-K"
      },
      "source": [
        "4. See if you can drop the missing values from the building permits dataset and still keep some data, or drop the columns with missing values and see if you have columns still."
      ]
    },
    {
      "cell_type": "code",
      "metadata": {
        "id": "MZTwuU35eYCa"
      },
      "source": [
        ""
      ],
      "execution_count": null,
      "outputs": []
    },
    {
      "cell_type": "markdown",
      "metadata": {
        "id": "iqxLdZyCeYHK"
      },
      "source": [
        "5. Try replacing all the `NaN`'s in the building permits data with the one that comes directly after it and then replacing any remaining `NaN`'s with 0. **HINT:** Google `fillna(method = 'bfill')`"
      ]
    },
    {
      "cell_type": "code",
      "metadata": {
        "id": "UHXJTtH7eYLC"
      },
      "source": [
        ""
      ],
      "execution_count": null,
      "outputs": []
    },
    {
      "cell_type": "markdown",
      "metadata": {
        "id": "9XA_AldReYQS"
      },
      "source": [
        "6. Create a new dataset at the end with all missing values handled and store as a CSV file."
      ]
    },
    {
      "cell_type": "code",
      "metadata": {
        "id": "W_5PswHneYTx"
      },
      "source": [
        ""
      ],
      "execution_count": null,
      "outputs": []
    }
  ]
}