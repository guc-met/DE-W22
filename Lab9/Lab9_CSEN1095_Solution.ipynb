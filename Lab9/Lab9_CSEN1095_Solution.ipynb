{
  "nbformat": 4,
  "nbformat_minor": 0,
  "metadata": {
    "colab": {
      "name": "Lab9_CSEN1095_Solution.ipynb",
      "provenance": [],
      "collapsed_sections": []
    },
    "kernelspec": {
      "name": "python3",
      "display_name": "Python 3"
    }
  },
  "cells": [
    {
      "cell_type": "code",
      "metadata": {
        "id": "27do8bKOgRdF",
        "outputId": "3cc2c199-3b1b-486c-efb9-052172bb76d0",
        "colab": {
          "base_uri": "https://localhost:8080/"
        }
      },
      "source": [
        "!sudo apt update\n",
        "!apt-get install openjdk-8-jdk-headless -qq > /dev/null\n",
        "!wget -q https://archive.apache.org/dist/spark/spark-3.0.0/spark-3.0.0-bin-hadoop3.2.tgz\n",
        "\n",
        "# unzip the spark file to the current folder\n",
        "!tar xf spark-3.0.0-bin-hadoop3.2.tgz"
      ],
      "execution_count": 1,
      "outputs": [
        {
          "output_type": "stream",
          "name": "stdout",
          "text": [
            "\u001b[33m\r0% [Working]\u001b[0m\r            \rHit:1 http://security.ubuntu.com/ubuntu bionic-security InRelease\n",
            "\u001b[33m\r0% [Connecting to archive.ubuntu.com (91.189.88.152)] [Connected to cloud.r-pro\u001b[0m\u001b[33m\r0% [1 InRelease gpgv 88.7 kB] [Connecting to archive.ubuntu.com (91.189.88.152)\u001b[0m\r                                                                               \rHit:2 https://cloud.r-project.org/bin/linux/ubuntu bionic-cran40/ InRelease\n",
            "\u001b[33m\r0% [1 InRelease gpgv 88.7 kB] [Waiting for headers] [Waiting for headers] [Wait\u001b[0m\r                                                                               \rIgn:3 https://developer.download.nvidia.com/compute/cuda/repos/ubuntu1804/x86_64  InRelease\n",
            "\u001b[33m\r0% [1 InRelease gpgv 88.7 kB] [Waiting for headers] [Waiting for headers] [Wait\u001b[0m\u001b[33m\r                                                                               \r0% [Waiting for headers] [Waiting for headers] [Waiting for headers]\u001b[0m\u001b[33m\r0% [2 InRelease gpgv 3,626 B] [Waiting for headers] [Waiting for headers] [Wait\u001b[0m\r                                                                               \rHit:4 http://archive.ubuntu.com/ubuntu bionic InRelease\n",
            "Hit:5 http://ppa.launchpad.net/c2d4u.team/c2d4u4.0+/ubuntu bionic InRelease\n",
            "Ign:6 https://developer.download.nvidia.com/compute/machine-learning/repos/ubuntu1804/x86_64  InRelease\n",
            "Hit:7 https://developer.download.nvidia.com/compute/cuda/repos/ubuntu1804/x86_64  Release\n",
            "Hit:8 https://developer.download.nvidia.com/compute/machine-learning/repos/ubuntu1804/x86_64  Release\n",
            "Hit:9 http://archive.ubuntu.com/ubuntu bionic-updates InRelease\n",
            "Hit:10 http://archive.ubuntu.com/ubuntu bionic-backports InRelease\n",
            "Hit:11 http://ppa.launchpad.net/cran/libgit2/ubuntu bionic InRelease\n",
            "Hit:12 http://ppa.launchpad.net/deadsnakes/ppa/ubuntu bionic InRelease\n",
            "Hit:15 http://ppa.launchpad.net/graphics-drivers/ppa/ubuntu bionic InRelease\n",
            "Reading package lists... Done\n",
            "Building dependency tree       \n",
            "Reading state information... Done\n",
            "85 packages can be upgraded. Run 'apt list --upgradable' to see them.\n"
          ]
        }
      ]
    },
    {
      "cell_type": "code",
      "metadata": {
        "id": "NW--3uSFgSjm"
      },
      "source": [
        "import os\n",
        "os.environ[\"JAVA_HOME\"] = \"/usr/lib/jvm/java-8-openjdk-amd64\"\n",
        "os.environ[\"SPARK_HOME\"] = \"/content/spark-3.0.0-bin-hadoop3.2\""
      ],
      "execution_count": 5,
      "outputs": []
    },
    {
      "cell_type": "code",
      "source": [
        "!pip install -q findspark\n"
      ],
      "metadata": {
        "id": "U0MYtbNS2Ekh"
      },
      "execution_count": 6,
      "outputs": []
    },
    {
      "cell_type": "code",
      "source": [
        "import findspark\n",
        "findspark.init() "
      ],
      "metadata": {
        "id": "cKkYroiT2GbJ"
      },
      "execution_count": 7,
      "outputs": []
    },
    {
      "cell_type": "code",
      "metadata": {
        "colab": {
          "base_uri": "https://localhost:8080/"
        },
        "id": "YQfMZZnRgSgq",
        "outputId": "d56b4861-2921-46ed-ef28-056e64446359"
      },
      "source": [
        "!pip install pyspark"
      ],
      "execution_count": 8,
      "outputs": [
        {
          "output_type": "stream",
          "name": "stdout",
          "text": [
            "Requirement already satisfied: pyspark in /usr/local/lib/python3.7/dist-packages (3.0.1)\n",
            "Requirement already satisfied: py4j==0.10.9 in /usr/local/lib/python3.7/dist-packages (from pyspark) (0.10.9)\n"
          ]
        }
      ]
    },
    {
      "cell_type": "code",
      "metadata": {
        "id": "mGSBb0m7gSnM"
      },
      "source": [
        "import pyspark\n",
        "from pyspark.sql import SparkSession\n",
        "from pyspark import SparkContext\n",
        "spark = SparkSession.builder.master(\"local[*]\").appName(\"Task 1\").getOrCreate()  # use all cores of your CPU - each core has thread"
      ],
      "execution_count": 9,
      "outputs": []
    },
    {
      "cell_type": "markdown",
      "metadata": {
        "id": "9ilXTgi2gJHZ"
      },
      "source": [
        "#**Challenge 1 -  PySpark and SQL Querying**"
      ]
    },
    {
      "cell_type": "markdown",
      "metadata": {
        "id": "INpv7ClJmEpW"
      },
      "source": [
        "Write a PySpark code to read all the files in the `by-day` folder, and displays a table that shows the ID of the customer and the the total amount they paid for all their purchases. Make sure to drop any stock that has the word *WATER* in it before calculating the total price."
      ]
    },
    {
      "cell_type": "code",
      "source": [
        "!unzip by-day.zip"
      ],
      "metadata": {
        "id": "QcPtGZlz0NI4",
        "colab": {
          "base_uri": "https://localhost:8080/"
        },
        "outputId": "8e970f41-cd6d-45e0-9898-b0517eb59385"
      },
      "execution_count": 10,
      "outputs": [
        {
          "output_type": "stream",
          "name": "stdout",
          "text": [
            "Archive:  by-day.zip\n",
            "  inflating: by-day/2010-12-01.csv   \n",
            "  inflating: by-day/2010-12-02.csv   \n",
            "  inflating: by-day/2010-12-03.csv   \n",
            "  inflating: by-day/2010-12-05.csv   \n",
            "  inflating: by-day/2010-12-06.csv   \n",
            "  inflating: by-day/2010-12-07.csv   \n",
            "  inflating: by-day/2010-12-08.csv   \n",
            "  inflating: by-day/2010-12-09.csv   \n",
            "  inflating: by-day/2010-12-10.csv   \n",
            "  inflating: by-day/2010-12-12.csv   \n",
            "  inflating: by-day/2010-12-13.csv   \n",
            "  inflating: by-day/2010-12-14.csv   \n",
            "  inflating: by-day/2010-12-15.csv   \n",
            "  inflating: by-day/2010-12-16.csv   \n",
            "  inflating: by-day/2010-12-17.csv   \n",
            "  inflating: by-day/2010-12-19.csv   \n",
            "  inflating: by-day/2010-12-20.csv   \n",
            "  inflating: by-day/2010-12-21.csv   \n",
            "  inflating: by-day/2010-12-22.csv   \n",
            "  inflating: by-day/2010-12-23.csv   \n",
            "  inflating: by-day/2011-01-04.csv   \n",
            "  inflating: by-day/2011-01-05.csv   \n",
            "  inflating: by-day/2011-01-06.csv   \n",
            "  inflating: by-day/2011-01-07.csv   \n",
            "  inflating: by-day/2011-01-09.csv   \n",
            "  inflating: by-day/2011-01-10.csv   \n",
            "  inflating: by-day/2011-01-11.csv   \n",
            "  inflating: by-day/2011-01-12.csv   \n",
            "  inflating: by-day/2011-01-13.csv   \n",
            "  inflating: by-day/2011-01-14.csv   \n",
            "  inflating: by-day/2011-01-16.csv   \n",
            "  inflating: by-day/2011-01-17.csv   \n",
            "  inflating: by-day/2011-01-18.csv   \n",
            "  inflating: by-day/2011-01-19.csv   \n",
            "  inflating: by-day/2011-01-20.csv   \n",
            "  inflating: by-day/2011-01-21.csv   \n",
            "  inflating: by-day/2011-01-23.csv   \n",
            "  inflating: by-day/2011-01-24.csv   \n",
            "  inflating: by-day/2011-01-25.csv   \n",
            "  inflating: by-day/2011-01-26.csv   \n",
            "  inflating: by-day/2011-01-27.csv   \n",
            "  inflating: by-day/2011-01-28.csv   \n",
            "  inflating: by-day/2011-01-30.csv   \n",
            "  inflating: by-day/2011-01-31.csv   \n",
            "  inflating: by-day/2011-02-01.csv   \n",
            "  inflating: by-day/2011-02-02.csv   \n",
            "  inflating: by-day/2011-02-03.csv   \n",
            "  inflating: by-day/2011-02-04.csv   \n",
            "  inflating: by-day/2011-02-06.csv   \n",
            "  inflating: by-day/2011-02-07.csv   \n",
            "  inflating: by-day/2011-02-08.csv   \n",
            "  inflating: by-day/2011-02-09.csv   \n",
            "  inflating: by-day/2011-02-10.csv   \n",
            "  inflating: by-day/2011-02-11.csv   \n",
            "  inflating: by-day/2011-02-13.csv   \n",
            "  inflating: by-day/2011-02-14.csv   \n",
            "  inflating: by-day/2011-02-15.csv   \n",
            "  inflating: by-day/2011-02-16.csv   \n",
            "  inflating: by-day/2011-02-17.csv   \n",
            "  inflating: by-day/2011-02-18.csv   \n",
            "  inflating: by-day/2011-02-20.csv   \n",
            "  inflating: by-day/2011-02-21.csv   \n",
            "  inflating: by-day/2011-02-22.csv   \n",
            "  inflating: by-day/2011-02-23.csv   \n",
            "  inflating: by-day/2011-02-24.csv   \n",
            "  inflating: by-day/2011-02-25.csv   \n",
            "  inflating: by-day/2011-02-27.csv   \n",
            "  inflating: by-day/2011-02-28.csv   \n",
            "  inflating: by-day/2011-03-01.csv   \n",
            "  inflating: by-day/2011-03-02.csv   \n",
            "  inflating: by-day/2011-03-03.csv   \n",
            "  inflating: by-day/2011-03-04.csv   \n",
            "  inflating: by-day/2011-03-06.csv   \n",
            "  inflating: by-day/2011-03-07.csv   \n",
            "  inflating: by-day/2011-03-08.csv   \n",
            "  inflating: by-day/2011-03-09.csv   \n",
            "  inflating: by-day/2011-03-10.csv   \n",
            "  inflating: by-day/2011-03-11.csv   \n",
            "  inflating: by-day/2011-03-13.csv   \n",
            "  inflating: by-day/2011-03-14.csv   \n",
            "  inflating: by-day/2011-03-15.csv   \n",
            "  inflating: by-day/2011-03-16.csv   \n",
            "  inflating: by-day/2011-03-17.csv   \n",
            "  inflating: by-day/2011-03-18.csv   \n",
            "  inflating: by-day/2011-03-20.csv   \n",
            "  inflating: by-day/2011-03-21.csv   \n",
            "  inflating: by-day/2011-03-22.csv   \n",
            "  inflating: by-day/2011-03-23.csv   \n",
            "  inflating: by-day/2011-03-24.csv   \n",
            "  inflating: by-day/2011-03-25.csv   \n",
            "  inflating: by-day/2011-03-27.csv   \n",
            "  inflating: by-day/2011-03-28.csv   \n",
            "  inflating: by-day/2011-03-29.csv   \n",
            "  inflating: by-day/2011-03-30.csv   \n",
            "  inflating: by-day/2011-03-31.csv   \n",
            "  inflating: by-day/2011-04-01.csv   \n",
            "  inflating: by-day/2011-04-03.csv   \n",
            "  inflating: by-day/2011-04-04.csv   \n",
            "  inflating: by-day/2011-04-05.csv   \n",
            "  inflating: by-day/2011-04-06.csv   \n",
            "  inflating: by-day/2011-04-07.csv   \n",
            "  inflating: by-day/2011-04-08.csv   \n",
            "  inflating: by-day/2011-04-10.csv   \n",
            "  inflating: by-day/2011-04-11.csv   \n",
            "  inflating: by-day/2011-04-12.csv   \n",
            "  inflating: by-day/2011-04-13.csv   \n",
            "  inflating: by-day/2011-04-14.csv   \n",
            "  inflating: by-day/2011-04-15.csv   \n",
            "  inflating: by-day/2011-04-17.csv   \n",
            "  inflating: by-day/2011-04-18.csv   \n",
            "  inflating: by-day/2011-04-19.csv   \n",
            "  inflating: by-day/2011-04-20.csv   \n",
            "  inflating: by-day/2011-04-21.csv   \n",
            "  inflating: by-day/2011-04-26.csv   \n",
            "  inflating: by-day/2011-04-27.csv   \n",
            "  inflating: by-day/2011-04-28.csv   \n",
            "  inflating: by-day/2011-05-01.csv   \n",
            "  inflating: by-day/2011-05-03.csv   \n",
            "  inflating: by-day/2011-05-04.csv   \n",
            "  inflating: by-day/2011-05-05.csv   \n",
            "  inflating: by-day/2011-05-06.csv   \n",
            "  inflating: by-day/2011-05-08.csv   \n",
            "  inflating: by-day/2011-05-09.csv   \n",
            "  inflating: by-day/2011-05-10.csv   \n",
            "  inflating: by-day/2011-05-11.csv   \n",
            "  inflating: by-day/2011-05-12.csv   \n",
            "  inflating: by-day/2011-05-13.csv   \n",
            "  inflating: by-day/2011-05-15.csv   \n",
            "  inflating: by-day/2011-05-16.csv   \n",
            "  inflating: by-day/2011-05-17.csv   \n",
            "  inflating: by-day/2011-05-18.csv   \n",
            "  inflating: by-day/2011-05-19.csv   \n",
            "  inflating: by-day/2011-05-20.csv   \n",
            "  inflating: by-day/2011-05-22.csv   \n",
            "  inflating: by-day/2011-05-23.csv   \n",
            "  inflating: by-day/2011-05-24.csv   \n",
            "  inflating: by-day/2011-05-25.csv   \n",
            "  inflating: by-day/2011-05-26.csv   \n",
            "  inflating: by-day/2011-05-27.csv   \n",
            "  inflating: by-day/2011-05-29.csv   \n",
            "  inflating: by-day/2011-05-31.csv   \n",
            "  inflating: by-day/2011-06-01.csv   \n",
            "  inflating: by-day/2011-06-02.csv   \n",
            "  inflating: by-day/2011-06-03.csv   \n",
            "  inflating: by-day/2011-06-05.csv   \n",
            "  inflating: by-day/2011-06-06.csv   \n",
            "  inflating: by-day/2011-06-07.csv   \n",
            "  inflating: by-day/2011-06-08.csv   \n",
            "  inflating: by-day/2011-06-09.csv   \n",
            "  inflating: by-day/2011-06-10.csv   \n",
            "  inflating: by-day/2011-06-12.csv   \n",
            "  inflating: by-day/2011-06-13.csv   \n",
            "  inflating: by-day/2011-06-14.csv   \n",
            "  inflating: by-day/2011-06-15.csv   \n",
            "  inflating: by-day/2011-06-16.csv   \n",
            "  inflating: by-day/2011-06-17.csv   \n",
            "  inflating: by-day/2011-06-19.csv   \n",
            "  inflating: by-day/2011-06-20.csv   \n",
            "  inflating: by-day/2011-06-21.csv   \n",
            "  inflating: by-day/2011-06-22.csv   \n",
            "  inflating: by-day/2011-06-23.csv   \n",
            "  inflating: by-day/2011-06-24.csv   \n",
            "  inflating: by-day/2011-06-26.csv   \n",
            "  inflating: by-day/2011-06-27.csv   \n",
            "  inflating: by-day/2011-06-28.csv   \n",
            "  inflating: by-day/2011-06-29.csv   \n",
            "  inflating: by-day/2011-06-30.csv   \n",
            "  inflating: by-day/2011-07-01.csv   \n",
            "  inflating: by-day/2011-07-03.csv   \n",
            "  inflating: by-day/2011-07-04.csv   \n",
            "  inflating: by-day/2011-07-05.csv   \n",
            "  inflating: by-day/2011-07-06.csv   \n",
            "  inflating: by-day/2011-07-07.csv   \n",
            "  inflating: by-day/2011-07-08.csv   \n",
            "  inflating: by-day/2011-07-10.csv   \n",
            "  inflating: by-day/2011-07-11.csv   \n",
            "  inflating: by-day/2011-07-12.csv   \n",
            "  inflating: by-day/2011-07-13.csv   \n",
            "  inflating: by-day/2011-07-14.csv   \n",
            "  inflating: by-day/2011-07-15.csv   \n",
            "  inflating: by-day/2011-07-17.csv   \n",
            "  inflating: by-day/2011-07-18.csv   \n",
            "  inflating: by-day/2011-07-19.csv   \n",
            "  inflating: by-day/2011-07-20.csv   \n",
            "  inflating: by-day/2011-07-21.csv   \n",
            "  inflating: by-day/2011-07-22.csv   \n",
            "  inflating: by-day/2011-07-24.csv   \n",
            "  inflating: by-day/2011-07-25.csv   \n",
            "  inflating: by-day/2011-07-26.csv   \n",
            "  inflating: by-day/2011-07-27.csv   \n",
            "  inflating: by-day/2011-07-28.csv   \n",
            "  inflating: by-day/2011-07-29.csv   \n",
            "  inflating: by-day/2011-07-31.csv   \n",
            "  inflating: by-day/2011-08-01.csv   \n",
            "  inflating: by-day/2011-08-02.csv   \n",
            "  inflating: by-day/2011-08-03.csv   \n",
            "  inflating: by-day/2011-08-04.csv   \n",
            "  inflating: by-day/2011-08-05.csv   \n",
            "  inflating: by-day/2011-08-07.csv   \n",
            "  inflating: by-day/2011-08-08.csv   \n",
            "  inflating: by-day/2011-08-09.csv   \n",
            "  inflating: by-day/2011-08-10.csv   \n",
            "  inflating: by-day/2011-08-11.csv   \n",
            "  inflating: by-day/2011-08-12.csv   \n",
            "  inflating: by-day/2011-08-14.csv   \n",
            "  inflating: by-day/2011-08-15.csv   \n",
            "  inflating: by-day/2011-08-16.csv   \n",
            "  inflating: by-day/2011-08-17.csv   \n",
            "  inflating: by-day/2011-08-18.csv   \n",
            "  inflating: by-day/2011-08-19.csv   \n",
            "  inflating: by-day/2011-08-21.csv   \n",
            "  inflating: by-day/2011-08-22.csv   \n",
            "  inflating: by-day/2011-08-23.csv   \n",
            "  inflating: by-day/2011-08-24.csv   \n",
            "  inflating: by-day/2011-08-25.csv   \n",
            "  inflating: by-day/2011-08-26.csv   \n",
            "  inflating: by-day/2011-08-28.csv   \n",
            "  inflating: by-day/2011-08-30.csv   \n",
            "  inflating: by-day/2011-08-31.csv   \n",
            "  inflating: by-day/2011-09-01.csv   \n",
            "  inflating: by-day/2011-09-02.csv   \n",
            "  inflating: by-day/2011-09-04.csv   \n",
            "  inflating: by-day/2011-09-05.csv   \n",
            "  inflating: by-day/2011-09-06.csv   \n",
            "  inflating: by-day/2011-09-07.csv   \n",
            "  inflating: by-day/2011-09-08.csv   \n",
            "  inflating: by-day/2011-09-09.csv   \n",
            "  inflating: by-day/2011-09-11.csv   \n",
            "  inflating: by-day/2011-09-12.csv   \n",
            "  inflating: by-day/2011-09-13.csv   \n",
            "  inflating: by-day/2011-09-14.csv   \n",
            "  inflating: by-day/2011-09-15.csv   \n",
            "  inflating: by-day/2011-09-16.csv   \n",
            "  inflating: by-day/2011-09-18.csv   \n",
            "  inflating: by-day/2011-09-19.csv   \n",
            "  inflating: by-day/2011-09-20.csv   \n",
            "  inflating: by-day/2011-09-21.csv   \n",
            "  inflating: by-day/2011-09-22.csv   \n",
            "  inflating: by-day/2011-09-23.csv   \n",
            "  inflating: by-day/2011-09-25.csv   \n",
            "  inflating: by-day/2011-09-26.csv   \n",
            "  inflating: by-day/2011-09-27.csv   \n",
            "  inflating: by-day/2011-09-28.csv   \n",
            "  inflating: by-day/2011-09-29.csv   \n",
            "  inflating: by-day/2011-09-30.csv   \n",
            "  inflating: by-day/2011-10-02.csv   \n",
            "  inflating: by-day/2011-10-03.csv   \n",
            "  inflating: by-day/2011-10-04.csv   \n",
            "  inflating: by-day/2011-10-05.csv   \n",
            "  inflating: by-day/2011-10-06.csv   \n",
            "  inflating: by-day/2011-10-07.csv   \n",
            "  inflating: by-day/2011-10-09.csv   \n",
            "  inflating: by-day/2011-10-10.csv   \n",
            "  inflating: by-day/2011-10-11.csv   \n",
            "  inflating: by-day/2011-10-12.csv   \n",
            "  inflating: by-day/2011-10-13.csv   \n",
            "  inflating: by-day/2011-10-14.csv   \n",
            "  inflating: by-day/2011-10-16.csv   \n",
            "  inflating: by-day/2011-10-17.csv   \n",
            "  inflating: by-day/2011-10-18.csv   \n",
            "  inflating: by-day/2011-10-19.csv   \n",
            "  inflating: by-day/2011-10-20.csv   \n",
            "  inflating: by-day/2011-10-21.csv   \n",
            "  inflating: by-day/2011-10-23.csv   \n",
            "  inflating: by-day/2011-10-24.csv   \n",
            "  inflating: by-day/2011-10-25.csv   \n",
            "  inflating: by-day/2011-10-26.csv   \n",
            "  inflating: by-day/2011-10-27.csv   \n",
            "  inflating: by-day/2011-10-28.csv   \n",
            "  inflating: by-day/2011-10-30.csv   \n",
            "  inflating: by-day/2011-10-31.csv   \n",
            "  inflating: by-day/2011-11-01.csv   \n",
            "  inflating: by-day/2011-11-02.csv   \n",
            "  inflating: by-day/2011-11-03.csv   \n",
            "  inflating: by-day/2011-11-04.csv   \n",
            "  inflating: by-day/2011-11-06.csv   \n",
            "  inflating: by-day/2011-11-07.csv   \n",
            "  inflating: by-day/2011-11-08.csv   \n",
            "  inflating: by-day/2011-11-09.csv   \n",
            "  inflating: by-day/2011-11-10.csv   \n",
            "  inflating: by-day/2011-11-11.csv   \n",
            "  inflating: by-day/2011-11-13.csv   \n",
            "  inflating: by-day/2011-11-14.csv   \n",
            "  inflating: by-day/2011-11-15.csv   \n",
            "  inflating: by-day/2011-11-16.csv   \n",
            "  inflating: by-day/2011-11-17.csv   \n",
            "  inflating: by-day/2011-11-18.csv   \n",
            "  inflating: by-day/2011-11-20.csv   \n",
            "  inflating: by-day/2011-11-21.csv   \n",
            "  inflating: by-day/2011-11-22.csv   \n",
            "  inflating: by-day/2011-11-23.csv   \n",
            "  inflating: by-day/2011-11-24.csv   \n",
            "  inflating: by-day/2011-11-25.csv   \n",
            "  inflating: by-day/2011-11-27.csv   \n",
            "  inflating: by-day/2011-11-28.csv   \n",
            "  inflating: by-day/2011-11-29.csv   \n",
            "  inflating: by-day/2011-11-30.csv   \n",
            "  inflating: by-day/2011-12-01.csv   \n",
            "  inflating: by-day/2011-12-02.csv   \n",
            "  inflating: by-day/2011-12-04.csv   \n",
            "  inflating: by-day/2011-12-05.csv   \n",
            "  inflating: by-day/2011-12-06.csv   \n",
            "  inflating: by-day/2011-12-07.csv   \n",
            "  inflating: by-day/2011-12-08.csv   \n",
            "  inflating: by-day/2011-12-09.csv   \n"
          ]
        }
      ]
    },
    {
      "cell_type": "code",
      "metadata": {
        "id": "BRuYBRTlgLl8"
      },
      "source": [
        "df1 = spark.read.format('csv').option(\"header\", \"true\").option(\"inferSchema\",\"true\").load(\"by-day/*.csv\")"
      ],
      "execution_count": 11,
      "outputs": []
    },
    {
      "cell_type": "code",
      "metadata": {
        "colab": {
          "base_uri": "https://localhost:8080/"
        },
        "id": "KyyDAMpwiQQj",
        "outputId": "e4906e13-a2a4-48cd-a907-99ed4494972a"
      },
      "source": [
        "df1.show()"
      ],
      "execution_count": 12,
      "outputs": [
        {
          "output_type": "stream",
          "name": "stdout",
          "text": [
            "+---------+---------+--------------------+--------+-------------------+---------+----------+--------------+\n",
            "|InvoiceNo|StockCode|         Description|Quantity|        InvoiceDate|UnitPrice|CustomerID|       Country|\n",
            "+---------+---------+--------------------+--------+-------------------+---------+----------+--------------+\n",
            "|   580538|    23084|  RABBIT NIGHT LIGHT|      48|2011-12-05 08:38:00|     1.79|   14075.0|United Kingdom|\n",
            "|   580538|    23077| DOUGHNUT LIP GLOSS |      20|2011-12-05 08:38:00|     1.25|   14075.0|United Kingdom|\n",
            "|   580538|    22906|12 MESSAGE CARDS ...|      24|2011-12-05 08:38:00|     1.65|   14075.0|United Kingdom|\n",
            "|   580538|    21914|BLUE HARMONICA IN...|      24|2011-12-05 08:38:00|     1.25|   14075.0|United Kingdom|\n",
            "|   580538|    22467|   GUMBALL COAT RACK|       6|2011-12-05 08:38:00|     2.55|   14075.0|United Kingdom|\n",
            "|   580538|    21544|SKULLS  WATER TRA...|      48|2011-12-05 08:38:00|     0.85|   14075.0|United Kingdom|\n",
            "|   580538|    23126|FELTCRAFT GIRL AM...|       8|2011-12-05 08:38:00|     4.95|   14075.0|United Kingdom|\n",
            "|   580538|    21833|CAMOUFLAGE LED TORCH|      24|2011-12-05 08:38:00|     1.69|   14075.0|United Kingdom|\n",
            "|   580539|    21479|WHITE SKULL HOT W...|       4|2011-12-05 08:39:00|     4.25|   18180.0|United Kingdom|\n",
            "|   580539|   84030E|ENGLISH ROSE HOT ...|       4|2011-12-05 08:39:00|     4.25|   18180.0|United Kingdom|\n",
            "|   580539|    23355|HOT WATER BOTTLE ...|       4|2011-12-05 08:39:00|     4.95|   18180.0|United Kingdom|\n",
            "|   580539|    22111|SCOTTIE DOG HOT W...|       3|2011-12-05 08:39:00|     4.95|   18180.0|United Kingdom|\n",
            "|   580539|    21115|ROSE CARAVAN DOOR...|       8|2011-12-05 08:39:00|     1.95|   18180.0|United Kingdom|\n",
            "|   580539|    21411|GINGHAM HEART  DO...|       8|2011-12-05 08:39:00|     1.95|   18180.0|United Kingdom|\n",
            "|   580539|    23235|STORAGE TIN VINTA...|      12|2011-12-05 08:39:00|     1.25|   18180.0|United Kingdom|\n",
            "|   580539|    23239|SET OF 4 KNICK KN...|       6|2011-12-05 08:39:00|     1.65|   18180.0|United Kingdom|\n",
            "|   580539|    22197|      POPCORN HOLDER|      36|2011-12-05 08:39:00|     0.85|   18180.0|United Kingdom|\n",
            "|   580539|    22693|GROW A FLYTRAP OR...|      24|2011-12-05 08:39:00|     1.25|   18180.0|United Kingdom|\n",
            "|   580539|    22372|AIRLINE BAG VINTA...|       4|2011-12-05 08:39:00|     4.25|   18180.0|United Kingdom|\n",
            "|   580539|    22375|AIRLINE BAG VINTA...|       4|2011-12-05 08:39:00|     4.25|   18180.0|United Kingdom|\n",
            "+---------+---------+--------------------+--------+-------------------+---------+----------+--------------+\n",
            "only showing top 20 rows\n",
            "\n"
          ]
        }
      ]
    },
    {
      "cell_type": "code",
      "metadata": {
        "colab": {
          "base_uri": "https://localhost:8080/"
        },
        "id": "QlUOfi2giW0n",
        "outputId": "3819743a-796b-44cd-b2de-7607bb582084"
      },
      "source": [
        "from pyspark.sql.functions import col\n",
        "df1 = df1.select(df1.columns).where(~col(\"Description\").like(\"% WATER %\"))\n",
        "df1.show()"
      ],
      "execution_count": 13,
      "outputs": [
        {
          "output_type": "stream",
          "name": "stdout",
          "text": [
            "+---------+---------+--------------------+--------+-------------------+---------+----------+--------------+\n",
            "|InvoiceNo|StockCode|         Description|Quantity|        InvoiceDate|UnitPrice|CustomerID|       Country|\n",
            "+---------+---------+--------------------+--------+-------------------+---------+----------+--------------+\n",
            "|   580538|    23084|  RABBIT NIGHT LIGHT|      48|2011-12-05 08:38:00|     1.79|   14075.0|United Kingdom|\n",
            "|   580538|    23077| DOUGHNUT LIP GLOSS |      20|2011-12-05 08:38:00|     1.25|   14075.0|United Kingdom|\n",
            "|   580538|    22906|12 MESSAGE CARDS ...|      24|2011-12-05 08:38:00|     1.65|   14075.0|United Kingdom|\n",
            "|   580538|    21914|BLUE HARMONICA IN...|      24|2011-12-05 08:38:00|     1.25|   14075.0|United Kingdom|\n",
            "|   580538|    22467|   GUMBALL COAT RACK|       6|2011-12-05 08:38:00|     2.55|   14075.0|United Kingdom|\n",
            "|   580538|    23126|FELTCRAFT GIRL AM...|       8|2011-12-05 08:38:00|     4.95|   14075.0|United Kingdom|\n",
            "|   580538|    21833|CAMOUFLAGE LED TORCH|      24|2011-12-05 08:38:00|     1.69|   14075.0|United Kingdom|\n",
            "|   580539|    21115|ROSE CARAVAN DOOR...|       8|2011-12-05 08:39:00|     1.95|   18180.0|United Kingdom|\n",
            "|   580539|    21411|GINGHAM HEART  DO...|       8|2011-12-05 08:39:00|     1.95|   18180.0|United Kingdom|\n",
            "|   580539|    23235|STORAGE TIN VINTA...|      12|2011-12-05 08:39:00|     1.25|   18180.0|United Kingdom|\n",
            "|   580539|    23239|SET OF 4 KNICK KN...|       6|2011-12-05 08:39:00|     1.65|   18180.0|United Kingdom|\n",
            "|   580539|    22197|      POPCORN HOLDER|      36|2011-12-05 08:39:00|     0.85|   18180.0|United Kingdom|\n",
            "|   580539|    22693|GROW A FLYTRAP OR...|      24|2011-12-05 08:39:00|     1.25|   18180.0|United Kingdom|\n",
            "|   580539|    22372|AIRLINE BAG VINTA...|       4|2011-12-05 08:39:00|     4.25|   18180.0|United Kingdom|\n",
            "|   580539|    22375|AIRLINE BAG VINTA...|       4|2011-12-05 08:39:00|     4.25|   18180.0|United Kingdom|\n",
            "|   580539|    22074|6 RIBBONS SHIMMER...|      24|2011-12-05 08:39:00|     0.39|   18180.0|United Kingdom|\n",
            "|   580539|    22075|6 RIBBONS ELEGANT...|      24|2011-12-05 08:39:00|     0.39|   18180.0|United Kingdom|\n",
            "|   580539|    22076|  6 RIBBONS EMPIRE  |      24|2011-12-05 08:39:00|     0.39|   18180.0|United Kingdom|\n",
            "|   580539|    22389|PAPERWEIGHT SAVE ...|      12|2011-12-05 08:39:00|     0.39|   18180.0|United Kingdom|\n",
            "|   580539|    22391|PAPERWEIGHT HOME ...|      12|2011-12-05 08:39:00|     0.39|   18180.0|United Kingdom|\n",
            "+---------+---------+--------------------+--------+-------------------+---------+----------+--------------+\n",
            "only showing top 20 rows\n",
            "\n"
          ]
        }
      ]
    },
    {
      "cell_type": "markdown",
      "metadata": {
        "id": "wGo_Zj4spGtP"
      },
      "source": [
        "Solve the same question using raw SQL."
      ]
    },
    {
      "cell_type": "code",
      "metadata": {
        "id": "9OUiBj6Mj2jj"
      },
      "source": [
        "from pyspark.sql.functions import desc\n",
        "df2 = df1.selectExpr(\"CustomerID\", \"(UnitPrice * Quantity) as total_cost\").groupby(col(\"CustomerID\")).sum(\"total_cost\").sort(desc(\"sum(total_cost)\"))"
      ],
      "execution_count": 14,
      "outputs": []
    },
    {
      "cell_type": "code",
      "metadata": {
        "id": "_iByT8azqEj9",
        "colab": {
          "base_uri": "https://localhost:8080/"
        },
        "outputId": "e85436f4-31f8-46ce-c9fe-16b6df7797d0"
      },
      "source": [
        "df2.show()"
      ],
      "execution_count": 15,
      "outputs": [
        {
          "output_type": "stream",
          "name": "stdout",
          "text": [
            "+----------+------------------+\n",
            "|CustomerID|   sum(total_cost)|\n",
            "+----------+------------------+\n",
            "|      null|1369607.5800000506|\n",
            "|   14646.0| 276588.9899999999|\n",
            "|   18102.0|256438.48999999993|\n",
            "|   17450.0|         179989.37|\n",
            "|   14911.0|129805.12000000016|\n",
            "|   12415.0|123556.25000000001|\n",
            "|   14156.0|109706.65000000004|\n",
            "|   17511.0| 86752.45999999999|\n",
            "|   13694.0|           62653.1|\n",
            "|   16684.0|62095.280000000006|\n",
            "|   15311.0| 59394.58999999995|\n",
            "|   14096.0| 56220.29999999983|\n",
            "|   15061.0| 54228.73999999999|\n",
            "|   13089.0| 53372.35999999998|\n",
            "|   17949.0|          52750.84|\n",
            "|   15769.0|          51731.92|\n",
            "|   16029.0|          50992.61|\n",
            "|   14298.0| 49660.00999999999|\n",
            "|   14088.0|          49077.91|\n",
            "|   17841.0| 39383.76999999996|\n",
            "+----------+------------------+\n",
            "only showing top 20 rows\n",
            "\n"
          ]
        }
      ]
    },
    {
      "cell_type": "code",
      "metadata": {
        "id": "KcFOccAttCF1"
      },
      "source": [
        "df1 = spark.read.format('csv').option(\"header\", \"true\").option(\"inferSchema\",\"true\").load(\"by-day/*.csv\")\n",
        "df1.createOrReplaceTempView('my_retail')"
      ],
      "execution_count": 16,
      "outputs": []
    },
    {
      "cell_type": "code",
      "metadata": {
        "id": "PcOrNAFqqvPV"
      },
      "source": [
        "sqlQuery = spark.sql(\"\"\" SELECT CustomerID, sum(Quantity* UnitPrice) AS Total from my_retail WHERE Description NOT LIKE '% WATER %' GROUP BY CustomerID ORDER BY Total DESC \"\"\")"
      ],
      "execution_count": 17,
      "outputs": []
    },
    {
      "cell_type": "code",
      "metadata": {
        "colab": {
          "base_uri": "https://localhost:8080/"
        },
        "id": "ILluDdzL7FKi",
        "outputId": "d5ce64c1-b368-453a-ab73-f371cdc25a93"
      },
      "source": [
        "sqlQuery.show()"
      ],
      "execution_count": 18,
      "outputs": [
        {
          "output_type": "stream",
          "name": "stdout",
          "text": [
            "+----------+------------------+\n",
            "|CustomerID|             Total|\n",
            "+----------+------------------+\n",
            "|      null|1369607.5800000506|\n",
            "|   14646.0| 276588.9899999999|\n",
            "|   18102.0|256438.48999999993|\n",
            "|   17450.0|         179989.37|\n",
            "|   14911.0|129805.12000000016|\n",
            "|   12415.0|123556.25000000001|\n",
            "|   14156.0|109706.65000000004|\n",
            "|   17511.0| 86752.45999999999|\n",
            "|   13694.0|           62653.1|\n",
            "|   16684.0|62095.280000000006|\n",
            "|   15311.0| 59394.58999999995|\n",
            "|   14096.0| 56220.29999999983|\n",
            "|   15061.0| 54228.73999999999|\n",
            "|   13089.0| 53372.35999999998|\n",
            "|   17949.0|          52750.84|\n",
            "|   15769.0|          51731.92|\n",
            "|   16029.0|          50992.61|\n",
            "|   14298.0| 49660.00999999999|\n",
            "|   14088.0|          49077.91|\n",
            "|   17841.0| 39383.76999999996|\n",
            "+----------+------------------+\n",
            "only showing top 20 rows\n",
            "\n"
          ]
        }
      ]
    },
    {
      "cell_type": "markdown",
      "metadata": {
        "id": "xkz4tSOmtiLK"
      },
      "source": [
        "#**Challenge 2-  Pipeline**"
      ]
    },
    {
      "cell_type": "markdown",
      "metadata": {
        "id": "nr02vZK_w6Tt"
      },
      "source": [
        "Applying the following tasks to create your ML pipeline :\n",
        "\n",
        "1. First, read all the files in the `by-day` folder.\n",
        "2. Next, create a pipeline using the `Pipeline()` function, in which the indexer is followed by the assembler.\n",
        "3. Afterwards, fit and transform the data at hand using the pipeline we created which includes: StringIndexer and VectorAssembler. \n"
      ]
    },
    {
      "cell_type": "code",
      "metadata": {
        "id": "ERqP3Jgpwhaf"
      },
      "source": [
        "from pyspark.ml.feature import StringIndexer, OneHotEncoder, VectorAssembler\n",
        "sindexer = StringIndexer().setInputCol(\"day_of_week\").setOutputCol(\"day_of_week_indexed\")\n",
        "va = VectorAssembler().setInputCols([\"UnitPrice\",\"Quantity\", \"day_of_week_indexed\"]).setOutputCol(\"Unit-Quantity-day_of_week\")"
      ],
      "execution_count": 25,
      "outputs": []
    },
    {
      "cell_type": "code",
      "metadata": {
        "id": "KnRX558ps3Kg"
      },
      "source": [
        "from pyspark.sql.functions import date_format,col\n",
        "my_df = df1.withColumn(\"day_of_week\",date_format(col(\"InvoiceDate\"),\"EEEE\"))"
      ],
      "execution_count": 26,
      "outputs": []
    },
    {
      "cell_type": "code",
      "metadata": {
        "id": "2xYFb6qPtg-X",
        "colab": {
          "base_uri": "https://localhost:8080/"
        },
        "outputId": "17ec8dec-76f6-4779-852d-7528ecebf60b"
      },
      "source": [
        "my_df.show()"
      ],
      "execution_count": 27,
      "outputs": [
        {
          "output_type": "stream",
          "name": "stdout",
          "text": [
            "+---------+---------+--------------------+--------+-------------------+---------+----------+--------------+-----------+\n",
            "|InvoiceNo|StockCode|         Description|Quantity|        InvoiceDate|UnitPrice|CustomerID|       Country|day_of_week|\n",
            "+---------+---------+--------------------+--------+-------------------+---------+----------+--------------+-----------+\n",
            "|   580538|    23084|  RABBIT NIGHT LIGHT|      48|2011-12-05 08:38:00|     1.79|   14075.0|United Kingdom|     Monday|\n",
            "|   580538|    23077| DOUGHNUT LIP GLOSS |      20|2011-12-05 08:38:00|     1.25|   14075.0|United Kingdom|     Monday|\n",
            "|   580538|    22906|12 MESSAGE CARDS ...|      24|2011-12-05 08:38:00|     1.65|   14075.0|United Kingdom|     Monday|\n",
            "|   580538|    21914|BLUE HARMONICA IN...|      24|2011-12-05 08:38:00|     1.25|   14075.0|United Kingdom|     Monday|\n",
            "|   580538|    22467|   GUMBALL COAT RACK|       6|2011-12-05 08:38:00|     2.55|   14075.0|United Kingdom|     Monday|\n",
            "|   580538|    21544|SKULLS  WATER TRA...|      48|2011-12-05 08:38:00|     0.85|   14075.0|United Kingdom|     Monday|\n",
            "|   580538|    23126|FELTCRAFT GIRL AM...|       8|2011-12-05 08:38:00|     4.95|   14075.0|United Kingdom|     Monday|\n",
            "|   580538|    21833|CAMOUFLAGE LED TORCH|      24|2011-12-05 08:38:00|     1.69|   14075.0|United Kingdom|     Monday|\n",
            "|   580539|    21479|WHITE SKULL HOT W...|       4|2011-12-05 08:39:00|     4.25|   18180.0|United Kingdom|     Monday|\n",
            "|   580539|   84030E|ENGLISH ROSE HOT ...|       4|2011-12-05 08:39:00|     4.25|   18180.0|United Kingdom|     Monday|\n",
            "|   580539|    23355|HOT WATER BOTTLE ...|       4|2011-12-05 08:39:00|     4.95|   18180.0|United Kingdom|     Monday|\n",
            "|   580539|    22111|SCOTTIE DOG HOT W...|       3|2011-12-05 08:39:00|     4.95|   18180.0|United Kingdom|     Monday|\n",
            "|   580539|    21115|ROSE CARAVAN DOOR...|       8|2011-12-05 08:39:00|     1.95|   18180.0|United Kingdom|     Monday|\n",
            "|   580539|    21411|GINGHAM HEART  DO...|       8|2011-12-05 08:39:00|     1.95|   18180.0|United Kingdom|     Monday|\n",
            "|   580539|    23235|STORAGE TIN VINTA...|      12|2011-12-05 08:39:00|     1.25|   18180.0|United Kingdom|     Monday|\n",
            "|   580539|    23239|SET OF 4 KNICK KN...|       6|2011-12-05 08:39:00|     1.65|   18180.0|United Kingdom|     Monday|\n",
            "|   580539|    22197|      POPCORN HOLDER|      36|2011-12-05 08:39:00|     0.85|   18180.0|United Kingdom|     Monday|\n",
            "|   580539|    22693|GROW A FLYTRAP OR...|      24|2011-12-05 08:39:00|     1.25|   18180.0|United Kingdom|     Monday|\n",
            "|   580539|    22372|AIRLINE BAG VINTA...|       4|2011-12-05 08:39:00|     4.25|   18180.0|United Kingdom|     Monday|\n",
            "|   580539|    22375|AIRLINE BAG VINTA...|       4|2011-12-05 08:39:00|     4.25|   18180.0|United Kingdom|     Monday|\n",
            "+---------+---------+--------------------+--------+-------------------+---------+----------+--------------+-----------+\n",
            "only showing top 20 rows\n",
            "\n"
          ]
        }
      ]
    },
    {
      "cell_type": "code",
      "metadata": {
        "id": "xUK0TPAvwKIS"
      },
      "source": [
        "from pyspark.ml import Pipeline\n",
        "my_pl = Pipeline().setStages([sindexer,va])"
      ],
      "execution_count": 28,
      "outputs": []
    },
    {
      "cell_type": "code",
      "metadata": {
        "id": "LuqXX7eFwLjB"
      },
      "source": [
        "fittedpl = my_pl.fit(my_df)\n",
        "transpl = fittedpl.transform(my_df)"
      ],
      "execution_count": 29,
      "outputs": []
    },
    {
      "cell_type": "code",
      "metadata": {
        "colab": {
          "base_uri": "https://localhost:8080/"
        },
        "id": "6clkyO9RwMxZ",
        "outputId": "6d205587-78fa-454f-9150-6c3907ddc65e"
      },
      "source": [
        "transpl.show()"
      ],
      "execution_count": 30,
      "outputs": [
        {
          "output_type": "stream",
          "name": "stdout",
          "text": [
            "+---------+---------+--------------------+--------+-------------------+---------+----------+--------------+-----------+-------------------+-------------------------+\n",
            "|InvoiceNo|StockCode|         Description|Quantity|        InvoiceDate|UnitPrice|CustomerID|       Country|day_of_week|day_of_week_indexed|Unit-Quantity-day_of_week|\n",
            "+---------+---------+--------------------+--------+-------------------+---------+----------+--------------+-----------+-------------------+-------------------------+\n",
            "|   580538|    23084|  RABBIT NIGHT LIGHT|      48|2011-12-05 08:38:00|     1.79|   14075.0|United Kingdom|     Monday|                2.0|          [1.79,48.0,2.0]|\n",
            "|   580538|    23077| DOUGHNUT LIP GLOSS |      20|2011-12-05 08:38:00|     1.25|   14075.0|United Kingdom|     Monday|                2.0|          [1.25,20.0,2.0]|\n",
            "|   580538|    22906|12 MESSAGE CARDS ...|      24|2011-12-05 08:38:00|     1.65|   14075.0|United Kingdom|     Monday|                2.0|          [1.65,24.0,2.0]|\n",
            "|   580538|    21914|BLUE HARMONICA IN...|      24|2011-12-05 08:38:00|     1.25|   14075.0|United Kingdom|     Monday|                2.0|          [1.25,24.0,2.0]|\n",
            "|   580538|    22467|   GUMBALL COAT RACK|       6|2011-12-05 08:38:00|     2.55|   14075.0|United Kingdom|     Monday|                2.0|           [2.55,6.0,2.0]|\n",
            "|   580538|    21544|SKULLS  WATER TRA...|      48|2011-12-05 08:38:00|     0.85|   14075.0|United Kingdom|     Monday|                2.0|          [0.85,48.0,2.0]|\n",
            "|   580538|    23126|FELTCRAFT GIRL AM...|       8|2011-12-05 08:38:00|     4.95|   14075.0|United Kingdom|     Monday|                2.0|           [4.95,8.0,2.0]|\n",
            "|   580538|    21833|CAMOUFLAGE LED TORCH|      24|2011-12-05 08:38:00|     1.69|   14075.0|United Kingdom|     Monday|                2.0|          [1.69,24.0,2.0]|\n",
            "|   580539|    21479|WHITE SKULL HOT W...|       4|2011-12-05 08:39:00|     4.25|   18180.0|United Kingdom|     Monday|                2.0|           [4.25,4.0,2.0]|\n",
            "|   580539|   84030E|ENGLISH ROSE HOT ...|       4|2011-12-05 08:39:00|     4.25|   18180.0|United Kingdom|     Monday|                2.0|           [4.25,4.0,2.0]|\n",
            "|   580539|    23355|HOT WATER BOTTLE ...|       4|2011-12-05 08:39:00|     4.95|   18180.0|United Kingdom|     Monday|                2.0|           [4.95,4.0,2.0]|\n",
            "|   580539|    22111|SCOTTIE DOG HOT W...|       3|2011-12-05 08:39:00|     4.95|   18180.0|United Kingdom|     Monday|                2.0|           [4.95,3.0,2.0]|\n",
            "|   580539|    21115|ROSE CARAVAN DOOR...|       8|2011-12-05 08:39:00|     1.95|   18180.0|United Kingdom|     Monday|                2.0|           [1.95,8.0,2.0]|\n",
            "|   580539|    21411|GINGHAM HEART  DO...|       8|2011-12-05 08:39:00|     1.95|   18180.0|United Kingdom|     Monday|                2.0|           [1.95,8.0,2.0]|\n",
            "|   580539|    23235|STORAGE TIN VINTA...|      12|2011-12-05 08:39:00|     1.25|   18180.0|United Kingdom|     Monday|                2.0|          [1.25,12.0,2.0]|\n",
            "|   580539|    23239|SET OF 4 KNICK KN...|       6|2011-12-05 08:39:00|     1.65|   18180.0|United Kingdom|     Monday|                2.0|           [1.65,6.0,2.0]|\n",
            "|   580539|    22197|      POPCORN HOLDER|      36|2011-12-05 08:39:00|     0.85|   18180.0|United Kingdom|     Monday|                2.0|          [0.85,36.0,2.0]|\n",
            "|   580539|    22693|GROW A FLYTRAP OR...|      24|2011-12-05 08:39:00|     1.25|   18180.0|United Kingdom|     Monday|                2.0|          [1.25,24.0,2.0]|\n",
            "|   580539|    22372|AIRLINE BAG VINTA...|       4|2011-12-05 08:39:00|     4.25|   18180.0|United Kingdom|     Monday|                2.0|           [4.25,4.0,2.0]|\n",
            "|   580539|    22375|AIRLINE BAG VINTA...|       4|2011-12-05 08:39:00|     4.25|   18180.0|United Kingdom|     Monday|                2.0|           [4.25,4.0,2.0]|\n",
            "+---------+---------+--------------------+--------+-------------------+---------+----------+--------------+-----------+-------------------+-------------------------+\n",
            "only showing top 20 rows\n",
            "\n"
          ]
        }
      ]
    }
  ]
}